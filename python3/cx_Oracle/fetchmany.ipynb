{
 "cells": [
  {
   "cell_type": "code",
   "execution_count": 106,
   "metadata": {},
   "outputs": [],
   "source": [
    "import os\n",
    "import cx_Oracle\n",
    "import pandas as pd\n",
    "from pandas import DataFrame as df\n",
    "\n",
    "\n",
    "ora_id = os.environ['ORACLE_ID']\n",
    "ora_pw = os.environ['ORACLE_PW']\n",
    "ora_ip = os.environ['ORACLE_IP']\n",
    "ora_port = os.environ['ORACLE_PORT']\n",
    "ora_sid = os.environ['ORACLE_SID']\n",
    "\n",
    "# (예시) scott/tiger@127.0.0.1:1521/orcl\n",
    "ora_addr = ora_id+'/' + ora_pw + '@' + ora_ip + ':' + ora_port + '/' + ora_sid\n",
    "\n",
    "conn = cx_Oracle.connect(ora_addr)\n",
    "\n",
    "cur_sel = conn.cursor()\n",
    "cur_ins = conn.cursor()\n",
    "cur_del = conn.cursor()\n"
   ]
  },
  {
   "cell_type": "code",
   "execution_count": 112,
   "metadata": {
    "scrolled": true
   },
   "outputs": [
    {
     "name": "stdout",
     "output_type": "stream",
     "text": [
      "[('AD_PRES', 'President', 20080, 40000), ('AD_VP', 'Administration Vice President', 15000, 30000), ('AD_ASST', 'Administration Assistant', 3000, 6000)]\n",
      "[('FI_MGR', 'Finance Manager', 8200, 16000), ('FI_ACCOUNT', 'Accountant', 4200, 9000), ('AC_MGR', 'Accounting Manager', 8200, 16000)]\n",
      "[('AC_ACCOUNT', 'Public Accountant', 4200, 9000), ('SA_MAN', 'Sales Manager', 10000, 20080), ('SA_REP', 'Sales Representative', 6000, 12008)]\n",
      "[('PU_MAN', 'Purchasing Manager', 8000, 15000), ('PU_CLERK', 'Purchasing Clerk', 2500, 5500), ('ST_MAN', 'Stock Manager', 5500, 8500)]\n",
      "[('ST_CLERK', 'Stock Clerk', 2008, 5000), ('SH_CLERK', 'Shipping Clerk', 2500, 5500), ('IT_PROG', 'Programmer', 4000, 10000)]\n",
      "[('MK_MAN', 'Marketing Manager', 9000, 15000), ('MK_REP', 'Marketing Representative', 4000, 9000), ('HR_REP', 'Human Resources Representative', 4000, 9000)]\n",
      "[('PR_REP', 'Public Relations Representative', 4500, 10500)]\n"
     ]
    }
   ],
   "source": [
    "sql = 'SELECT * FROM HR.JOBS '\n",
    "\n",
    "cur_sel.arraysize = 3\n",
    "\n",
    "# 커서에 sql 셋팅\n",
    "cur_sel.execute(sql)\n",
    "\n",
    "# fetchsize 만큼 리스트 형태로 리턴 (정확히는 리스트안에 튜플들이 담겨있음.)\n",
    "rows = cur_sel.fetchmany()\n",
    "# rows = cur_sel.fetchmany(numRows=1)\n",
    "\n",
    "# 더이상 결과가 없으면 빈리스트로 리턴.\n",
    "while len(rows) != 0 :\n",
    "    \n",
    "    print(rows)\n",
    "    \n",
    "    # 여러 결과를 한번에 insert 처리.\n",
    "    cur_ins.executemany(\"\"\"\n",
    "    INSERT INTO HR.JOBS2\n",
    "    (JOB_ID, JOB_TITLE, MIN_SALARY, MAX_SALARY)\n",
    "    VALUES(:1, :2, :3, :4)\n",
    "    \"\"\", rows)\n",
    "\n",
    "    conn.commit()\n",
    "    \n",
    "    rows = cur_sel.fetchmany()\n",
    "    \n"
   ]
  },
  {
   "cell_type": "code",
   "execution_count": 117,
   "metadata": {
    "scrolled": false
   },
   "outputs": [
    {
     "data": {
      "text/html": [
       "<div>\n",
       "<style scoped>\n",
       "    .dataframe tbody tr th:only-of-type {\n",
       "        vertical-align: middle;\n",
       "    }\n",
       "\n",
       "    .dataframe tbody tr th {\n",
       "        vertical-align: top;\n",
       "    }\n",
       "\n",
       "    .dataframe thead th {\n",
       "        text-align: right;\n",
       "    }\n",
       "</style>\n",
       "<table border=\"1\" class=\"dataframe\">\n",
       "  <thead>\n",
       "    <tr style=\"text-align: right;\">\n",
       "      <th></th>\n",
       "      <th>JOB_ID</th>\n",
       "      <th>JOB_TITLE</th>\n",
       "      <th>MIN_SALARY</th>\n",
       "      <th>MAX_SALARY</th>\n",
       "    </tr>\n",
       "  </thead>\n",
       "  <tbody>\n",
       "  </tbody>\n",
       "</table>\n",
       "</div>"
      ],
      "text/plain": [
       "Empty DataFrame\n",
       "Columns: [JOB_ID, JOB_TITLE, MIN_SALARY, MAX_SALARY]\n",
       "Index: []"
      ]
     },
     "execution_count": 117,
     "metadata": {},
     "output_type": "execute_result"
    }
   ],
   "source": [
    "sql = 'SELECT * FROM HR.JOBS2 '\n",
    "\n",
    "df = pd.read_sql(sql, conn)\n",
    "df"
   ]
  },
  {
   "cell_type": "code",
   "execution_count": 115,
   "metadata": {},
   "outputs": [
    {
     "name": "stdout",
     "output_type": "stream",
     "text": [
      "('AD_PRES', 'President', 20080, 40000)\n",
      "('AD_VP', 'Administration Vice President', 15000, 30000)\n",
      "('AD_ASST', 'Administration Assistant', 3000, 6000)\n",
      "('FI_MGR', 'Finance Manager', 8200, 16000)\n",
      "('FI_ACCOUNT', 'Accountant', 4200, 9000)\n",
      "('AC_MGR', 'Accounting Manager', 8200, 16000)\n",
      "('AC_ACCOUNT', 'Public Accountant', 4200, 9000)\n",
      "('SA_MAN', 'Sales Manager', 10000, 20080)\n",
      "('SA_REP', 'Sales Representative', 6000, 12008)\n",
      "('PU_MAN', 'Purchasing Manager', 8000, 15000)\n",
      "('PU_CLERK', 'Purchasing Clerk', 2500, 5500)\n",
      "('ST_MAN', 'Stock Manager', 5500, 8500)\n",
      "('ST_CLERK', 'Stock Clerk', 2008, 5000)\n",
      "('SH_CLERK', 'Shipping Clerk', 2500, 5500)\n",
      "('IT_PROG', 'Programmer', 4000, 10000)\n",
      "('MK_MAN', 'Marketing Manager', 9000, 15000)\n",
      "('MK_REP', 'Marketing Representative', 4000, 9000)\n",
      "('HR_REP', 'Human Resources Representative', 4000, 9000)\n",
      "('PR_REP', 'Public Relations Representative', 4500, 10500)\n"
     ]
    }
   ],
   "source": [
    "\n",
    "sql = 'SELECT * FROM HR.JOBS '\n",
    "\n",
    "cur_sel.arraysize = 3\n",
    "\n",
    "# 커서에 sql 셋팅\n",
    "cur_sel.execute(sql)\n",
    "\n",
    "# fetchsize 만큼 리스트 형태로 리턴 (정확히는 리스트안에 튜플들이 담겨있음.)\n",
    "row = cur_sel.fetchone()\n",
    "\n",
    "while row is not None :\n",
    "    print(row)\n",
    "    # print(row[1])\n",
    "    row = cur_sel.fetchone()\n",
    "    \n",
    "    \n",
    "\n"
   ]
  },
  {
   "cell_type": "code",
   "execution_count": 116,
   "metadata": {},
   "outputs": [],
   "source": [
    "\n",
    "# delete\n",
    "cur_del.execute('DELETE FROM HR.JOBS2')\n",
    "conn.commit()"
   ]
  },
  {
   "cell_type": "code",
   "execution_count": 118,
   "metadata": {},
   "outputs": [],
   "source": [
    "cur_sel.close()\n",
    "cur_ins.close()\n",
    "cur_del.close()\n",
    "\n",
    "conn.close()"
   ]
  },
  {
   "cell_type": "code",
   "execution_count": null,
   "metadata": {},
   "outputs": [],
   "source": []
  }
 ],
 "metadata": {
  "kernelspec": {
   "display_name": "Python 3",
   "language": "python",
   "name": "python3"
  },
  "language_info": {
   "codemirror_mode": {
    "name": "ipython",
    "version": 3
   },
   "file_extension": ".py",
   "mimetype": "text/x-python",
   "name": "python",
   "nbconvert_exporter": "python",
   "pygments_lexer": "ipython3",
   "version": "3.6.5"
  }
 },
 "nbformat": 4,
 "nbformat_minor": 2
}
