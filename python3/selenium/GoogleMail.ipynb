{
 "cells": [
  {
   "cell_type": "code",
   "execution_count": 23,
   "metadata": {},
   "outputs": [],
   "source": [
    "from selenium import webdriver\n",
    "from selenium.webdriver.support import expected_conditions as EC\n",
    "from selenium.webdriver.common.by import By\n",
    "from selenium.webdriver.support.ui import WebDriverWait\n",
    "from selenium.webdriver.common.keys import Keys\n",
    "import os\n",
    "\n",
    "class GoogleMail:\n",
    "    \n",
    "    # def __init__(self):\n",
    "        \n",
    "    \n",
    "    def connect_gmail(self):\n",
    "        self.driver = webdriver.Chrome(executable_path='./lib/chromedriver')\n",
    "        self.driver.set_window_position(1280, 668)\n",
    "        self.driver.set_window_size(1280, 668)\n",
    "        self.driver.get('https://mail.google.com')\n",
    "        \n",
    "    def type_id(self):\n",
    "        self.driver.find_element_by_id('identifierId').send_keys(os.environ['GOOGLE_ID'])\n",
    "        \n",
    "    def next_id(self):\n",
    "        driver.find_element_by_id('identifierNext').click()\n",
    "    "
   ]
  },
  {
   "cell_type": "code",
   "execution_count": 24,
   "metadata": {},
   "outputs": [],
   "source": [
    "gm = GoogleMail()"
   ]
  },
  {
   "cell_type": "code",
   "execution_count": 21,
   "metadata": {},
   "outputs": [],
   "source": [
    "gm.connect_gmail()"
   ]
  },
  {
   "cell_type": "code",
   "execution_count": 22,
   "metadata": {},
   "outputs": [],
   "source": [
    "gm.input_id()"
   ]
  }
 ],
 "metadata": {
  "kernelspec": {
   "display_name": "Python 3",
   "language": "python",
   "name": "python3"
  },
  "language_info": {
   "codemirror_mode": {
    "name": "ipython",
    "version": 3
   },
   "file_extension": ".py",
   "mimetype": "text/x-python",
   "name": "python",
   "nbconvert_exporter": "python",
   "pygments_lexer": "ipython3",
   "version": "3.7.1"
  }
 },
 "nbformat": 4,
 "nbformat_minor": 2
}
