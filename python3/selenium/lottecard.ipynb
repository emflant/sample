{
 "cells": [
  {
   "cell_type": "code",
   "execution_count": null,
   "metadata": {
    "scrolled": false
   },
   "outputs": [],
   "source": [
    "from selenium import webdriver as wd\n",
    "from selenium.webdriver.support import expected_conditions as EC \n",
    "from selenium.webdriver.common.by import By\n",
    "from selenium.webdriver.support.ui import WebDriverWait\n",
    "from selenium.common.exceptions import ElementClickInterceptedException\n",
    "from selenium.common.exceptions import UnexpectedAlertPresentException\n",
    "from time import sleep\n",
    "\n",
    "import os\n",
    "\n",
    "wd.FirefoxOptions()\n",
    "driver = wd.Firefox(executable_path='./lib/geckodriver')\n",
    "driver.implicitly_wait(10)\n",
    "driver.set_window_position(0, 0)\n",
    "driver.set_window_size(1280, 668 * 2)\n",
    "\n",
    "driver.get('https://www.lottecard.co.kr/app/IHMBRAA_V100.top')\n",
    "\n",
    "input_id = driver.find_element_by_id('lgn_id_p')\n",
    "input_id.send_keys(os.environ['LOTTECARD_ID'])\n",
    "input_pw = driver.find_element_by_id('mbr_pswd_p')\n",
    "input_pw.send_keys(os.environ['LOTTECARD_PW'])\n",
    "input_pw.submit()\n",
    "\n",
    "driver.find_element_by_css_selector('div.login-form div.btn').click()\n",
    "# div.login-form div.btn\n",
    "\n",
    "# 국내이용내역조회 버튼\n",
    "WebDriverWait(driver, 10).until(EC.presence_of_element_located((By.CSS_SELECTOR, '.specarea .specco .btnarea img'))).click()\n",
    "\n",
    "\n",
    "# driver.get('https://www.lottecard.co.kr/app/IHMCDBA_V151.top')\n",
    "\n",
    "# spend_details = driver.find_element_by_css_selector('table.table-b01')\n",
    "#WebDriverWait(driver, 3).until(EC.presence_of_element_located((By.CSS_SELECTOR, 'table.table-b01')))\n",
    "\n",
    "# ajax 거래때문에 나오는 popup 때문에 클릭이 잘안됨.. 명시적으로 sleep 처리함.\n",
    "sleep(5)\n",
    "\n",
    "WebDriverWait(driver, 5).until(EC.presence_of_element_located((By.CSS_SELECTOR, '.ml5 a'))).click()\n",
    "\n",
    "print(\"load complete\")\n",
    "\n",
    "spend_details = driver.find_element_by_css_selector('table.table-b01')\n",
    "list_spend = spend_details.find_elements_by_tag_name('tr')\n",
    "\n",
    "# print(list_spend)\n",
    "\n",
    "list_spend.pop(0)\n",
    "'''\n",
    "for tran in list_spend :\n",
    "    # print(tran.find_elements_by_tag_name('td'))\n",
    "    print(tran.text)\n",
    "'''\n",
    "\n",
    "for tran in list_spend :\n",
    "    tran_date = tran.find_elements_by_tag_name('td')[1].text # 거래일시\n",
    "    tran_pos = tran.find_elements_by_tag_name('td')[3].text # 이용가맹점\n",
    "    tran_amt = tran.find_elements_by_tag_name('td')[4].text # 승인금액\n",
    "\n",
    "    # print(tran_date, tran_pos, tran_amt)\n"
   ]
  },
  {
   "cell_type": "code",
   "execution_count": null,
   "metadata": {},
   "outputs": [],
   "source": []
  }
 ],
 "metadata": {
  "kernelspec": {
   "display_name": "Python 3",
   "language": "python",
   "name": "python3"
  },
  "language_info": {
   "codemirror_mode": {
    "name": "ipython",
    "version": 3
   },
   "file_extension": ".py",
   "mimetype": "text/x-python",
   "name": "python",
   "nbconvert_exporter": "python",
   "pygments_lexer": "ipython3",
   "version": "3.6.5"
  }
 },
 "nbformat": 4,
 "nbformat_minor": 2
}
