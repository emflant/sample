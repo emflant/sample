{
 "cells": [
  {
   "cell_type": "code",
   "execution_count": 7,
   "metadata": {},
   "outputs": [],
   "source": [
    "'''\n",
    "iframe 에 변경하면서 컨트롤\n",
    "'''\n",
    "from selenium import webdriver as wd\n",
    "from selenium.webdriver.support import expected_conditions as EC \n",
    "from selenium.webdriver.common.by import By\n",
    "from selenium.webdriver.support.ui import WebDriverWait\n",
    "\n",
    "driver = wd.Firefox(executable_path='./lib/geckodriver')\n",
    "driver.get('https://www.cafe24.com/')\n",
    "\n",
    "\n",
    "# iframe id=frmLogin\n",
    "# input id=loginId\n",
    "driver.switch_to.frame(driver.find_element_by_id('frmLogin'))\n",
    "id_loginId = driver.find_element_by_id('loginId')\n",
    "id_loginId.send_keys('emflant')\n",
    "\n",
    "# name=domainName\n",
    "#name_domainName = driver.find_element_by_name('domainName')\n",
    "#name_domainName.send_keys('emflant')\n",
    "\n"
   ]
  },
  {
   "cell_type": "code",
   "execution_count": null,
   "metadata": {},
   "outputs": [],
   "source": []
  }
 ],
 "metadata": {
  "kernelspec": {
   "display_name": "Python 3",
   "language": "python",
   "name": "python3"
  },
  "language_info": {
   "codemirror_mode": {
    "name": "ipython",
    "version": 3
   },
   "file_extension": ".py",
   "mimetype": "text/x-python",
   "name": "python",
   "nbconvert_exporter": "python",
   "pygments_lexer": "ipython3",
   "version": "3.6.5"
  }
 },
 "nbformat": 4,
 "nbformat_minor": 2
}
