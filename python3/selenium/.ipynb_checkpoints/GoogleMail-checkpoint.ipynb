{
 "cells": [
  {
   "cell_type": "code",
   "execution_count": 28,
   "metadata": {},
   "outputs": [],
   "source": [
    "from selenium import webdriver\n",
    "from selenium.webdriver.support import expected_conditions as EC\n",
    "from selenium.webdriver.common.by import By\n",
    "from selenium.webdriver.support.ui import WebDriverWait\n",
    "from selenium.webdriver.common.keys import Keys\n",
    "from selenium.common.exceptions import TimeoutException\n",
    "from bs4 import BeautifulSoup\n",
    "\n",
    "\n",
    "import os\n",
    "\n",
    "class MySelenium:\n",
    "    def wait_presence_of_element_located(self, expected_conditions, wait_time=10):\n",
    "        element = WebDriverWait(self.driver, wait_time).until(EC.presence_of_element_located(expected_conditions))\n",
    "        return element\n",
    "    \n",
    "    def wait_element_to_be_clickable(self, expected_conditions, wait_time=10):\n",
    "        element = WebDriverWait(self.driver, wait_time).until(EC.element_to_be_clickable(expected_conditions))\n",
    "        return element\n",
    "    \n",
    "\n",
    "class GoogleMail(MySelenium):\n",
    "    \n",
    "    # def __init__(self):\n",
    "\n",
    "    def connect_gmail(self):\n",
    "        self.driver = webdriver.Chrome(executable_path='./lib/chromedriver')\n",
    "        self.driver.set_window_position(1280, 668)\n",
    "        self.driver.set_window_size(1280, 668)\n",
    "        self.driver.get('https://mail.google.com')\n",
    "        \n",
    "    def close_browser(self):\n",
    "        self.driver.close()\n",
    "        \n",
    "    def input_id(self, my_id=os.environ['GOOGLE_ID']):\n",
    "        self.wait_presence_of_element_located((By.ID, 'identifierId')).send_keys(my_id)\n",
    "        \n",
    "    def next_id(self):\n",
    "        self.wait_presence_of_element_located((By.ID, 'identifierNext')).click()\n",
    "        \n",
    "    def input_pw(self, my_password=os.environ['GOOGLE_PW']):\n",
    "        self.wait_presence_of_element_located((By.NAME, 'password')).send_keys(my_password)\n",
    "        \n",
    "    def next_pw(self):\n",
    "        self.wait_element_to_be_clickable((By.XPATH, \"//span[text()='다음']\")).click()\n",
    "    \n",
    "    def input_search_text(self, search_text):\n",
    "        self.search_text = search_text\n",
    "        input_text = self.wait_presence_of_element_located((By.XPATH, '//*[@id=\"aso_search_form_anchor\"]/div/input'))\n",
    "        input_text.clear()\n",
    "        input_text.send_keys(search_text, Keys.ENTER)\n",
    "        \n",
    "    def click_mail_list(self):\n",
    "        try:\n",
    "            mail_list = self.wait_presence_of_element_located((By.XPATH, '/html/body/div[7]/div[3]/div/div[2]/div[1]/div[2]/div/div/div/div/div[2]/div/div[1]/div/div[2]/div[4]/div[1]/div/table/tbody/tr/td[6]/div[1]/div/div[2]/span/span'),3)\n",
    "            mail_list.click()\n",
    "            return True\n",
    "        except TimeoutException:\n",
    "            print('can\\'t find', self.search_text)\n",
    "            return False\n",
    "        \n",
    "    def click_view_mail(self):\n",
    "        self.wait_presence_of_element_located((By.XPATH, '//a[text() = \"전체 메일 보기\"]')).click()\n",
    "\n",
    "    def download_file(self):\n",
    "        self.driver.switch_to.window(self.driver.window_handles[1])\n",
    "        self.wait_presence_of_element_located((By.XPATH, '//a[contains(text(), \"다운로드\")]')).click()\n",
    "        self.driver.execute_script(\"window.close()\") \n",
    "        self.driver.switch_to.window(self.driver.window_handles[0])\n",
    "        \n",
    "    def click_gmail_home(self):\n",
    "        gmail_home = self.wait_presence_of_element_located((By.XPATH, '//a[@href=\"#inbox\"][@title=\"Gmail\"]/img[1]'))\n",
    "        gmail_home.click()\n",
    "        \n",
    "\n",
    "class KakaoCard(MySelenium):\n",
    "    def open_browser(self):\n",
    "        self.driver = webdriver.Chrome(executable_path='./lib/chromedriver')\n",
    "    \n",
    "    def close_browser(self):\n",
    "        self.driver.close()\n",
    "        \n",
    "    def input_url(self, url):\n",
    "        # 예시 : 'file:///Users/emflant/Downloads/KB_20181105.html'\n",
    "        self.driver.get('file://' + url)\n",
    "        \n",
    "    def input_pw(self):\n",
    "        pwd1 = self.wait_presence_of_element_located((By.XPATH, '//*[@id=\"pwd1\"]'))\n",
    "        pwd1.send_keys(os.environ['KAKKO_MAIL_PW'], Keys.ENTER)\n",
    "        \n",
    "    def get_list(self):\n",
    "        table = self.wait_presence_of_element_located((By.XPATH, '//*[@id=\"mArticle\"]/div[3]/table/tbody'))\n",
    "        html_doc = table.get_attribute('outerHTML')\n",
    "        soup = BeautifulSoup(html_doc, 'html.parser')\n",
    "        \n",
    "        tr_list = soup.find_all('tr')\n",
    "\n",
    "        card_list = []\n",
    "\n",
    "        for tr in tr_list:\n",
    "            soup_tr = BeautifulSoup(str(tr), 'html.parser')\n",
    "            td_list = soup_tr.find_all('td')\n",
    "\n",
    "            td_li = []\n",
    "\n",
    "            for td in td_list:\n",
    "                soup_td = BeautifulSoup(str(td), 'html.parser')\n",
    "                td_li.append(soup_td.get_text().strip())\n",
    "                # print(soup_td.get_text().strip())\n",
    "\n",
    "            card_list.append(tuple(td_li))\n",
    "            \n",
    "        return card_list"
   ]
  },
  {
   "cell_type": "code",
   "execution_count": 25,
   "metadata": {},
   "outputs": [
    {
     "name": "stdout",
     "output_type": "stream",
     "text": [
      "can't find subject:(이용내역서(2018년03월))\n",
      "can't find subject:(이용내역서(2018년04월))\n",
      "can't find subject:(이용내역서(2018년05월))\n",
      "can't find subject:(이용내역서(2018년12월))\n"
     ]
    }
   ],
   "source": [
    "#from GoogleMail import GoogleMail\n",
    "gm = GoogleMail()\n",
    "gm.connect_gmail()\n",
    "gm.input_id()\n",
    "gm.next_id()\n",
    "gm.input_pw()\n",
    "gm.next_pw()\n",
    "\n",
    "\n",
    "for i in range(3,13):\n",
    "    search_text = 'subject:(이용내역서(2018년' + str(i).zfill(2) + '월))'\n",
    "    gm.input_search_text(search_text)\n",
    "    \n",
    "    if gm.click_mail_list() == False:\n",
    "        continue\n",
    "       \n",
    "    gm.click_view_mail()\n",
    "    gm.download_file()\n",
    "    gm.click_gmail_home()\n",
    "    \n",
    "gm.close_browser()"
   ]
  },
  {
   "cell_type": "code",
   "execution_count": 36,
   "metadata": {
    "scrolled": true
   },
   "outputs": [
    {
     "name": "stdout",
     "output_type": "stream",
     "text": [
      "37\n"
     ]
    }
   ],
   "source": [
    "kc = KakaoCard()\n",
    "kc.open_browser()\n",
    "kc.input_url('/Users/emflant/Downloads/KB_20181105.html')\n",
    "kc.input_pw()\n",
    "result = kc.get_list()\n",
    "print(len(result))\n",
    "kc.close_browser()"
   ]
  },
  {
   "cell_type": "code",
   "execution_count": 17,
   "metadata": {},
   "outputs": [
    {
     "data": {
      "text/plain": [
       "16"
      ]
     },
     "execution_count": 17,
     "metadata": {},
     "output_type": "execute_result"
    }
   ],
   "source": [
    "len('KB_20181205.html')"
   ]
  },
  {
   "cell_type": "code",
   "execution_count": 33,
   "metadata": {},
   "outputs": [],
   "source": [
    "from pathlib import Path\n",
    "import os\n",
    "\n",
    "kc = KakaoCard()\n",
    "kc.open_browser()\n",
    "\n",
    "p = Path(os.environ['DOWNLOAD_FOLDER'])\n",
    "\n",
    "for child1 in p.iterdir() :\n",
    "    \n",
    "    if child1.name[-4:] == 'html' and child1.name[0:3] == 'KB_'and len(child1.name) == 16:\n",
    "        pass\n",
    "    else :\n",
    "        continue\n",
    "    \n",
    "    kc.input_url(str(child1))\n",
    "    kc.input_pw()\n",
    "    result = kc.get_list()\n",
    "    # print(child1, len(result))\n",
    "    # print(result)\n",
    "    \n",
    "    \n",
    "kc.close_browser()"
   ]
  },
  {
   "cell_type": "code",
   "execution_count": 4,
   "metadata": {},
   "outputs": [],
   "source": [
    "from selenium import webdriver\n",
    "from selenium.webdriver.support import expected_conditions as EC\n",
    "from selenium.webdriver.common.by import By\n",
    "from selenium.webdriver.support.ui import WebDriverWait\n",
    "from selenium.webdriver.common.keys import Keys\n",
    "import os\n",
    "\n",
    "driver = webdriver.Chrome(executable_path='./lib/chromedriver')\n",
    "driver.get('file:///Users/emflant/Downloads/KB_20181105.html')\n",
    "        \n",
    "pwd1= WebDriverWait(driver, 10).until(EC.presence_of_element_located((By.XPATH, '//*[@id=\"pwd1\"]')))\n",
    "pwd1.send_keys(os.environ['KAKKO_MAIL_PW'], Keys.ENTER)"
   ]
  },
  {
   "cell_type": "code",
   "execution_count": null,
   "metadata": {},
   "outputs": [],
   "source": [
    "from bs4 import BeautifulSoup\n",
    "\n",
    "table = driver.find_element_by_xpath('//*[@id=\"mArticle\"]/div[3]/table/tbody')\n",
    "html_doc = table.get_attribute('outerHTML')\n",
    "soup = BeautifulSoup(html_doc, 'html.parser')\n",
    "#print(soup.prettify())\n",
    "tr_list = soup.find_all('tr')\n",
    "card_list = []\n",
    "\n",
    "for tr in tr_list:\n",
    "    soup_tr = BeautifulSoup(str(tr), 'html.parser')\n",
    "    td_list = soup_tr.find_all('td')\n",
    "    \n",
    "    td_li = []\n",
    "    \n",
    "    for td in td_list:\n",
    "        soup_td = BeautifulSoup(str(td), 'html.parser')\n",
    "        td_li.append(soup_td.get_text().strip())\n",
    "        # print(soup_td.get_text().strip())\n",
    "    \n",
    "    card_list.append(tuple(td_li))\n",
    "\n"
   ]
  }
 ],
 "metadata": {
  "kernelspec": {
   "display_name": "Python 3",
   "language": "python",
   "name": "python3"
  },
  "language_info": {
   "codemirror_mode": {
    "name": "ipython",
    "version": 3
   },
   "file_extension": ".py",
   "mimetype": "text/x-python",
   "name": "python",
   "nbconvert_exporter": "python",
   "pygments_lexer": "ipython3",
   "version": "3.7.1"
  }
 },
 "nbformat": 4,
 "nbformat_minor": 2
}
