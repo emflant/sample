{
 "cells": [
  {
   "cell_type": "code",
   "execution_count": 60,
   "metadata": {},
   "outputs": [],
   "source": [
    "from selenium import webdriver\n",
    "from selenium.webdriver.support import expected_conditions as EC\n",
    "from selenium.webdriver.common.by import By\n",
    "from selenium.webdriver.support.ui import WebDriverWait\n",
    "from selenium.webdriver.common.keys import Keys\n",
    "from selenium.common.exceptions import TimeoutException\n",
    "\n",
    "import os\n",
    "\n",
    "class GoogleMail:\n",
    "    \n",
    "    # def __init__(self):\n",
    "\n",
    "    def connect_gmail(self):\n",
    "        self.driver = webdriver.Chrome(executable_path='./lib/chromedriver')\n",
    "        self.driver.set_window_position(1280, 668)\n",
    "        self.driver.set_window_size(1280, 668)\n",
    "        self.driver.get('https://mail.google.com')\n",
    "        \n",
    "    def input_id(self, my_id=os.environ['GOOGLE_ID']):\n",
    "        self.wait_presence_of_element_located((By.ID, 'identifierId')).send_keys(my_id)\n",
    "        \n",
    "    def next_id(self):\n",
    "        self.wait_presence_of_element_located((By.ID, 'identifierNext')).click()\n",
    "        \n",
    "    def input_pw(self, my_password=os.environ['GOOGLE_PW']):\n",
    "        self.wait_presence_of_element_located((By.NAME, 'password')).send_keys(my_password)\n",
    "        \n",
    "    def next_pw(self):\n",
    "        self.wait_element_to_be_clickable((By.XPATH, \"//span[text()='다음']\")).click()\n",
    "    \n",
    "    def input_search_text(self, search_text):\n",
    "        input_text = self.wait_presence_of_element_located((By.XPATH, '//*[@id=\"aso_search_form_anchor\"]/div/input'))\n",
    "        input_text.send_keys(search_text, Keys.ENTER)\n",
    "        \n",
    "    def click_mail_list(self):\n",
    "        try:\n",
    "            mail_list = self.wait_presence_of_element_located((By.XPATH, '/html/body/div[7]/div[3]/div/div[2]/div[1]/div[2]/div/div/div/div/div[2]/div/div[1]/div/div[2]/div[4]/div[1]/div/table/tbody/tr/td[6]/div[1]/div/div[2]/span/span'),3)\n",
    "            mail_list.click()\n",
    "            return True\n",
    "        except TimeoutException:\n",
    "            print('can\\'t find', search_text)\n",
    "            return False\n",
    "        \n",
    "    def click_view_mail(self):\n",
    "        self.wait_presence_of_element_located((By.XPATH, '//a[text() = \"전체 메일 보기\"]')).click()\n",
    "\n",
    "    def download_file(self):\n",
    "        self.driver.switch_to.window(self.driver.window_handles[1])\n",
    "        self.wait_presence_of_element_located((By.XPATH, '//a[contains(text(), \"다운로드\")]')).click()\n",
    "        self.driver.execute_script(\"window.close()\") \n",
    "        self.driver.switch_to.window(self.driver.window_handles[0])\n",
    "        \n",
    "    def click_gmail_home(self):\n",
    "        gmail_home = self.wait_presence_of_element_located((By.XPATH, '//a[@href=\"#inbox\"][@title=\"Gmail\"]/img[1]'))\n",
    "        gmail_home.click()\n",
    "        \n",
    "    def wait_presence_of_element_located(self, expected_conditions, wait_time=10):\n",
    "        element = WebDriverWait(self.driver, wait_time).until(EC.presence_of_element_located(expected_conditions))\n",
    "        return element\n",
    "    \n",
    "    def wait_element_to_be_clickable(self, expected_conditions, wait_time=10):\n",
    "        element = WebDriverWait(self.driver, wait_time).until(EC.element_to_be_clickable(expected_conditions))\n",
    "        return element\n",
    "    \n",
    "    "
   ]
  },
  {
   "cell_type": "code",
   "execution_count": 61,
   "metadata": {},
   "outputs": [
    {
     "name": "stdout",
     "output_type": "stream",
     "text": [
      "can't find subject:(이용내역서(2018년12월))\n"
     ]
    }
   ],
   "source": [
    "gm = GoogleMail()\n",
    "gm.connect_gmail()\n",
    "gm.input_id()\n",
    "gm.next_id()\n",
    "gm.input_pw()\n",
    "gm.next_pw()\n",
    "\n",
    "\n",
    "for i in range(10,13):\n",
    "    search_text = 'subject:(이용내역서(2018년' + str(i).zfill(2) + '월))'\n",
    "    gm.input_search_text(search_text)\n",
    "    \n",
    "    if gm.click_mail_list() == False:\n",
    "       break\n",
    "       \n",
    "    gm.click_view_mail()\n",
    "    gm.download_file()\n",
    "    gm.click_gmail_home()"
   ]
  },
  {
   "cell_type": "code",
   "execution_count": 27,
   "metadata": {},
   "outputs": [],
   "source": []
  },
  {
   "cell_type": "code",
   "execution_count": null,
   "metadata": {},
   "outputs": [],
   "source": []
  }
 ],
 "metadata": {
  "kernelspec": {
   "display_name": "Python 3",
   "language": "python",
   "name": "python3"
  },
  "language_info": {
   "codemirror_mode": {
    "name": "ipython",
    "version": 3
   },
   "file_extension": ".py",
   "mimetype": "text/x-python",
   "name": "python",
   "nbconvert_exporter": "python",
   "pygments_lexer": "ipython3",
   "version": "3.7.1"
  }
 },
 "nbformat": 4,
 "nbformat_minor": 2
}
