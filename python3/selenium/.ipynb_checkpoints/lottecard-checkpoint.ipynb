{
 "cells": [
  {
   "cell_type": "code",
   "execution_count": 52,
   "metadata": {
    "scrolled": true
   },
   "outputs": [
    {
     "name": "stdout",
     "output_type": "stream",
     "text": [
      "load complete\n"
     ]
    }
   ],
   "source": [
    "from selenium import webdriver as wd\n",
    "from selenium.webdriver.support import expected_conditions as EC \n",
    "from selenium.webdriver.common.by import By\n",
    "from selenium.webdriver.support.ui import WebDriverWait\n",
    "from selenium.common.exceptions import TimeoutException\n",
    "\n",
    "import os\n",
    "\n",
    "wd.FirefoxOptions()\n",
    "driver = wd.Firefox(executable_path='./lib/geckodriver')\n",
    "driver.get('https://www.lottecard.co.kr/app/IHMBRAA_V100.top')\n",
    "\n",
    "input_id = driver.find_element_by_id('lgn_id_p')\n",
    "input_id.send_keys(os.environ['LOTTECARD_ID'])\n",
    "input_pw = driver.find_element_by_id('mbr_pswd_p')\n",
    "input_pw.send_keys(os.environ['LOTTECARD_PW'])\n",
    "input_pw.submit()\n",
    "\n",
    "driver.find_element_by_css_selector('div.login-form div.btn').click()\n",
    "# div.login-form div.btn\n",
    "\n",
    "WebDriverWait(driver, 10).until(EC.presence_of_element_located((By.CSS_SELECTOR, '.specarea .specco .btnarea img')))\n",
    "\n",
    "driver.find_element_by_css_selector('.specarea .specco .btnarea img').click()\n",
    "\n",
    "# driver.get('https://www.lottecard.co.kr/app/IHMCDBA_V151.top')\n",
    "\n",
    "print(\"load complete\")\n",
    "# spend_details = driver.find_element_by_css_selector('table.table-b01')\n",
    "#WebDriverWait(driver, 3).until(EC.presence_of_element_located((By.CSS_SELECTOR, 'table.table-b01')))\n"
   ]
  },
  {
   "cell_type": "code",
   "execution_count": 53,
   "metadata": {},
   "outputs": [],
   "source": [
    "#실시간 승인내역 클릭해야 시분초나옴.\n",
    "\n",
    "spend_details = driver.find_element_by_css_selector('table.table-b01')"
   ]
  },
  {
   "cell_type": "code",
   "execution_count": 54,
   "metadata": {},
   "outputs": [],
   "source": [
    "\n",
    "list_spend = spend_details.find_elements_by_tag_name('tr')"
   ]
  },
  {
   "cell_type": "code",
   "execution_count": 55,
   "metadata": {},
   "outputs": [
    {
     "data": {
      "text/plain": [
       "[<selenium.webdriver.firefox.webelement.FirefoxWebElement (session=\"1fc91140-0f80-e84b-9cab-0576f6efc85f\", element=\"05534bf3-8f24-bf41-93ed-f4cef705b713\")>,\n",
       " <selenium.webdriver.firefox.webelement.FirefoxWebElement (session=\"1fc91140-0f80-e84b-9cab-0576f6efc85f\", element=\"1722be5b-1c2a-4e45-8511-49cd8be54769\")>,\n",
       " <selenium.webdriver.firefox.webelement.FirefoxWebElement (session=\"1fc91140-0f80-e84b-9cab-0576f6efc85f\", element=\"3430385a-46f9-ab4b-bcc1-6c983c9abf30\")>,\n",
       " <selenium.webdriver.firefox.webelement.FirefoxWebElement (session=\"1fc91140-0f80-e84b-9cab-0576f6efc85f\", element=\"2f7b70a6-8648-7249-bad7-3c5ac777d13d\")>,\n",
       " <selenium.webdriver.firefox.webelement.FirefoxWebElement (session=\"1fc91140-0f80-e84b-9cab-0576f6efc85f\", element=\"841b1078-3aa1-5e49-a251-e9872cce6dbf\")>,\n",
       " <selenium.webdriver.firefox.webelement.FirefoxWebElement (session=\"1fc91140-0f80-e84b-9cab-0576f6efc85f\", element=\"8f972d57-9d7e-994d-b196-e6b6be11d2ba\")>,\n",
       " <selenium.webdriver.firefox.webelement.FirefoxWebElement (session=\"1fc91140-0f80-e84b-9cab-0576f6efc85f\", element=\"0b1aa23d-8584-0c44-be9d-fddee0c51001\")>,\n",
       " <selenium.webdriver.firefox.webelement.FirefoxWebElement (session=\"1fc91140-0f80-e84b-9cab-0576f6efc85f\", element=\"b54ba9a6-cca6-df45-9261-577c210d7b65\")>,\n",
       " <selenium.webdriver.firefox.webelement.FirefoxWebElement (session=\"1fc91140-0f80-e84b-9cab-0576f6efc85f\", element=\"5323eadc-24b0-a944-997e-078820e2d525\")>,\n",
       " <selenium.webdriver.firefox.webelement.FirefoxWebElement (session=\"1fc91140-0f80-e84b-9cab-0576f6efc85f\", element=\"4fec529f-f0a6-8043-812e-f101f98c331e\")>]"
      ]
     },
     "execution_count": 55,
     "metadata": {},
     "output_type": "execute_result"
    }
   ],
   "source": [
    "list_spend[2].find_elements_by_tag_name('td')"
   ]
  },
  {
   "cell_type": "code",
   "execution_count": 56,
   "metadata": {},
   "outputs": [
    {
     "data": {
      "text/plain": [
       "'본인'"
      ]
     },
     "execution_count": 56,
     "metadata": {},
     "output_type": "execute_result"
    }
   ],
   "source": [
    "list_spend[2].find_elements_by_tag_name('td')[1].text # 거래일시"
   ]
  },
  {
   "cell_type": "code",
   "execution_count": 57,
   "metadata": {
    "scrolled": true
   },
   "outputs": [
    {
     "data": {
      "text/plain": [
       "'14,400원'"
      ]
     },
     "execution_count": 57,
     "metadata": {},
     "output_type": "execute_result"
    }
   ],
   "source": [
    "list_spend[2].find_elements_by_tag_name('td')[3].text # 이용가맹점"
   ]
  },
  {
   "cell_type": "code",
   "execution_count": 58,
   "metadata": {},
   "outputs": [
    {
     "data": {
      "text/plain": [
       "''"
      ]
     },
     "execution_count": 58,
     "metadata": {},
     "output_type": "execute_result"
    }
   ],
   "source": [
    "list_spend[2].find_elements_by_tag_name('td')[4].text # 승인금액"
   ]
  },
  {
   "cell_type": "code",
   "execution_count": null,
   "metadata": {},
   "outputs": [],
   "source": []
  }
 ],
 "metadata": {
  "kernelspec": {
   "display_name": "Python 3",
   "language": "python",
   "name": "python3"
  },
  "language_info": {
   "codemirror_mode": {
    "name": "ipython",
    "version": 3
   },
   "file_extension": ".py",
   "mimetype": "text/x-python",
   "name": "python",
   "nbconvert_exporter": "python",
   "pygments_lexer": "ipython3",
   "version": "3.6.5"
  }
 },
 "nbformat": 4,
 "nbformat_minor": 2
}
