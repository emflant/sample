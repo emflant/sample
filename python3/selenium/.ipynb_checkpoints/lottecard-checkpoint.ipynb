{
 "cells": [
  {
   "cell_type": "code",
   "execution_count": 12,
   "metadata": {},
   "outputs": [
    {
     "name": "stdout",
     "output_type": "stream",
     "text": [
      "load complete\n"
     ]
    }
   ],
   "source": [
    "from selenium import webdriver as wd\n",
    "from selenium.webdriver.support import expected_conditions as EC \n",
    "from selenium.webdriver.common.by import By\n",
    "from selenium.webdriver.support.ui import WebDriverWait\n",
    "from selenium.common.exceptions import TimeoutException\n",
    "\n",
    "import os\n",
    "\n",
    "wd.FirefoxOptions()\n",
    "driver = wd.Firefox(executable_path='./lib/geckodriver')\n",
    "driver.get('https://www.lottecard.co.kr/app/IHMBRAA_V100.top')\n",
    "\n",
    "input_id = driver.find_element_by_id('lgn_id_p')\n",
    "input_id.send_keys(os.environ['LOTTECARD_ID'])\n",
    "input_pw = driver.find_element_by_id('mbr_pswd_p')\n",
    "input_pw.send_keys(os.environ['LOTTECARD_PW'])\n",
    "input_pw.submit()\n",
    "\n",
    "driver.find_element_by_css_selector('div.login-form div.btn').click()\n",
    "# div.login-form div.btn\n",
    "\n",
    "WebDriverWait(driver, 3).until(EC.presence_of_element_located((By.ID, 'specarea')))\n",
    "\n",
    "print(\"load complete\")\n",
    "\n",
    "driver.get('https://www.lottecard.co.kr/app/IHMCDBA_V151.top')\n"
   ]
  }
 ],
 "metadata": {
  "kernelspec": {
   "display_name": "Python 3",
   "language": "python",
   "name": "python3"
  },
  "language_info": {
   "codemirror_mode": {
    "name": "ipython",
    "version": 3
   },
   "file_extension": ".py",
   "mimetype": "text/x-python",
   "name": "python",
   "nbconvert_exporter": "python",
   "pygments_lexer": "ipython3",
   "version": "3.6.5"
  }
 },
 "nbformat": 4,
 "nbformat_minor": 2
}
