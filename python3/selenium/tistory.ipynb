{
 "cells": [
  {
   "cell_type": "code",
   "execution_count": 1,
   "metadata": {
    "scrolled": true
   },
   "outputs": [],
   "source": [
    "from selenium import webdriver as wd\n",
    "from selenium.webdriver.support import expected_conditions as EC \n",
    "from selenium.webdriver.common.by import By\n",
    "from selenium.webdriver.support.ui import WebDriverWait\n",
    "from selenium.common.exceptions import TimeoutException\n",
    "\n",
    "import os\n",
    "\n",
    "wd.FirefoxOptions()\n",
    "driver = wd.Firefox(executable_path='./lib/geckodriver')\n",
    "driver.get('http://www.tistory.com/')\n",
    "\n",
    "# 로그인버튼 클릭\n",
    "anchor_login = driver.find_element_by_link_text('로그인')\n",
    "anchor_login.click()\n",
    "# print(type(anchor_login))\n",
    "\n",
    "\n",
    "# 로그인 화면에서 id/pw 입력후 전송\n",
    "input_id = driver.find_element_by_id('loginId')\n",
    "input_id.send_keys(os.environ['TISTORY_ID'])\n",
    "input_pw = driver.find_element_by_id('loginPw')\n",
    "input_pw.send_keys(os.environ['TISTORY_PW'])\n",
    "input_pw.submit()\n",
    "\n",
    "# 블로그관리 링크 확인.\n",
    "try:\n",
    "    WebDriverWait(driver, 3).until(EC.presence_of_element_located((By.LINK_TEXT, '블로그관리')))\n",
    "    \n",
    "# 중간에 비밀번호 변경창이 뜨면, '블로그관리' 링크가 없는 웹페이지가 발생.\n",
    "# 결국 못찾고 TimeoutException 발생하므로, except 처리필요\n",
    "except TimeoutException:\n",
    "    print('블로그관리 TimeoutException except!!')\n",
    "    \n",
    "    # 중간에 비밀번호 변경창이 뜨면, '다음에 변경하기' 링크 클릭.\n",
    "    WebDriverWait(driver, 3).until(EC.presence_of_element_located((By.CLASS_NAME, 'link_cancel')))\n",
    "    driver.find_element_by_class_name('link_cancel').click()\n",
    "    \n",
    "    # 다시 메인페이지로 돌아감. '블로그관리' 링크를 재확인.\n",
    "    WebDriverWait(driver, 3).until(EC.presence_of_element_located((By.LINK_TEXT, '블로그관리')))\n",
    "    \n",
    "# 찾던 못찾던 페이지 변경.\n",
    "finally:\n",
    "    driver.get('http://emflant.tistory.com/')\n",
    "\n",
    "    \n",
    "# 열리는 새 페이지에서, LINK_TEXT=관리자 인걸 찾을때까지.\n",
    "WebDriverWait(driver, 3).until(EC.presence_of_element_located((By.LINK_TEXT, '관리자')))\n",
    "driver.find_element_by_link_text('관리자').click()\n"
   ]
  },
  {
   "cell_type": "code",
   "execution_count": null,
   "metadata": {},
   "outputs": [],
   "source": []
  }
 ],
 "metadata": {
  "kernelspec": {
   "display_name": "Python 3",
   "language": "python",
   "name": "python3"
  },
  "language_info": {
   "codemirror_mode": {
    "name": "ipython",
    "version": 3
   },
   "file_extension": ".py",
   "mimetype": "text/x-python",
   "name": "python",
   "nbconvert_exporter": "python",
   "pygments_lexer": "ipython3",
   "version": "3.6.5"
  }
 },
 "nbformat": 4,
 "nbformat_minor": 2
}
