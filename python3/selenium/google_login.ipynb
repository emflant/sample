{
 "cells": [
  {
   "cell_type": "code",
   "execution_count": 1,
   "metadata": {
    "scrolled": false
   },
   "outputs": [
    {
     "name": "stdout",
     "output_type": "stream",
     "text": [
      "subject:(이용내역서(2018년06월)) 다운완료\n",
      "subject:(이용내역서(2018년07월)) 다운완료\n",
      "subject:(이용내역서(2018년08월)) 다운완료\n",
      "subject:(이용내역서(2018년09월)) 다운완료\n",
      "subject:(이용내역서(2018년10월)) 다운완료\n",
      "subject:(이용내역서(2018년11월)) 다운완료\n"
     ]
    }
   ],
   "source": [
    "from selenium import webdriver\n",
    "from selenium.webdriver.support import expected_conditions as EC\n",
    "from selenium.webdriver.common.by import By\n",
    "from selenium.webdriver.support.ui import WebDriverWait\n",
    "from selenium.webdriver.common.keys import Keys\n",
    "\n",
    "import os\n",
    "\n",
    "driver = webdriver.Chrome(executable_path='./lib/chromedriver')\n",
    "# driver = webdriver.Firefox(executable_path='./lib/geckodriver')\n",
    "\n",
    "driver.set_window_position(1280, 668)\n",
    "driver.set_window_size(1280, 668)\n",
    "driver.get('https://mail.google.com')\n",
    "\n",
    "\n",
    "# 아이디 입력\n",
    "driver.find_element_by_id('identifierId').send_keys(os.environ['GOOGLE_ID'])\n",
    "\n",
    "# '다음' 버튼 클릭\n",
    "driver.find_element_by_id('identifierNext').click()\n",
    "\n",
    "# 비밀번호 입력\n",
    "password = WebDriverWait(driver, 10).until(EC.presence_of_element_located((By.NAME, 'password')))\n",
    "password.send_keys(os.environ['GOOGLE_PW'])\n",
    "\n",
    "# '다음' 버튼 클릭\n",
    "# WebDriverWait(driver, 10).until(EC.presence_of_element_located((By.ID, 'passwordNext')))\n",
    "# WebDriverWait(driver, 10).until(EC.presence_of_element_located((By.XPATH, \"//span[@class='RveJvd snByac'][text()='다음']\")))\n",
    "# WebDriverWait(driver, 10).until(EC.visibility_of_element_located((By.XPATH, \"//span[@class='RveJvd snByac'][text()='다음']\")))\n",
    "WebDriverWait(driver, 10).until(EC.element_to_be_clickable((By.XPATH, \"//span[text()='다음']\")))\n",
    "\n",
    "passwordNext = driver.find_element_by_id('passwordNext')\n",
    "passwordNext.click()\n",
    "\n",
    "for i in range(6,12):\n",
    "    search_text = 'subject:(이용내역서(2018년' + str(i).zfill(2) + '월))'\n",
    "    \n",
    "    input_text = WebDriverWait(driver, 10).until(EC.visibility_of_element_located((By.XPATH, '//*[@id=\"aso_search_form_anchor\"]/div/input')))\n",
    "    input_text.send_keys(search_text, Keys.ENTER)\n",
    "\n",
    "    xx = WebDriverWait(driver, 10).until(EC.presence_of_element_located((By.XPATH, '/html/body/div[7]/div[3]/div/div[2]/div[1]/div[2]/div/div/div/div/div[2]/div/div[1]/div/div[2]/div[4]/div[1]/div/table/tbody/tr/td[6]/div[1]/div/div[2]/span/span')))\n",
    "    xx.click()\n",
    "\n",
    "    WebDriverWait(driver, 10).until(EC.presence_of_element_located((By.XPATH, '//a[text() = \"전체 메일 보기\"]'))).click()\n",
    "\n",
    "    # print(len(driver.window_handles))\n",
    "    driver.switch_to.window(driver.window_handles[1])\n",
    "    driver.find_element_by_xpath('//a[contains(text(), \"다운로드\")]').click()\n",
    "\n",
    "    driver.execute_script(\"window.close()\") \n",
    "    driver.switch_to.window(driver.window_handles[0])\n",
    "    print(search_text, \"다운완료\")\n",
    "\n",
    "    gmail_home = WebDriverWait(driver, 10).until(EC.presence_of_element_located((By.XPATH, '//a[@href=\"#inbox\"][@title=\"Gmail\"]/img[1]')))\n",
    "    gmail_home.click()\n",
    "\n",
    "\n"
   ]
  },
  {
   "cell_type": "code",
   "execution_count": 23,
   "metadata": {},
   "outputs": [],
   "source": [
    "from selenium.webdriver.common.keys import Keys\n",
    "\n",
    "# 새 탭을 연다.\n",
    "driver.execute_script(\"window.open()\") \n",
    "\n",
    "# 새 탭으로 포커스 이동(switch)\n",
    "driver.switch_to.window(driver.window_handles[2])\n",
    "\n",
    "# 다운받은 html 파일을 연다.\n",
    "driver.get('file:///Users/emflant/Downloads/KB_20181105.html')\n",
    "\n",
    "# 비밀번호 입력\n",
    "driver.find_element_by_xpath('//*[@id=\"pwd1\"]').send_keys('xxxxxx', Keys.ENTER)"
   ]
  }
 ],
 "metadata": {
  "kernelspec": {
   "display_name": "Python 3",
   "language": "python",
   "name": "python3"
  },
  "language_info": {
   "codemirror_mode": {
    "name": "ipython",
    "version": 3
   },
   "file_extension": ".py",
   "mimetype": "text/x-python",
   "name": "python",
   "nbconvert_exporter": "python",
   "pygments_lexer": "ipython3",
   "version": "3.7.1"
  }
 },
 "nbformat": 4,
 "nbformat_minor": 2
}
