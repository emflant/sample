{
 "cells": [
  {
   "cell_type": "code",
   "execution_count": 3,
   "metadata": {
    "scrolled": true
   },
   "outputs": [],
   "source": [
    "'''\n",
    "핑크퐁 검색해서 첫 동영상 재생하기.\n",
    "'''\n",
    "from selenium import webdriver as wd\n",
    "from selenium.webdriver.support import expected_conditions as EC \n",
    "from selenium.webdriver.common.by import By\n",
    "from selenium.webdriver.support.ui import WebDriverWait\n",
    "\n",
    "bro = wd.Firefox(executable_path='./lib/geckodriver')\n",
    "bro.get('http://www.naver.com')\n",
    "\n",
    "# al_jr 클래스를 찾음. '\"'쥬니버네이버' 링크임.\n",
    "al_jr = bro.find_element_by_class_name('al_jr')\n",
    "# print(type(al_jr))\n",
    "al_jr.click()\n",
    "\n",
    "# 검색창 element 찾고, 거기에 검색어 '핑크퐁'을 넣어 submit .\n",
    "id_query = bro.find_element_by_id('query')\n",
    "id_query.send_keys('핑크퐁')\n",
    "id_query.submit()\n",
    "\n",
    "\n",
    "# 10초기다림. \n",
    "# 조건은 submit 후에 열리는 새 페이지에서, class=thumb_list__link_anchor 인걸 찾을때까지.\n",
    "WebDriverWait(bro, 10).until(EC.upresence_of_element_located((By.CLASS_NAME, 'thumb_list__link_anchor')))\n",
    "\n",
    "# class=thumb_list__link_anchor 을 찾아 클릭.\n",
    "thumb1 = bro.find_element_by_class_name('thumb_list__link_anchor')\n",
    "thumb1.click()\n",
    "\n"
   ]
  },
  {
   "cell_type": "code",
   "execution_count": 5,
   "metadata": {
    "scrolled": true
   },
   "outputs": [],
   "source": [
    "'''\n",
    "동요 검색해서 인기재생하기.\n",
    "'''\n",
    "from selenium import webdriver as wd\n",
    "from selenium.webdriver.support import expected_conditions as EC \n",
    "from selenium.webdriver.common.by import By\n",
    "from selenium.webdriver.support.ui import WebDriverWait\n",
    "\n",
    "driver = wd.Firefox(executable_path='./lib/geckodriver')\n",
    "driver.set_window_position(0, 700)\n",
    "driver.set_window_size(1280, 668)\n",
    "driver.get('http://www.naver.com')\n",
    "\n",
    "# al_jr 클래스를 찾음. '\"'쥬니버네이버' 링크임.\n",
    "al_jr = driver.find_element_by_class_name('al_jr')\n",
    "# print(type(al_jr))\n",
    "al_jr.click()\n",
    "\n",
    "# 동요 링크 확인.\n",
    "WebDriverWait(driver, 10).until(EC.presence_of_element_located((By.LINK_TEXT, '동요')))\n",
    "driver.find_element_by_link_text('동요').click()\n",
    "\n",
    "# 인기있어요 전체재생 버튼 클릭\n",
    "WebDriverWait(driver, 10).until(EC.presence_of_element_located((By.CSS_SELECTOR, '.thumb_list__menu_btn.type__green._PLAY_ALL')))\n",
    "driver.find_element_by_css_selector('.thumb_list__menu_btn.type__green._PLAY_ALL').click()\n",
    "\n"
   ]
  },
  {
   "cell_type": "code",
   "execution_count": 2,
   "metadata": {},
   "outputs": [],
   "source": [
    "'''\n",
    "동요 검색해서 인기재생하기.(chrome 버전)\n",
    "'''\n",
    "from selenium import webdriver as wd\n",
    "from selenium.webdriver.support import expected_conditions as EC \n",
    "from selenium.webdriver.common.by import By\n",
    "from selenium.webdriver.support.ui import WebDriverWait\n",
    "\n",
    "driver = wd.Chrome(executable_path='./lib/chromedriver')\n",
    "driver.get('http://www.naver.com')\n",
    "\n",
    "# al_jr 클래스를 찾음. '\"'쥬니버네이버' 링크임.\n",
    "al_jr = driver.find_element_by_class_name('al_jr')\n",
    "# print(type(al_jr))\n",
    "al_jr.click()\n",
    "\n",
    "# 동요 링크 확인.\n",
    "WebDriverWait(driver, 10).until(EC.presence_of_element_located((By.LINK_TEXT, '동요')))\n",
    "driver.find_element_by_link_text('동요').click()\n",
    "\n",
    "# 인기있어요 전체재생 버튼 클릭\n",
    "WebDriverWait(driver, 10).until(EC.presence_of_element_located((By.CSS_SELECTOR, '.thumb_list__menu_btn.type__green._PLAY_ALL')))\n",
    "driver.find_element_by_css_selector('.thumb_list__menu_btn.type__green._PLAY_ALL').click()\n",
    "\n"
   ]
  },
  {
   "cell_type": "code",
   "execution_count": 4,
   "metadata": {},
   "outputs": [],
   "source": [
    "'''\n",
    "1280 × 668\n",
    "'''\n",
    "from selenium import webdriver as wd\n",
    "from selenium.webdriver.support import expected_conditions as EC \n",
    "from selenium.webdriver.common.by import By\n",
    "from selenium.webdriver.support.ui import WebDriverWait\n",
    "\n",
    "driver = wd.Firefox(executable_path='./lib/geckodriver')\n",
    "driver.set_window_position(0, 700)\n",
    "driver.set_window_size(1280, 668)\n",
    "driver.get('http://www.naver.com')\n",
    "\n"
   ]
  },
  {
   "cell_type": "code",
   "execution_count": 9,
   "metadata": {},
   "outputs": [
    {
     "ename": "ModuleNotFoundError",
     "evalue": "No module named 'gtk'",
     "output_type": "error",
     "traceback": [
      "\u001b[0;31m---------------------------------------------------------------------------\u001b[0m",
      "\u001b[0;31mModuleNotFoundError\u001b[0m                       Traceback (most recent call last)",
      "\u001b[0;32m<ipython-input-9-ac1778c6c2b4>\u001b[0m in \u001b[0;36m<module>\u001b[0;34m()\u001b[0m\n\u001b[0;32m----> 1\u001b[0;31m \u001b[0;32mimport\u001b[0m \u001b[0mgtk\u001b[0m\u001b[0;34m,\u001b[0m \u001b[0mpygtk\u001b[0m\u001b[0;34m\u001b[0m\u001b[0m\n\u001b[0m",
      "\u001b[0;31mModuleNotFoundError\u001b[0m: No module named 'gtk'"
     ]
    }
   ],
   "source": [
    "import Tkinter\n",
    "\n",
    "root = Tkinter.Tk()\n",
    "\n",
    "screen_width = root.winfo_screenwidth()\n",
    "screen_height = root.winfo_screenheight()"
   ]
  },
  {
   "cell_type": "code",
   "execution_count": null,
   "metadata": {},
   "outputs": [],
   "source": []
  }
 ],
 "metadata": {
  "kernelspec": {
   "display_name": "Python 3",
   "language": "python",
   "name": "python3"
  },
  "language_info": {
   "codemirror_mode": {
    "name": "ipython",
    "version": 3
   },
   "file_extension": ".py",
   "mimetype": "text/x-python",
   "name": "python",
   "nbconvert_exporter": "python",
   "pygments_lexer": "ipython3",
   "version": "3.6.5"
  }
 },
 "nbformat": 4,
 "nbformat_minor": 2
}
