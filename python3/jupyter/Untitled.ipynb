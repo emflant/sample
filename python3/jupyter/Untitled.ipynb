{
 "cells": [
  {
   "cell_type": "code",
   "execution_count": 13,
   "metadata": {
    "scrolled": true
   },
   "outputs": [
    {
     "name": "stdout",
     "output_type": "stream",
     "text": [
      "name ? 123\n",
      "My name is  123\n"
     ]
    }
   ],
   "source": [
    "import os\n",
    "\n",
    "name = input('name ? ')\n",
    "\n",
    "print('My name is ', name);"
   ]
  },
  {
   "cell_type": "code",
   "execution_count": 1,
   "metadata": {},
   "outputs": [
    {
     "name": "stdout",
     "output_type": "stream",
     "text": [
      "123\n"
     ]
    }
   ],
   "source": [
    "import os\n",
    "\n",
    "print('123')"
   ]
  },
  {
   "cell_type": "code",
   "execution_count": 2,
   "metadata": {},
   "outputs": [
    {
     "name": "stdout",
     "output_type": "stream",
     "text": [
      "Tensor(\"Placeholder:0\", shape=(?, 3), dtype=float32)\n",
      "<tf.Variable 'Variable:0' shape=(1, 2) dtype=int32_ref>\n",
      "<tf.Variable 'Variable_1:0' shape=(3, 2) dtype=float32_ref>\n",
      "<tf.Variable 'Variable_2:0' shape=(2, 1) dtype=float32_ref>\n",
      "Tensor(\"add:0\", shape=(2, 2), dtype=float32)\n",
      "[[1, 2, 3], [4, 5, 6]]\n",
      "[[ 1.722677    1.9441286 ]\n",
      " [ 0.67038536 -0.28611743]\n",
      " [-0.52130294 -1.0972421 ]]\n",
      "[[ 0.46676275]\n",
      " [-0.95049363]]\n",
      "[[ 1.9663017 -1.4530698]\n",
      " [ 6.1643233 -1.188019 ]]\n"
     ]
    }
   ],
   "source": [
    "\n",
    "import tensorflow as tf\n",
    "\n",
    "X = tf.placeholder(tf.float32, [None, 3])\n",
    "print(X)\n",
    "\n",
    "# 주석처리...\n",
    "x_data = [[1,2,3], [4,5,6]]\n",
    "\n",
    "T = tf.Variable([[5,2]])\n",
    "print(T)\n",
    "\n",
    "W = tf.Variable(tf.random_normal([3,2]))\n",
    "b = tf.Variable(tf.random_normal([2,1]))\n",
    "\n",
    "print(W)\n",
    "print(b)\n",
    "\n",
    "\n",
    "expr = tf.matmul(X, W) + b\n",
    "print(expr)\n",
    "\n",
    "sess = tf.Session()\n",
    "sess.run(tf.global_variables_initializer())\n",
    "\n",
    "print(x_data)\n",
    "\n",
    "\n",
    "print(sess.run(W))\n",
    "\n",
    "print(sess.run(b))\n",
    "print(sess.run(expr, feed_dict={X: x_data}))\n",
    "\n",
    "\n",
    "sess.close()\n"
   ]
  }
 ],
 "metadata": {
  "kernelspec": {
   "display_name": "Python 3",
   "language": "python",
   "name": "python3"
  },
  "language_info": {
   "codemirror_mode": {
    "name": "ipython",
    "version": 3
   },
   "file_extension": ".py",
   "mimetype": "text/x-python",
   "name": "python",
   "nbconvert_exporter": "python",
   "pygments_lexer": "ipython3",
   "version": "3.6.5"
  }
 },
 "nbformat": 4,
 "nbformat_minor": 2
}
