{
 "cells": [
  {
   "cell_type": "code",
   "execution_count": 2,
   "metadata": {
    "scrolled": true
   },
   "outputs": [
    {
     "name": "stdout",
     "output_type": "stream",
     "text": [
      "n859h\n"
     ]
    }
   ],
   "source": [
    "from selenium import webdriver\n",
    "from selenium.webdriver.support import expected_conditions as EC\n",
    "\n",
    "import os\n",
    "\n",
    "driver = webdriver.Chrome(executable_path='./lib/chromedriver')\n",
    "driver.set_window_position(1280, 668)\n",
    "driver.set_window_size(1280, 668)\n",
    "driver.get('https://www.naver.com/')\n",
    "driver.find_element_by_css_selector('a.lg_local_btn').click()\n",
    "\n",
    "login_id = driver.find_element_by_id('id')\n",
    "login_pw = driver.find_element_by_id('pw')\n",
    "\n",
    "login_id.send_keys(os.environ['NAVER_ID'])\n",
    "login_pw.send_keys(os.environ['NAVER_PW'])\n",
    "\n",
    "login_pw.submit()\n",
    "\n",
    "login_text = input()\n",
    "\n",
    "login_pw = driver.find_element_by_id('pw')\n",
    "login_pw.send_keys(os.environ['NAVER_PW'])\n",
    "login_chptcha = driver.find_element_by_id('chptcha')\n",
    "login_chptcha.send_keys(login_text)\n",
    "login_pw.submit()"
   ]
  }
 ],
 "metadata": {
  "kernelspec": {
   "display_name": "Python 3",
   "language": "python",
   "name": "python3"
  },
  "language_info": {
   "codemirror_mode": {
    "name": "ipython",
    "version": 3
   },
   "file_extension": ".py",
   "mimetype": "text/x-python",
   "name": "python",
   "nbconvert_exporter": "python",
   "pygments_lexer": "ipython3",
   "version": "3.7.1"
  }
 },
 "nbformat": 4,
 "nbformat_minor": 2
}
