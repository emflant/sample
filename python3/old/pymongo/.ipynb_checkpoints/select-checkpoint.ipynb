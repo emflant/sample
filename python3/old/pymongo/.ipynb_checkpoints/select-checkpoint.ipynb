{
 "cells": [
  {
   "cell_type": "code",
   "execution_count": 19,
   "metadata": {},
   "outputs": [
    {
     "name": "stdout",
     "output_type": "stream",
     "text": [
      "25359\n",
      "{'_id': ObjectId('5a883d04e1707de44315e1c4'),\n",
      " 'address': {'building': '7715',\n",
      "             'coord': [-73.9973325, 40.61174889999999],\n",
      "             'street': '18 Avenue',\n",
      "             'zipcode': '11214'},\n",
      " 'borough': 'Brooklyn',\n",
      " 'cuisine': 'American',\n",
      " 'grades': [{'date': datetime.datetime(2014, 4, 16, 0, 0),\n",
      "             'grade': 'A',\n",
      "             'score': 5},\n",
      "            {'date': datetime.datetime(2013, 4, 23, 0, 0),\n",
      "             'grade': 'A',\n",
      "             'score': 2},\n",
      "            {'date': datetime.datetime(2012, 4, 24, 0, 0),\n",
      "             'grade': 'A',\n",
      "             'score': 5},\n",
      "            {'date': datetime.datetime(2011, 12, 16, 0, 0),\n",
      "             'grade': 'A',\n",
      "             'score': 2}],\n",
      " 'name': 'C & C Catering Service',\n",
      " 'restaurant_id': '40357437'}\n",
      "{'_id': ObjectId('5a883d05e1707de4431605fb'),\n",
      " 'address': {'building': '7715',\n",
      "             'coord': [-73.88877959999999, 40.7493033],\n",
      "             'street': '37 Avenue',\n",
      "             'zipcode': '11372'},\n",
      " 'borough': 'Queens',\n",
      " 'cuisine': 'Chinese',\n",
      " 'grades': [{'date': datetime.datetime(2014, 6, 18, 0, 0),\n",
      "             'grade': 'A',\n",
      "             'score': 7},\n",
      "            {'date': datetime.datetime(2014, 1, 27, 0, 0),\n",
      "             'grade': 'A',\n",
      "             'score': 10},\n",
      "            {'date': datetime.datetime(2013, 6, 12, 0, 0),\n",
      "             'grade': 'A',\n",
      "             'score': 5},\n",
      "            {'date': datetime.datetime(2012, 11, 15, 0, 0),\n",
      "             'grade': 'A',\n",
      "             'score': 12},\n",
      "            {'date': datetime.datetime(2012, 4, 10, 0, 0),\n",
      "             'grade': 'A',\n",
      "             'score': 12},\n",
      "            {'date': datetime.datetime(2011, 10, 17, 0, 0),\n",
      "             'grade': 'A',\n",
      "             'score': 13},\n",
      "            {'date': datetime.datetime(2011, 6, 30, 0, 0),\n",
      "             'grade': 'A',\n",
      "             'score': 7}],\n",
      " 'name': 'New Peking Kitchen',\n",
      " 'restaurant_id': '41382542'}\n",
      "{'_id': ObjectId('5a883d05e1707de443160606'),\n",
      " 'address': {'building': '7715',\n",
      "             'coord': [-74.023124, 40.627382],\n",
      "             'street': '5 Avenue',\n",
      "             'zipcode': '11209'},\n",
      " 'borough': 'Brooklyn',\n",
      " 'cuisine': 'American',\n",
      " 'grades': [{'date': datetime.datetime(2014, 4, 16, 0, 0),\n",
      "             'grade': 'A',\n",
      "             'score': 11},\n",
      "            {'date': datetime.datetime(2013, 4, 24, 0, 0),\n",
      "             'grade': 'A',\n",
      "             'score': 12},\n",
      "            {'date': datetime.datetime(2012, 11, 19, 0, 0),\n",
      "             'grade': 'A',\n",
      "             'score': 13},\n",
      "            {'date': datetime.datetime(2012, 6, 1, 0, 0),\n",
      "             'grade': 'A',\n",
      "             'score': 9},\n",
      "            {'date': datetime.datetime(2011, 11, 9, 0, 0),\n",
      "             'grade': 'B',\n",
      "             'score': 16},\n",
      "            {'date': datetime.datetime(2011, 5, 2, 0, 0),\n",
      "             'grade': 'A',\n",
      "             'score': 7}],\n",
      " 'name': \"Sam'S Bagel\",\n",
      " 'restaurant_id': '41382840'}\n"
     ]
    }
   ],
   "source": [
    "import pymongo\n",
    "from pprint import pprint\n",
    "\n",
    "# client = pymongo.MongoClient('localhost', 27017)\n",
    "client = pymongo.MongoClient('mongodb://localhost:27017/')\n",
    "\n",
    "db_test = client.test\n",
    "\n",
    "res = db_test.restaurants\n",
    "pprint(res.count())\n",
    "\n",
    "# db.restaurants.find({ \"address.building\" : \"7715\" })\n",
    "for r in res.find({ \"address.building\" : \"7715\" }) :\n",
    "    pprint(r)\n"
   ]
  },
  {
   "cell_type": "code",
   "execution_count": 26,
   "metadata": {},
   "outputs": [
    {
     "name": "stdout",
     "output_type": "stream",
     "text": [
      "{'_id': ObjectId('5af2e36a3830e5214a21aa85'), 'code': '01', 'msg': 'backupdata'}\n",
      "{'_id': ObjectId('5af2e37c3830e5214a21aa87'), 'code': '01', 'msg': 'backupdata'}\n",
      "{'_id': ObjectId('5af300563830e5214a21aa89'), 'code': '01', 'msg': 'backupdata'}\n",
      "{'_id': ObjectId('5af3009f3830e5214a21aa8b'), 'code': '01', 'msg': 'backupdata'}\n"
     ]
    }
   ],
   "source": [
    "\n",
    "back01 = db_test['backup01']\n",
    "\n",
    "for b in back01.find() : \n",
    "    pprint(b)\n"
   ]
  },
  {
   "cell_type": "code",
   "execution_count": null,
   "metadata": {},
   "outputs": [],
   "source": []
  }
 ],
 "metadata": {
  "kernelspec": {
   "display_name": "Python 3",
   "language": "python",
   "name": "python3"
  },
  "language_info": {
   "codemirror_mode": {
    "name": "ipython",
    "version": 3
   },
   "file_extension": ".py",
   "mimetype": "text/x-python",
   "name": "python",
   "nbconvert_exporter": "python",
   "pygments_lexer": "ipython3",
   "version": "3.6.5"
  }
 },
 "nbformat": 4,
 "nbformat_minor": 2
}
