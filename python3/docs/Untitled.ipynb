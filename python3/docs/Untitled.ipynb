{
 "cells": [
  {
   "cell_type": "code",
   "execution_count": 55,
   "id": "6b5d6649-1601-4708-ae28-2428b3e59f46",
   "metadata": {},
   "outputs": [],
   "source": [
    "def fib(n):\n",
    "    a, b = 0, 1\n",
    "    result = []\n",
    "    while a < n:\n",
    "        # print(a, end=' ')\n",
    "        result.append(a)\n",
    "        a, b = b, a+b\n",
    "    return result"
   ]
  },
  {
   "cell_type": "code",
   "execution_count": 56,
   "id": "f7b06cc8-c894-4c15-8a0d-da3b1511221e",
   "metadata": {},
   "outputs": [
    {
     "data": {
      "text/plain": [
       "[0, 1, 1, 2, 3, 5, 8, 13, 21, 34, 55, 89, 144, 233, 377, 610, 987]"
      ]
     },
     "execution_count": 56,
     "metadata": {},
     "output_type": "execute_result"
    }
   ],
   "source": [
    "fib(1000)"
   ]
  },
  {
   "cell_type": "code",
   "execution_count": 49,
   "id": "583e1e1b-9e75-4fde-aee9-63f1224e9e6f",
   "metadata": {},
   "outputs": [
    {
     "data": {
      "text/plain": [
       "(987, 21)"
      ]
     },
     "execution_count": 49,
     "metadata": {},
     "output_type": "execute_result"
    }
   ],
   "source": [
    "a"
   ]
  },
  {
   "cell_type": "code",
   "execution_count": 2,
   "id": "30049234-b86f-4ae2-b131-675c288918db",
   "metadata": {},
   "outputs": [
    {
     "name": "stdin",
     "output_type": "stream",
     "text": [
      "정수 n을 입력 :  11\n"
     ]
    },
    {
     "name": "stdout",
     "output_type": "stream",
     "text": [
      "11\n"
     ]
    }
   ],
   "source": [
    "n=int(input(\"정수 n을 입력 : \"))\n",
    "print(n)"
   ]
  },
  {
   "cell_type": "code",
   "execution_count": 19,
   "id": "fe857217-2949-4ba3-89d4-c7d9d95ce811",
   "metadata": {},
   "outputs": [
    {
     "name": "stdin",
     "output_type": "stream",
     "text": [
      "학생 점수를 입력하세요. 23\n",
      "학생 점수를 입력하세요. 89\n",
      "학생 점수를 입력하세요. 95\n",
      "학생 점수를 입력하세요. 67\n",
      "학생 점수를 입력하세요. 88\n"
     ]
    },
    {
     "name": "stdout",
     "output_type": "stream",
     "text": [
      "[23, 89, 95, 67, 88]\n",
      "평균점수 :  72.4\n",
      "평균점수이하 학생수 :  2\n"
     ]
    }
   ],
   "source": [
    "scores = []\n",
    "for i in range(5):\n",
    "    score = input('학생 점수를 입력하세요.')\n",
    "    scores.append(int(score))\n",
    "print(scores)\n",
    "avg = sum(scores) / len(scores)\n",
    "cnt = 0\n",
    "for s in scores:\n",
    "    if s < avg:\n",
    "        cnt += 1\n",
    "\n",
    "print(\"평균점수 : \", avg)\n",
    "print(\"평균점수이하 학생수 : \", cnt)"
   ]
  },
  {
   "cell_type": "code",
   "execution_count": 33,
   "id": "a1778cb5-be64-4b8d-9a1b-03466d46152d",
   "metadata": {},
   "outputs": [
    {
     "name": "stdin",
     "output_type": "stream",
     "text": [
      "학생 점수를 입력하세요. 6\n",
      "학생 점수를 입력하세요. 7\n",
      "학생 점수를 입력하세요. 8\n",
      "학생 점수를 입력하세요. 9\n",
      "학생 점수를 입력하세요. 5\n"
     ]
    },
    {
     "name": "stdout",
     "output_type": "stream",
     "text": [
      "[6, 7, 8, 9, 5]\n",
      "평균점수 :  7.0\n",
      "평균점수이하 학생수 :  2\n",
      "[1, 1]\n"
     ]
    }
   ],
   "source": [
    "scores = []\n",
    "for i in range(5):\n",
    "    score = input('학생 점수를 입력하세요.')\n",
    "    scores.append(int(score))\n",
    "print(scores)\n",
    "avg = sum(scores) / len(scores)\n",
    "cnt = 0\n",
    "cnt = sum([1 for s in scores if s < avg])\n",
    "\n",
    "print(\"평균점수 : \", avg)\n",
    "print(\"평균점수이하 학생수 : \", cnt)\n",
    "\n",
    "rr = [1 for s in scores if s < avg]\n",
    "print(rr)"
   ]
  },
  {
   "cell_type": "code",
   "execution_count": 23,
   "id": "fa44ba80-b81d-4b33-8c03-e01e1a3ee22d",
   "metadata": {},
   "outputs": [
    {
     "name": "stdout",
     "output_type": "stream",
     "text": [
      "h-e-l-l-o-"
     ]
    }
   ],
   "source": [
    "str = 'hello'\n",
    "result = ''\n",
    "for c in str:\n",
    "    print(c, end = '-')"
   ]
  },
  {
   "cell_type": "code",
   "execution_count": 24,
   "id": "29a26ba1-c54a-48cf-a7b4-bb9fe31052ed",
   "metadata": {},
   "outputs": [
    {
     "data": {
      "text/plain": [
       "'h-e-l-l-o'"
      ]
     },
     "execution_count": 24,
     "metadata": {},
     "output_type": "execute_result"
    }
   ],
   "source": [
    "'-'.join(str)"
   ]
  },
  {
   "cell_type": "code",
   "execution_count": 25,
   "id": "c812831a-0cfc-4a07-affb-e1dc67838f63",
   "metadata": {},
   "outputs": [
    {
     "name": "stdin",
     "output_type": "stream",
     "text": [
      "문자열을 입력하세요 :  helkjflkj\n"
     ]
    },
    {
     "name": "stdout",
     "output_type": "stream",
     "text": [
      "h-e-l-k-j-f-l-k-j\n"
     ]
    }
   ],
   "source": [
    "str = input('문자열을 입력하세요 : ')\n",
    "print('-'.join(str))"
   ]
  },
  {
   "cell_type": "code",
   "execution_count": 11,
   "id": "d6c07c84-bdf6-4c44-a07a-8bd92fadbc14",
   "metadata": {},
   "outputs": [
    {
     "name": "stdin",
     "output_type": "stream",
     "text": [
      "얼마까지 찾을까요?  10\n"
     ]
    },
    {
     "name": "stdout",
     "output_type": "stream",
     "text": [
      "=====  3 ,  2\n",
      "3\n",
      "=====  4 ,  2\n",
      "=====  5 ,  3\n",
      "5\n",
      "=====  6 ,  2\n",
      "=====  7 ,  3\n",
      "7\n",
      "=====  8 ,  4\n",
      "=====  9 ,  5\n",
      "9\n",
      "=====  10 ,  2\n",
      "=====  11 ,  3\n",
      "11\n",
      "=====  12 ,  4\n",
      "=====  13 ,  5\n",
      "13\n",
      "=====  14 ,  6\n",
      "14\n",
      "=====  15 ,  7\n",
      "15\n",
      "=====  16 ,  8\n",
      "=====  17 ,  9\n",
      "17\n"
     ]
    }
   ],
   "source": [
    "n = int(input(\"얼마까지 찾을까요? \"))\n",
    "\n",
    "i = 3\n",
    "\n",
    "while i <= n:\n",
    "    for j in range(2, i, 1):\n",
    "        print('===== ', i, ', ', j)\n",
    "        if i%j == 0:\n",
    "            i += 1      #가짜 i +1\n",
    "            continue    #j는 여기서 +1 됨\n",
    "        print(i)\n",
    "        i += 1          #진짜 i +1"
   ]
  },
  {
   "cell_type": "code",
   "execution_count": 5,
   "id": "f08b35b4-86d1-41c5-b8cb-4522de634933",
   "metadata": {},
   "outputs": [
    {
     "data": {
      "text/plain": [
       "range(2, 3)"
      ]
     },
     "execution_count": 5,
     "metadata": {},
     "output_type": "execute_result"
    }
   ],
   "source": [
    "range(2,3)"
   ]
  },
  {
   "cell_type": "code",
   "execution_count": 10,
   "id": "f3c84645-9274-4d17-9440-b0ec1141dcbc",
   "metadata": {},
   "outputs": [
    {
     "name": "stdout",
     "output_type": "stream",
     "text": [
      "2\n",
      "3\n",
      "4\n"
     ]
    }
   ],
   "source": [
    "for i in range(2,5):\n",
    "    print(i)"
   ]
  },
  {
   "cell_type": "code",
   "execution_count": 26,
   "id": "a20e41c7-ba3c-46be-8ff7-320343b1219a",
   "metadata": {},
   "outputs": [
    {
     "name": "stdout",
     "output_type": "stream",
     "text": [
      "2\n",
      "2 2 0\n",
      "2 3 2\n",
      "2 4 2\n",
      "2 5 2\n",
      "2 6 2\n",
      "2 7 2\n",
      "2 8 2\n",
      "2 9 2\n",
      "2 10 2\n",
      "2 11 2\n",
      "2 12 2\n",
      "2 13 2\n",
      "2 14 2\n",
      "2 15 2\n",
      "2 16 2\n",
      "2 17 2\n",
      "2 18 2\n",
      "2 19 2\n",
      "2 3\n",
      "3 2 1\n",
      "3 3 0\n",
      "3 4 3\n",
      "3 5 3\n",
      "3 6 3\n",
      "3 7 3\n",
      "3 8 3\n",
      "3 9 3\n",
      "3 10 3\n",
      "3 11 3\n",
      "3 12 3\n",
      "3 13 3\n",
      "3 14 3\n",
      "3 15 3\n",
      "3 16 3\n",
      "3 17 3\n",
      "3 18 3\n",
      "3 19 3\n",
      "3 4\n",
      "4 2 0\n",
      "4 3 1\n",
      "4 4 0\n",
      "4 5 4\n",
      "4 6 4\n",
      "4 7 4\n",
      "4 8 4\n",
      "4 9 4\n",
      "4 10 4\n",
      "4 11 4\n",
      "4 12 4\n",
      "4 13 4\n",
      "4 14 4\n",
      "4 15 4\n",
      "4 16 4\n",
      "4 17 4\n",
      "4 18 4\n",
      "4 19 4\n",
      "5\n",
      "5 2 1\n",
      "5 3 2\n",
      "5 4 1\n",
      "5 5 0\n",
      "5 6 5\n",
      "5 7 5\n",
      "5 8 5\n",
      "5 9 5\n",
      "5 10 5\n",
      "5 11 5\n",
      "5 12 5\n",
      "5 13 5\n",
      "5 14 5\n",
      "5 15 5\n",
      "5 16 5\n",
      "5 17 5\n",
      "5 18 5\n",
      "5 19 5\n",
      "5 6\n",
      "6 2 0\n",
      "6 3 0\n",
      "6 4 2\n",
      "6 5 1\n",
      "6 6 0\n",
      "6 7 6\n",
      "6 8 6\n",
      "6 9 6\n",
      "6 10 6\n",
      "6 11 6\n",
      "6 12 6\n",
      "6 13 6\n",
      "6 14 6\n",
      "6 15 6\n",
      "6 16 6\n",
      "6 17 6\n",
      "6 18 6\n",
      "6 19 6\n",
      "7\n",
      "7 2 1\n",
      "7 3 1\n",
      "7 4 3\n",
      "7 5 2\n",
      "7 6 1\n",
      "7 7 0\n",
      "7 8 7\n",
      "7 9 7\n",
      "7 10 7\n",
      "7 11 7\n",
      "7 12 7\n",
      "7 13 7\n",
      "7 14 7\n",
      "7 15 7\n",
      "7 16 7\n",
      "7 17 7\n",
      "7 18 7\n",
      "7 19 7\n",
      "7 8\n",
      "8 2 0\n",
      "8 3 2\n",
      "8 4 0\n",
      "8 5 3\n",
      "8 6 2\n",
      "8 7 1\n",
      "8 8 0\n",
      "8 9 8\n",
      "8 10 8\n",
      "8 11 8\n",
      "8 12 8\n",
      "8 13 8\n",
      "8 14 8\n",
      "8 15 8\n",
      "8 16 8\n",
      "8 17 8\n",
      "8 18 8\n",
      "8 19 8\n",
      "9\n",
      "9 2 1\n",
      "9 3 0\n",
      "9 4 1\n",
      "9 5 4\n",
      "9 6 3\n",
      "9 7 2\n",
      "9 8 1\n",
      "9 9 0\n",
      "9 10 9\n",
      "9 11 9\n",
      "9 12 9\n",
      "9 13 9\n",
      "9 14 9\n",
      "9 15 9\n",
      "9 16 9\n",
      "9 17 9\n",
      "9 18 9\n",
      "9 19 9\n",
      "10\n",
      "10 2 0\n",
      "10 3 1\n",
      "10 4 2\n",
      "10 5 0\n",
      "10 6 4\n",
      "10 7 3\n",
      "10 8 2\n",
      "10 9 1\n",
      "10 10 0\n",
      "10 11 10\n",
      "10 12 10\n",
      "10 13 10\n",
      "10 14 10\n",
      "10 15 10\n",
      "10 16 10\n",
      "10 17 10\n",
      "10 18 10\n",
      "10 19 10\n",
      "11\n",
      "11 2 1\n",
      "11 3 2\n",
      "11 4 3\n",
      "11 5 1\n",
      "11 6 5\n",
      "11 7 4\n",
      "11 8 3\n",
      "11 9 2\n",
      "11 10 1\n",
      "11 11 0\n",
      "11 12 11\n",
      "11 13 11\n",
      "11 14 11\n",
      "11 15 11\n",
      "11 16 11\n",
      "11 17 11\n",
      "11 18 11\n",
      "11 19 11\n",
      "11 12\n",
      "12 2 0\n",
      "12 3 0\n",
      "12 4 0\n",
      "12 5 2\n",
      "12 6 0\n",
      "12 7 5\n",
      "12 8 4\n",
      "12 9 3\n",
      "12 10 2\n",
      "12 11 1\n",
      "12 12 0\n",
      "12 13 12\n",
      "12 14 12\n",
      "12 15 12\n",
      "12 16 12\n",
      "12 17 12\n",
      "12 18 12\n",
      "12 19 12\n",
      "13\n",
      "13 2 1\n",
      "13 3 1\n",
      "13 4 1\n",
      "13 5 3\n",
      "13 6 1\n",
      "13 7 6\n",
      "13 8 5\n",
      "13 9 4\n",
      "13 10 3\n",
      "13 11 2\n",
      "13 12 1\n",
      "13 13 0\n",
      "13 14 13\n",
      "13 15 13\n",
      "13 16 13\n",
      "13 17 13\n",
      "13 18 13\n",
      "13 19 13\n",
      "13 14\n",
      "14 2 0\n",
      "14 3 2\n",
      "14 4 2\n",
      "14 5 4\n",
      "14 6 2\n",
      "14 7 0\n",
      "14 8 6\n",
      "14 9 5\n",
      "14 10 4\n",
      "14 11 3\n",
      "14 12 2\n",
      "14 13 1\n",
      "14 14 0\n",
      "14 15 14\n",
      "14 16 14\n",
      "14 17 14\n",
      "14 18 14\n",
      "14 19 14\n",
      "15\n",
      "15 2 1\n",
      "15 3 0\n",
      "15 4 3\n",
      "15 5 0\n",
      "15 6 3\n",
      "15 7 1\n",
      "15 8 7\n",
      "15 9 6\n",
      "15 10 5\n",
      "15 11 4\n",
      "15 12 3\n",
      "15 13 2\n",
      "15 14 1\n",
      "15 15 0\n",
      "15 16 15\n",
      "15 17 15\n",
      "15 18 15\n",
      "15 19 15\n",
      "16\n",
      "16 2 0\n",
      "16 3 1\n",
      "16 4 0\n",
      "16 5 1\n",
      "16 6 4\n",
      "16 7 2\n",
      "16 8 0\n",
      "16 9 7\n",
      "16 10 6\n",
      "16 11 5\n",
      "16 12 4\n",
      "16 13 3\n",
      "16 14 2\n",
      "16 15 1\n",
      "16 16 0\n",
      "16 17 16\n",
      "16 18 16\n",
      "16 19 16\n",
      "17\n",
      "17 2 1\n",
      "17 3 2\n",
      "17 4 1\n",
      "17 5 2\n",
      "17 6 5\n",
      "17 7 3\n",
      "17 8 1\n",
      "17 9 8\n",
      "17 10 7\n",
      "17 11 6\n",
      "17 12 5\n",
      "17 13 4\n",
      "17 14 3\n",
      "17 15 2\n",
      "17 16 1\n",
      "17 17 0\n",
      "17 18 17\n",
      "17 19 17\n",
      "17 18\n",
      "18 2 0\n",
      "18 3 0\n",
      "18 4 2\n",
      "18 5 3\n",
      "18 6 0\n",
      "18 7 4\n",
      "18 8 2\n",
      "18 9 0\n",
      "18 10 8\n",
      "18 11 7\n",
      "18 12 6\n",
      "18 13 5\n",
      "18 14 4\n",
      "18 15 3\n",
      "18 16 2\n",
      "18 17 1\n",
      "18 18 0\n",
      "18 19 18\n",
      "19\n",
      "19 2 1\n",
      "19 3 1\n",
      "19 4 3\n",
      "19 5 4\n",
      "19 6 1\n",
      "19 7 5\n",
      "19 8 3\n",
      "19 9 1\n",
      "19 10 9\n",
      "19 11 8\n",
      "19 12 7\n",
      "19 13 6\n",
      "19 14 5\n",
      "19 15 4\n",
      "19 16 3\n",
      "19 17 2\n",
      "19 18 1\n",
      "19 19 0\n",
      "19 20\n",
      "20 2 0\n",
      "20 3 2\n",
      "20 4 0\n",
      "20 5 0\n",
      "20 6 2\n",
      "20 7 6\n",
      "20 8 4\n",
      "20 9 2\n",
      "20 10 0\n",
      "20 11 9\n",
      "20 12 8\n",
      "20 13 7\n",
      "20 14 6\n",
      "20 15 5\n",
      "20 16 4\n",
      "20 17 3\n",
      "20 18 2\n",
      "20 19 1\n"
     ]
    }
   ],
   "source": [
    "n = 20\n",
    "for i in range(2, n + 1):\n",
    "    print(i)\n",
    "    k = 0\n",
    "    \n",
    "    for j in range(2, n):\n",
    "        print(i, j, i % j)\n",
    "        if(i % j == 0):\n",
    "            k += 1\n",
    "    if k == 1:\n",
    "        print(i, end=\" \")"
   ]
  },
  {
   "cell_type": "code",
   "execution_count": 36,
   "id": "fd48d801-7f04-4c7d-840e-21c3f03fad13",
   "metadata": {},
   "outputs": [
    {
     "name": "stdin",
     "output_type": "stream",
     "text": [
      "얼마까지 찾을까요?  19\n"
     ]
    },
    {
     "name": "stdout",
     "output_type": "stream",
     "text": [
      "2 3 5 7 11 13 17 19 "
     ]
    }
   ],
   "source": [
    "n = int(input(\"얼마까지 찾을까요? \"))\n",
    "\n",
    "for i in range(2, n + 1):\n",
    "    # print (i)\n",
    "    k = 0\n",
    "    for j in range(2, i):\n",
    "        if(i % j == 0):\n",
    "            k += 1\n",
    "    \n",
    "    if(k == 0):\n",
    "        print(i, end = ' ')"
   ]
  },
  {
   "cell_type": "code",
   "execution_count": null,
   "id": "fba03656-dbc6-48d7-ac93-092d7e406601",
   "metadata": {},
   "outputs": [],
   "source": []
  }
 ],
 "metadata": {
  "kernelspec": {
   "display_name": "Python 3 (ipykernel)",
   "language": "python",
   "name": "python3"
  },
  "language_info": {
   "codemirror_mode": {
    "name": "ipython",
    "version": 3
   },
   "file_extension": ".py",
   "mimetype": "text/x-python",
   "name": "python",
   "nbconvert_exporter": "python",
   "pygments_lexer": "ipython3",
   "version": "3.9.7"
  }
 },
 "nbformat": 4,
 "nbformat_minor": 5
}
