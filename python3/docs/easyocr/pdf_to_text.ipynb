{
 "cells": [
  {
   "cell_type": "code",
   "execution_count": 1,
   "metadata": {},
   "outputs": [],
   "source": [
    "import os\n",
    "from pdf2image import convert_from_path\n",
    "import easyocr"
   ]
  },
  {
   "cell_type": "code",
   "execution_count": 2,
   "metadata": {},
   "outputs": [],
   "source": [
    "# PDF 파일에서 이미지를 변환\n",
    "images = convert_from_path('./data/sample01.pdf')\n",
    "output_txt_file = './data/sample01.txt' "
   ]
  },
  {
   "cell_type": "code",
   "execution_count": 3,
   "metadata": {},
   "outputs": [],
   "source": [
    "# EasyOCR 리더 초기화\n",
    "reader = easyocr.Reader(['en', 'ko'])  # 언어는 필요에 따라 변경 가능"
   ]
  },
  {
   "cell_type": "code",
   "execution_count": 4,
   "metadata": {},
   "outputs": [],
   "source": [
    "i = 1\n",
    "image_path = f\"./data/temp/page_{i + 1}.png\"\n",
    "images[i].save(image_path, 'PNG')"
   ]
  },
  {
   "cell_type": "code",
   "execution_count": 5,
   "metadata": {},
   "outputs": [
    {
     "name": "stdout",
     "output_type": "stream",
     "text": [
      "['1차시. 반부패 법령과 정책 소개', 'Lesson 1', '반부패 법령의 종류', '반부때 법령 소개', '우리나라의 반부때 법령', '7960년대', '부정선거관련자처벌법 부정축재처리법 등', '1983년 7월 7일', '공직 사회 전반에 대한 반부때법인 공직자운리법 시행', '부패방지법 (2007)올 토대로 순차적으로 법 제정 및 시행', '공무원 행동강령 (2003)', '부패방지권의위법 (2008)', '공의신고자 보호법 (2077)', '청탁금지법 (2076)', '공공재정환수법 (2020)', '-이해충돌방지법 (2022)', '반부때 법령의 적용 대상', '포관적인 관점', '모든 국민', '누구튼지 부때 관련 행위름 인지하게 되면 해당 법령에 따라', '관계기관에 신고할 수 있기 때문', '부패행위의 주체', '공직올 수행하는 모든 공직자', '각각의 법렁마다 공직자루 정의하는 기준이 조금씩 차이남', '2']\n"
     ]
    }
   ],
   "source": [
    " # OCR 처리\n",
    "result = reader.readtext(image_path, detail=0)\n",
    "print(result)"
   ]
  },
  {
   "cell_type": "code",
   "execution_count": 18,
   "metadata": {},
   "outputs": [],
   "source": [
    "with open(output_txt_file, 'w', encoding='utf-8') as f:\n",
    "        for i, image in enumerate(images):\n",
    "            # 이미지 파일로 저장 (필요에 따라)\n",
    "            image_path = f\"./data/temp/page_{i + 1}.png\"\n",
    "            image.save(image_path, 'PNG')\n",
    "\n",
    "            # OCR 처리\n",
    "            result = reader.readtext(image_path)\n",
    "\n",
    "            # 추출된 텍스트 작성\n",
    "            for (bbox, text, prob) in result:\n",
    "                f.write(f\"{text}\\n\")\n",
    "\n",
    "            # 임시 이미지 파일 삭제 (원하는 경우)\n",
    "            # os.remove(image_path)"
   ]
  },
  {
   "cell_type": "code",
   "execution_count": null,
   "metadata": {},
   "outputs": [],
   "source": []
  }
 ],
 "metadata": {
  "kernelspec": {
   "display_name": ".venv",
   "language": "python",
   "name": "python3"
  },
  "language_info": {
   "codemirror_mode": {
    "name": "ipython",
    "version": 3
   },
   "file_extension": ".py",
   "mimetype": "text/x-python",
   "name": "python",
   "nbconvert_exporter": "python",
   "pygments_lexer": "ipython3",
   "version": "3.12.4"
  }
 },
 "nbformat": 4,
 "nbformat_minor": 2
}
