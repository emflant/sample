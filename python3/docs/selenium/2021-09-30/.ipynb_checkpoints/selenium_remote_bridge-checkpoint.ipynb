{
 "cells": [
  {
   "cell_type": "code",
   "execution_count": 1,
   "id": "entitled-papua",
   "metadata": {},
   "outputs": [],
   "source": [
    "from selenium.webdriver import Firefox"
   ]
  },
  {
   "cell_type": "code",
   "execution_count": 2,
   "id": "respiratory-floor",
   "metadata": {},
   "outputs": [],
   "source": [
    "from selenium import webdriver"
   ]
  },
  {
   "cell_type": "code",
   "execution_count": 3,
   "id": "worthy-aruba",
   "metadata": {},
   "outputs": [],
   "source": [
    "firefox_options = webdriver.FirefoxOptions()"
   ]
  },
  {
   "cell_type": "code",
   "execution_count": 5,
   "id": "equal-adjustment",
   "metadata": {},
   "outputs": [],
   "source": [
    "driver = webdriver.Remote(command_executor='http://192.168.1.17:4444', options=firefox_options)"
   ]
  },
  {
   "cell_type": "code",
   "execution_count": 7,
   "id": "spanish-bailey",
   "metadata": {},
   "outputs": [],
   "source": [
    "driver.get('http://www.google.com')"
   ]
  },
  {
   "cell_type": "code",
   "execution_count": 7,
   "id": "thorough-integrity",
   "metadata": {},
   "outputs": [],
   "source": [
    "driver.get('http://www.naver.com')"
   ]
  },
  {
   "cell_type": "code",
   "execution_count": 8,
   "id": "tropical-bhutan",
   "metadata": {},
   "outputs": [],
   "source": [
    "driver.quit()"
   ]
  },
  {
   "cell_type": "code",
   "execution_count": 4,
   "id": "facial-hobby",
   "metadata": {},
   "outputs": [],
   "source": [
    "import socket"
   ]
  },
  {
   "cell_type": "code",
   "execution_count": 5,
   "id": "warming-pleasure",
   "metadata": {},
   "outputs": [
    {
     "name": "stdout",
     "output_type": "stream",
     "text": [
      "IP Address(Internal) :  172.18.0.3\n"
     ]
    }
   ],
   "source": [
    "print(\"IP Address(Internal) : \",socket.gethostbyname(socket.gethostname()))"
   ]
  },
  {
   "cell_type": "code",
   "execution_count": 6,
   "id": "prescribed-telescope",
   "metadata": {},
   "outputs": [],
   "source": [
    "driver = webdriver.Remote(command_executor='http://my-firefox:4444', options=firefox_options)"
   ]
  },
  {
   "cell_type": "code",
   "execution_count": null,
   "id": "106c10cd-97ee-4e1d-9eee-9816a753e10a",
   "metadata": {},
   "outputs": [],
   "source": [
    "# http://localhost:7900/?autoconnect=1&resize=scale&password=secret"
   ]
  }
 ],
 "metadata": {
  "kernelspec": {
   "display_name": "Python 3",
   "language": "python",
   "name": "python3"
  },
  "language_info": {
   "codemirror_mode": {
    "name": "ipython",
    "version": 3
   },
   "file_extension": ".py",
   "mimetype": "text/x-python",
   "name": "python",
   "nbconvert_exporter": "python",
   "pygments_lexer": "ipython3",
   "version": "3.8.8"
  }
 },
 "nbformat": 4,
 "nbformat_minor": 5
}
