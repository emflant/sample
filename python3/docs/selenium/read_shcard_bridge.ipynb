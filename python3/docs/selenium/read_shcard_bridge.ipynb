{
 "cells": [
  {
   "cell_type": "code",
   "execution_count": 9,
   "id": "consolidated-hypothesis",
   "metadata": {},
   "outputs": [],
   "source": [
    "from selenium import webdriver\n",
    "from selenium.webdriver.common.by import By\n",
    "from selenium.webdriver.common.keys import Keys\n",
    "\n",
    "# https://docs.python.org/3/library/configparser.html\n",
    "import configparser\n",
    "\n",
    "# https://docs.python.org/3/library/pathlib.html\n",
    "from pathlib import Path\n",
    "\n",
    "def read_shcard(yyyymm):\n",
    "    config = configparser.ConfigParser()\n",
    "    config.read(str(Path.home()) + '/data/my-config.ini')\n",
    "\n",
    "    firefox_options = webdriver.FirefoxOptions()\n",
    "    driver = webdriver.Remote(command_executor='http://my-firefox:4444', options=firefox_options)\n",
    "\n",
    "    driver.get('file://' + config['selenium-grid']['shcard.path.' + yyyymm])\n",
    "    driver.find_element_by_xpath('//*[@id=\"password\"]').send_keys(config['default']['birth.yymmdd'] + Keys.ENTER)\n",
    "    driver.implicitly_wait(10)\n",
    "    driver.find_element_by_xpath('/html/body/div[2]/div[2]/ul/li[2]/a').click()\n",
    "    outer_html = driver.find_element_by_xpath('/html/body/div[2]/div[2]/div[3]/table[2]').get_attribute('outerHTML')\n",
    "\n",
    "    # 원격으로 html 파일을 열었지만, txt 를 읽어와서 저장하는건 여기 컨테이너이므로, selenium.data.path에 저장해야함.\n",
    "    p = Path(str(Path.home()) + '/data/outer_html_bridge_' + yyyymm + '.txt')\n",
    "    p.write_text(outer_html)\n",
    "\n",
    "    driver.quit()\n",
    "    \n",
    "read_shcard('202102')\n",
    "read_shcard('202103')\n",
    "read_shcard('202104')\n",
    "read_shcard('202105')\n",
    "read_shcard('202106')"
   ]
  },
  {
   "cell_type": "code",
   "execution_count": null,
   "id": "juvenile-mount",
   "metadata": {},
   "outputs": [],
   "source": []
  }
 ],
 "metadata": {
  "kernelspec": {
   "display_name": "Python 3",
   "language": "python",
   "name": "python3"
  },
  "language_info": {
   "codemirror_mode": {
    "name": "ipython",
    "version": 3
   },
   "file_extension": ".py",
   "mimetype": "text/x-python",
   "name": "python",
   "nbconvert_exporter": "python",
   "pygments_lexer": "ipython3",
   "version": "3.8.8"
  }
 },
 "nbformat": 4,
 "nbformat_minor": 5
}
