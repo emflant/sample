{
 "cells": [
  {
   "cell_type": "code",
   "execution_count": 44,
   "id": "christian-overall",
   "metadata": {},
   "outputs": [],
   "source": [
    "from selenium import webdriver\n",
    "from selenium.webdriver.common.by import By\n",
    "from selenium.webdriver.common.keys import Keys\n",
    "from selenium.webdriver.support.ui import WebDriverWait\n",
    "from selenium.webdriver.support import expected_conditions as EC\n",
    "\n",
    "# https://docs.python.org/3/library/configparser.html\n",
    "import configparser\n",
    "\n",
    "# https://docs.python.org/3/library/pathlib.html\n",
    "from pathlib import Path\n",
    "\n",
    "import time\n",
    "\n",
    "def read_sscard(yyyymm):\n",
    "        \n",
    "    config = configparser.ConfigParser()\n",
    "    config.read(str(Path.home()) + '/data/my-config.ini')\n",
    "\n",
    "    # https://support.mozilla.org/en-US/kb/profiles-where-firefox-stores-user-data#w_finding-your-profile-without-opening-firefox\n",
    "    firefox_options = webdriver.FirefoxOptions()\n",
    "    firefox_options.set_preference('browser.download.dir', '~/data/card/downloads/')\n",
    "    firefox_options.set_preference('browser.download.folderList', 2)\n",
    "\n",
    "    # https://stackoverflow.com/questions/974079/setting-mime-type-for-excel-document\n",
    "    firefox_options.set_preference('browser.helperApps.neverAsk.saveToDisk', \"application/vnd.ms-excel\")\n",
    "\n",
    "    driver = webdriver.Remote(command_executor='http://host.docker.internal:4444', options=firefox_options)\n",
    "    driver.get('file://' + config['selenium']['sscard.path.' + yyyymm])\n",
    "\n",
    "    # //*[@id=\"password\"]\n",
    "    driver.find_element_by_xpath('//*[@id=\"password\"]').send_keys(config['default']['birth.yymmdd'] + Keys.ENTER)\n",
    "\n",
    "    wait = WebDriverWait(driver, 10)\n",
    "    element = wait.until(EC.element_to_be_clickable((By.CSS_SELECTOR, 'button.btn_inquiry:nth-child(1)')))\n",
    "    element.send_keys(Keys.ENTER)\n",
    "    \n",
    "    # 다운로드 하는 파일이 완료되었는지 기다릴 수 있는 방법이 없어 sleep 처리.\n",
    "    time.sleep(3)\n",
    "    \n",
    "    driver.quit()\n",
    "    \n",
    "read_sscard('202101')\n",
    "read_sscard('202102')\n",
    "read_sscard('202103')\n",
    "read_sscard('202104')\n",
    "read_sscard('202105')\n",
    "read_sscard('202106')\n",
    "read_sscard('202107')\n"
   ]
  },
  {
   "cell_type": "code",
   "execution_count": 6,
   "id": "killing-information",
   "metadata": {},
   "outputs": [],
   "source": [
    "from selenium import webdriver\n",
    "from selenium.webdriver.common.by import By\n",
    "from selenium.webdriver.common.keys import Keys\n",
    "from selenium.webdriver.support.ui import WebDriverWait\n",
    "from selenium.webdriver.support import expected_conditions as EC\n",
    "\n",
    "# https://docs.python.org/3/library/configparser.html\n",
    "import configparser\n",
    "\n",
    "# https://docs.python.org/3/library/pathlib.html\n",
    "from pathlib import Path\n",
    "import time\n",
    "from bs4 import BeautifulSoup\n",
    "\n",
    "yyyymm = '202101'\n",
    "config = configparser.ConfigParser()\n",
    "config.read(str(Path.home()) + '/data/my-config.ini')\n",
    "\n",
    "# https://support.mozilla.org/en-US/kb/profiles-where-firefox-stores-user-data#w_finding-your-profile-without-opening-firefox\n",
    "firefox_options = webdriver.FirefoxOptions()\n",
    "firefox_options.set_preference('browser.download.dir', '~/data/card/downloads/')\n",
    "firefox_options.set_preference('browser.download.folderList', 2)\n",
    "\n",
    "# https://stackoverflow.com/questions/974079/setting-mime-type-for-excel-document\n",
    "firefox_options.set_preference('browser.helperApps.neverAsk.saveToDisk', \"application/vnd.ms-excel\")\n",
    "\n",
    "driver = webdriver.Remote(command_executor='http://host.docker.internal:4444', options=firefox_options)\n",
    "driver.get('file://' + config['selenium']['sscard.path.'+yyyymm])\n",
    "\n",
    "# //*[@id=\"password\"]\n",
    "driver.find_element_by_xpath('//*[@id=\"password\"]').send_keys(config['default']['birth.yymmdd'] + Keys.ENTER)\n",
    "\n",
    "\n",
    "time.sleep(3)\n",
    "\n",
    "\n",
    "\n",
    "#p = Path(str(Path.home()) + '/data/card/sscard_result_html_' + yyyymm + '.html')\n",
    "#p.write_text(outer_html, encoding = 'utf-8')"
   ]
  },
  {
   "cell_type": "code",
   "execution_count": 7,
   "id": "actual-beast",
   "metadata": {},
   "outputs": [],
   "source": [
    "from bs4 import BeautifulSoup\n",
    "# soup = BeautifulSoup(html_doc, 'html.parser')\n",
    "\n",
    "html_doc = driver.page_source\n",
    "soup = BeautifulSoup(html_doc, 'html.parser')"
   ]
  },
  {
   "cell_type": "code",
   "execution_count": 22,
   "id": "present-cosmetic",
   "metadata": {},
   "outputs": [],
   "source": [
    "html_ul_doc = soup.find('ul', id = 'inquire_append_D8')\n",
    "html_ul_doc.toString()"
   ]
  },
  {
   "cell_type": "code",
   "execution_count": null,
   "id": "occupational-monroe",
   "metadata": {},
   "outputs": [],
   "source": [
    "soup.find_all('li')"
   ]
  },
  {
   "cell_type": "code",
   "execution_count": null,
   "id": "statewide-experiment",
   "metadata": {},
   "outputs": [],
   "source": [
    "for child in html_ul_doc.children:\n",
    "    print('child')\n",
    "    print(child)"
   ]
  },
  {
   "cell_type": "code",
   "execution_count": 28,
   "id": "blank-anthony",
   "metadata": {},
   "outputs": [],
   "source": [
    "soup2 = BeautifulSoup(str(html_ul_doc), 'html.parser')"
   ]
  },
  {
   "cell_type": "code",
   "execution_count": 35,
   "id": "exotic-intelligence",
   "metadata": {},
   "outputs": [
    {
     "data": {
      "text/plain": [
       "<li class=\"li top_total\">\n",
       "<div class=\"head\">\n",
       "<a class=\"ui_accord_toggle\" data-close-text=\"일부결제금액이월약정 (리볼빙) 일시불 소계 내용 닫기\" data-open-text=\"일부결제금액이월약정 (리볼빙) 일시불 소계 내용 더 보기\" href=\"#\"><!-- 190306 수정/PS190305001191/김은영 -->\n",
       "<div class=\"fl_l\">\n",
       "<!-- 170705 / 수정 / PS170615000681 / 김현진 -->\n",
       "<p class=\"tit\">소계</p>\n",
       "<!-- //170705 / 수정 / PS170615000681 / 김현진 -->\n",
       "<p class=\"num\">총 <strong class=\"f_ls0\" id=\"totEcnD8\">6</strong>건</p>\n",
       "</div>\n",
       "<div class=\"fl_r\">\n",
       "<p class=\"total\"><strong class=\"f_ls0\" id=\"totSumAmD8\">292,165</strong>원</p>\n",
       "</div>\n",
       "<span class=\"btn_open\"><span class=\"hide\"><span class=\"ui_accord_text\">일부결제금액이월약정 (리볼빙) 일시불 소계 내용 더 보기</span></span></span><!-- 190624 수정 / PS190517001882 / 김윤희 -->\n",
       "</a>\n",
       "</div>\n",
       "<!-- 상세 -->\n",
       "<div class=\"desc_wrap ui_accord_content\">\n",
       "<!-- 가로 -->\n",
       "<ul class=\"row\">\n",
       "<li><span class=\"fl_l\">원금</span> <span class=\"fl_r\"><span class=\"ls0\" id=\"totBilPcamD8\">292,165</span> <!-- <span class=\"ls0\">USD</span> -->원</span></li>\n",
       "<li><span class=\"fl_l\">이자/수수료</span> <span class=\"fl_r\"><span class=\"ls0\" id=\"totBilIntD8\"></span></span></li>\n",
       "<li><span class=\"fl_l\">입금 후 잔액</span> <span class=\"fl_r\"><span class=\"ls0\" id=\"totBilafBlamD8\"></span></span></li>\n",
       "</ul>\n",
       "</div>\n",
       "<!-- //상세 -->\n",
       "</li>"
      ]
     },
     "execution_count": 35,
     "metadata": {},
     "output_type": "execute_result"
    }
   ],
   "source": [
    "soup2.li"
   ]
  },
  {
   "cell_type": "code",
   "execution_count": 38,
   "id": "confused-fountain",
   "metadata": {},
   "outputs": [
    {
     "data": {
      "text/plain": [
       "'\\n'"
      ]
     },
     "execution_count": 38,
     "metadata": {},
     "output_type": "execute_result"
    }
   ],
   "source": [
    "soup2.li.next_sibling"
   ]
  },
  {
   "cell_type": "code",
   "execution_count": 42,
   "id": "appointed-healing",
   "metadata": {},
   "outputs": [
    {
     "data": {
      "text/plain": [
       "'\\n'"
      ]
     },
     "execution_count": 42,
     "metadata": {},
     "output_type": "execute_result"
    }
   ],
   "source": [
    "soup2.li.next_sibling.next_sibling.next_sibling.next_sibling.next_sibling.next_sibling.next_sibling"
   ]
  },
  {
   "cell_type": "code",
   "execution_count": null,
   "id": "christian-train",
   "metadata": {},
   "outputs": [],
   "source": []
  }
 ],
 "metadata": {
  "kernelspec": {
   "display_name": "Python 3",
   "language": "python",
   "name": "python3"
  },
  "language_info": {
   "codemirror_mode": {
    "name": "ipython",
    "version": 3
   },
   "file_extension": ".py",
   "mimetype": "text/x-python",
   "name": "python",
   "nbconvert_exporter": "python",
   "pygments_lexer": "ipython3",
   "version": "3.8.8"
  }
 },
 "nbformat": 4,
 "nbformat_minor": 5
}
