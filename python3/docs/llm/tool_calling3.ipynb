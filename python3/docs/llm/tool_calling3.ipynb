{
 "cells": [
  {
   "cell_type": "code",
   "execution_count": 63,
   "id": "478b35dc-b7c9-47c5-999d-d3dc25897229",
   "metadata": {},
   "outputs": [
    {
     "name": "stdout",
     "output_type": "stream",
     "text": [
      "langchain_core : 0.3.10\n",
      "langchain_ollama : 0.2.0\n"
     ]
    }
   ],
   "source": [
    "from langchain_ollama import ChatOllama\n",
    "from langchain_core.prompts import ChatPromptTemplate, FewShotChatMessagePromptTemplate\n",
    "import langchain_core, langchain_ollama\n",
    "import pprint\n",
    "\n",
    "#langchain_core : 0.3.10\n",
    "#langchain_ollama : 0.2.0\n",
    "print(\"langchain_core : \" + langchain_core.__version__)\n",
    "print(\"langchain_ollama : \" + langchain_ollama.__version__)"
   ]
  },
  {
   "cell_type": "code",
   "execution_count": 49,
   "id": "d2a87db6-851d-4c01-8986-39f25b9dd002",
   "metadata": {},
   "outputs": [],
   "source": [
    "# model=\"llama3.2:3b\" 에서 했으나, tool calling 이 제대로 적용되지 않음.\n",
    "# 버전은 낮지만, 더 큰 모델을 사용했더니 성공. llama3.1:8b\n",
    "llm = ChatOllama(\n",
    "    model=\"llama3.1:8b\",\n",
    "    temperature=0,\n",
    "    base_url=\"http://host.docker.internal:11434\"\n",
    ")"
   ]
  },
  {
   "cell_type": "code",
   "execution_count": 51,
   "id": "6a04211a-db70-40d0-9727-ca56e5766e15",
   "metadata": {},
   "outputs": [
    {
     "name": "stdout",
     "output_type": "stream",
     "text": [
      "Two simple math questions!\n",
      "\n",
      "**1. 3 * 12 = 36**\n",
      "\n",
      "Multiplying 3 by 12 gives us a product of 36.\n",
      "\n",
      "**2. 11 + 49 = 60**\n",
      "\n",
      "Adding 11 and 49 together gives us a sum of 60.\n"
     ]
    }
   ],
   "source": [
    "ai_msg = llm.invoke(input=\"What is 3 * 12? Also, what is 11 + 49?\")\n",
    "print(ai_msg.content)"
   ]
  },
  {
   "cell_type": "code",
   "execution_count": 52,
   "id": "187ab18a-f9c4-49b7-b524-3c31e1936985",
   "metadata": {},
   "outputs": [],
   "source": [
    "from langchain_core.tools import tool\n",
    "\n",
    "@tool\n",
    "def add(a:int, b:int) -> int:\n",
    "    \"\"\"Adds a and b.\"\"\"\n",
    "    return a + b + 10\n",
    "\n",
    "@tool\n",
    "def multiply(a:int, b:int) -> int:\n",
    "    \"\"\"Multiplies a and b.\"\"\"\n",
    "    return a * b * 10   "
   ]
  },
  {
   "cell_type": "code",
   "execution_count": 53,
   "id": "b2cdcf97-e68c-4da4-a94c-c66d8047eb1a",
   "metadata": {},
   "outputs": [],
   "source": [
    "tools = [add, multiply]\n",
    "llm_with_tools = llm.bind_tools(tools)"
   ]
  },
  {
   "cell_type": "code",
   "execution_count": 54,
   "id": "3fe3bcff-ae03-4334-821c-f60ee847ffbd",
   "metadata": {},
   "outputs": [],
   "source": [
    "from langchain_core.messages import HumanMessage\n",
    "\n",
    "query = \"What is 3 * 12? Also, what is 11 + 49?\""
   ]
  },
  {
   "cell_type": "code",
   "execution_count": 72,
   "id": "f9e2d625-6125-454d-a570-d21b48bbd0ad",
   "metadata": {},
   "outputs": [],
   "source": [
    "messages = [HumanMessage(query)]"
   ]
  },
  {
   "cell_type": "code",
   "execution_count": 73,
   "id": "51ca00df-7066-4f6d-810f-61e8618ec83e",
   "metadata": {},
   "outputs": [
    {
     "name": "stdout",
     "output_type": "stream",
     "text": [
      "[{'args': {'a': 3, 'b': 12},\n",
      "  'id': '66e773b5-9012-4343-b74e-e674bf9322fa',\n",
      "  'name': 'multiply',\n",
      "  'type': 'tool_call'},\n",
      " {'args': {'a': 11, 'b': 49},\n",
      "  'id': '502862d1-0d5b-48be-892e-8355ac2f292f',\n",
      "  'name': 'add',\n",
      "  'type': 'tool_call'}]\n"
     ]
    }
   ],
   "source": [
    "ai_msg = llm_with_tools.invoke(messages)\n",
    "pprint.pprint(ai_msg.tool_calls)"
   ]
  },
  {
   "cell_type": "code",
   "execution_count": 74,
   "id": "c0f3033d-61bc-4dbb-8ee6-4e62c34c563c",
   "metadata": {},
   "outputs": [],
   "source": [
    "messages.append(ai_msg)"
   ]
  },
  {
   "cell_type": "code",
   "execution_count": 75,
   "id": "bd1ed3ab-1956-4962-8710-8cf908c9df6c",
   "metadata": {},
   "outputs": [],
   "source": [
    "for tool_call in ai_msg.tool_calls:\n",
    "    selected_tool = {\"add\": add, \"multiply\":multiply}[tool_call[\"name\"]]\n",
    "    tool_msg = selected_tool.invoke(tool_call)\n",
    "    messages.append(tool_msg)"
   ]
  },
  {
   "cell_type": "code",
   "execution_count": 84,
   "id": "5d9c81f4-49e1-4146-8465-de4bf1f6321c",
   "metadata": {},
   "outputs": [
    {
     "name": "stdout",
     "output_type": "stream",
     "text": [
      "[HumanMessage(content='What is 3 * 12? Also, what is 11 + 49?', additional_kwargs={}, response_metadata={}),\n",
      " AIMessage(content='', additional_kwargs={}, response_metadata={'model': 'llama3.1:8b', 'created_at': '2024-10-14T10:05:58.477577Z', 'message': {'role': 'assistant', 'content': '', 'tool_calls': [{'function': {'name': 'multiply', 'arguments': {'a': 3, 'b': 12}}}, {'function': {'name': 'add', 'arguments': {'a': 11, 'b': 49}}}]}, 'done_reason': 'stop', 'done': True, 'total_duration': 5185118709, 'load_duration': 32918959, 'prompt_eval_count': 233, 'prompt_eval_duration': 1599681000, 'eval_count': 43, 'eval_duration': 3551051000}, id='run-ad7f5247-74c9-4d55-97e5-1e791446a9b9-0', tool_calls=[{'name': 'multiply', 'args': {'a': 3, 'b': 12}, 'id': '66e773b5-9012-4343-b74e-e674bf9322fa', 'type': 'tool_call'}, {'name': 'add', 'args': {'a': 11, 'b': 49}, 'id': '502862d1-0d5b-48be-892e-8355ac2f292f', 'type': 'tool_call'}], usage_metadata={'input_tokens': 233, 'output_tokens': 43, 'total_tokens': 276}),\n",
      " ToolMessage(content='360', name='multiply', tool_call_id='66e773b5-9012-4343-b74e-e674bf9322fa'),\n",
      " ToolMessage(content='70', name='add', tool_call_id='502862d1-0d5b-48be-892e-8355ac2f292f')]\n"
     ]
    }
   ],
   "source": [
    "pprint.pp(messages)"
   ]
  },
  {
   "cell_type": "code",
   "execution_count": 85,
   "id": "47913e59-85ef-4e51-813e-9e7b46edfcc8",
   "metadata": {},
   "outputs": [],
   "source": [
    "ai_final_msg = llm_with_tools.invoke(messages)"
   ]
  },
  {
   "cell_type": "code",
   "execution_count": 86,
   "id": "505a2012-8956-419b-9637-9378cddbf545",
   "metadata": {},
   "outputs": [
    {
     "name": "stdout",
     "output_type": "stream",
     "text": [
      "The result of the multiplication is 360, and the result of the addition is 70.\n"
     ]
    }
   ],
   "source": [
    "print(ai_final_msg.content)"
   ]
  },
  {
   "cell_type": "code",
   "execution_count": null,
   "id": "e0988d3b-2d51-4366-8b0d-dc850b277cd5",
   "metadata": {},
   "outputs": [],
   "source": []
  }
 ],
 "metadata": {
  "kernelspec": {
   "display_name": "Python 3 (ipykernel)",
   "language": "python",
   "name": "python3"
  },
  "language_info": {
   "codemirror_mode": {
    "name": "ipython",
    "version": 3
   },
   "file_extension": ".py",
   "mimetype": "text/x-python",
   "name": "python",
   "nbconvert_exporter": "python",
   "pygments_lexer": "ipython3",
   "version": "3.12.7"
  }
 },
 "nbformat": 4,
 "nbformat_minor": 5
}
