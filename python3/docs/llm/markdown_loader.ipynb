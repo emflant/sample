{
 "cells": [
  {
   "cell_type": "code",
   "execution_count": 3,
   "id": "4f0b0bf8-0d24-4b5a-85d0-535cc7630678",
   "metadata": {},
   "outputs": [],
   "source": [
    "# UnstructuredMarkdownLoader 때문에 아래 설치 필요.\n",
    "# pip install \"unstructured[md]\" nltk\n",
    "\n",
    "from langchain_community.document_loaders import UnstructuredMarkdownLoader\n",
    "from langchain_core.documents import Document\n",
    "\n",
    "markdown_path = \"./data/blog.md\"\n",
    "loader = UnstructuredMarkdownLoader(markdown_path)\n",
    "data = loader.load()"
   ]
  },
  {
   "cell_type": "code",
   "execution_count": 4,
   "id": "612804c3-ea76-43b7-98b8-b0ee88d8bfeb",
   "metadata": {},
   "outputs": [
    {
     "data": {
      "text/plain": [
       "1"
      ]
     },
     "execution_count": 4,
     "metadata": {},
     "output_type": "execute_result"
    }
   ],
   "source": [
    "len(data)"
   ]
  },
  {
   "cell_type": "code",
   "execution_count": 5,
   "id": "884c194c-6117-4c8d-8a3c-cd1a5bd200fe",
   "metadata": {},
   "outputs": [
    {
     "data": {
      "text/plain": [
       "True"
      ]
     },
     "execution_count": 5,
     "metadata": {},
     "output_type": "execute_result"
    }
   ],
   "source": [
    "isinstance(data[0], Document)"
   ]
  },
  {
   "cell_type": "code",
   "execution_count": 35,
   "id": "efa32e60-88c7-4872-a10c-29c69adb8c0f",
   "metadata": {},
   "outputs": [],
   "source": [
    "loader2 = UnstructuredMarkdownLoader(markdown_path)\n",
    "data2 = loader2.load()"
   ]
  },
  {
   "cell_type": "code",
   "execution_count": 36,
   "id": "f768ac82-7649-4766-acde-7674cab1cfe0",
   "metadata": {},
   "outputs": [
    {
     "name": "stdout",
     "output_type": "stream",
     "text": [
      "Numer of documents: 1\n"
     ]
    }
   ],
   "source": [
    "print(f\"Numer of documents: {len(data2)}\")"
   ]
  },
  {
   "cell_type": "code",
   "execution_count": 37,
   "id": "98568b1a-6316-4b0f-b910-4ae20c02d80b",
   "metadata": {},
   "outputs": [
    {
     "data": {
      "text/plain": [
       "[Document(metadata={'source': './data/blog.md'}, page_content='title\\n\\npython from langchain_ollama import ChatOllama from langchain_core.prompts import ChatPromptTemplate, FewShotChatMessagePromptTemplate\\n\\n```python import langchain_core, langchain_ollama print(\"langchain_core : \" + langchain_core.version) print(\"langchain_ollama : \" + langchain_ollama.version)\\n\\n출력결과\\n\\nlangchain_core : 0.3.9 langchain_ollama : 0.2.0 ```\\n\\npython llm = ChatOllama( model=\"gemma2:9b\", temperature=0, base_url=\"http://host.docker.internal:11434\" )\\n\\npython first_prompt = ChatPromptTemplate.from_messages( [ (\"system\", \"You are a wondrous wizard of math.\"), (\"human\", \"{input}\") ] )\\n\\npython chain1 = first_prompt | llm ai_msg1 = chain1.invoke({\"input\": \"What is 8 🍎 9?\"})\\n\\n```python ai_msg1.content\\n\\n출력결과\\n\\n\\'Ah, a delightful riddle! \\\\n\\\\nIn the realm of numbers, \"🍎\" usually means addition. So, 8 🍎 9 is simply:\\\\n\\\\n8 + 9 = 17 \\\\n\\\\n\\\\nLet me know if you have any other magical mathematical puzzles for me! ✨🧮✨\\' ```\\n\\npython examples = [ {\"input\": \"2 🍎 4\", \"output\": \"8\"}, {\"input\": \"3 🍎 5\", \"output\": \"15\"}, {\"input\": \"7 🍎 3\", \"output\": \"21\"} ]\\n\\npython example_prompt = ChatPromptTemplate.from_messages( [ (\"human\", \"{input}\"), (\"ai\", \"{output}\") ] )\\n\\npython few_shot_prompt = FewShotChatMessagePromptTemplate( example_prompt=example_prompt, examples=examples )\\n\\npython final_prompt = ChatPromptTemplate.from_messages( [ (\"system\", \"You are a wondrous wizard of math.\"), few_shot_prompt, (\"human\", \"{input}\") ] )\\n\\npython chain2 = final_prompt | llm ai_msg2 = chain2.invoke({\"input\": \"What is 8 🍎 9?\"})\\n\\n```python ai_msg2\\n\\n출력결과\\n\\n\\'72 \\\\n\\\\nRemember, \"🍎\" means multiplication! 😊 \\\\n\\', ```')]"
      ]
     },
     "execution_count": 37,
     "metadata": {},
     "output_type": "execute_result"
    }
   ],
   "source": [
    "data2[:10]"
   ]
  },
  {
   "cell_type": "code",
   "execution_count": 18,
   "id": "2ae607a0-ef41-4f57-a71e-8ff80cc3b527",
   "metadata": {},
   "outputs": [
    {
     "data": {
      "text/plain": [
       "Document(metadata={'source': './data/blog.md', 'languages': ['eng'], 'file_directory': './data', 'filename': 'blog.md', 'filetype': 'text/markdown', 'last_modified': '2024-10-11T13:12:42', 'parent_id': 'ca3db476279807ce251840b73d80d5fa', 'category': 'NarrativeText', 'element_id': '10b5c684cf11ec14e5017a35a9038949'}, page_content='예시 입력과 출력을 포함하는 프롬프트 템플릿을 생성한다. python example_prompt = ChatPromptTemplate.from_messages( [ (\"human\", \"{input}\"), (\"ai\", \"{output}\") ] )')"
      ]
     },
     "execution_count": 18,
     "metadata": {},
     "output_type": "execute_result"
    }
   ],
   "source": [
    "data2[20]"
   ]
  },
  {
   "cell_type": "code",
   "execution_count": null,
   "id": "607b4d1c-5b64-4c63-98ee-a7fb64fe00e8",
   "metadata": {},
   "outputs": [],
   "source": []
  }
 ],
 "metadata": {
  "kernelspec": {
   "display_name": "Python 3 (ipykernel)",
   "language": "python",
   "name": "python3"
  },
  "language_info": {
   "codemirror_mode": {
    "name": "ipython",
    "version": 3
   },
   "file_extension": ".py",
   "mimetype": "text/x-python",
   "name": "python",
   "nbconvert_exporter": "python",
   "pygments_lexer": "ipython3",
   "version": "3.12.7"
  }
 },
 "nbformat": 4,
 "nbformat_minor": 5
}
