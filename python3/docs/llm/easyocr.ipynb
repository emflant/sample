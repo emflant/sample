{
 "cells": [
  {
   "cell_type": "code",
   "execution_count": 15,
   "id": "d6b47bd3-3e3b-4db6-81c2-199bbe4c005a",
   "metadata": {},
   "outputs": [],
   "source": [
    "import easyocr"
   ]
  },
  {
   "cell_type": "code",
   "execution_count": 31,
   "id": "b9e7fde0-5f09-4119-bf03-4e8974a92c56",
   "metadata": {},
   "outputs": [
    {
     "name": "stderr",
     "output_type": "stream",
     "text": [
      "Neither CUDA nor MPS are available - defaulting to CPU. Note: This module is much faster with a GPU.\n"
     ]
    }
   ],
   "source": [
    "reader = easyocr.Reader(['en', 'ko'],gpu=True)"
   ]
  },
  {
   "cell_type": "code",
   "execution_count": 32,
   "id": "881535fa-838e-4a27-8047-dbec60002676",
   "metadata": {},
   "outputs": [],
   "source": [
    "result = reader.readtext(\"./data/12.jpg\", detail=0)"
   ]
  },
  {
   "cell_type": "code",
   "execution_count": 33,
   "id": "afb4e793-b53a-4f74-b4a2-cbe6eb59613e",
   "metadata": {},
   "outputs": [
    {
     "name": "stdout",
     "output_type": "stream",
     "text": [
      "['Langchain', '집쭈닮듣닮닮닮>집닮닮', '', '쭈쭈쭈닮쭈닮닮', '돼닮집닮', '닮집닮', '집집닮', '달집', '', 'LangChain', '닮묵집닮', ' 집닮 ', '쭈쭈쭈닮닮', '', '쭈닮쭈닮', ' ', '돼집쭈닮닮닮K집닮  ', '돼닮 집닮 ', '하는   기능이미 ,', '돼닮닮닮닮닮닮쭈닮닮닮집쭈닮집닮', '', '', '듣닮 집닮', '집집K집닮K닮']\n"
     ]
    }
   ],
   "source": [
    "print(result)"
   ]
  },
  {
   "cell_type": "code",
   "execution_count": null,
   "id": "5d669c0f-b5ca-41dc-bc0c-bb4c5ba0896e",
   "metadata": {},
   "outputs": [],
   "source": []
  }
 ],
 "metadata": {
  "kernelspec": {
   "display_name": "Python 3 (ipykernel)",
   "language": "python",
   "name": "python3"
  },
  "language_info": {
   "codemirror_mode": {
    "name": "ipython",
    "version": 3
   },
   "file_extension": ".py",
   "mimetype": "text/x-python",
   "name": "python",
   "nbconvert_exporter": "python",
   "pygments_lexer": "ipython3",
   "version": "3.12.7"
  }
 },
 "nbformat": 4,
 "nbformat_minor": 5
}
