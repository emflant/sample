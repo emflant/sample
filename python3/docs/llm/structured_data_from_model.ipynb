{
 "cells": [
  {
   "cell_type": "markdown",
   "id": "7b902b4a-e637-44e8-91e8-63028784170b",
   "metadata": {},
   "source": [
    "# structured_data_from_model\n",
    "\n",
    "* https://python.langchain.com/docs/how_to/structured_output/"
   ]
  },
  {
   "cell_type": "code",
   "execution_count": 2,
   "id": "f3afe0e0-e447-4e62-aaba-60be0d6f51f6",
   "metadata": {},
   "outputs": [
    {
     "name": "stdout",
     "output_type": "stream",
     "text": [
      "langchain_core : 0.3.9\n",
      "langchain_ollama : 0.2.0\n"
     ]
    }
   ],
   "source": [
    "from langchain_ollama import ChatOllama\n",
    "from langchain_core.prompts import ChatPromptTemplate, FewShotChatMessagePromptTemplate\n",
    "import langchain_core, langchain_ollama\n",
    "\n",
    "#langchain_core : 0.3.9\n",
    "#langchain_ollama : 0.2.0\n",
    "print(\"langchain_core : \" + langchain_core.__version__)\n",
    "print(\"langchain_ollama : \" + langchain_ollama.__version__)"
   ]
  },
  {
   "cell_type": "code",
   "execution_count": 3,
   "id": "6dbd04a8-5586-457d-872c-d18a8abe5ee0",
   "metadata": {},
   "outputs": [],
   "source": [
    "# ResponseError: gemma2:9b does not support tools\n",
    "llm = ChatOllama(\n",
    "    model=\"llama3.2:3b\",\n",
    "    temperature=0,\n",
    "    base_url=\"http://host.docker.internal:11434\"\n",
    ")"
   ]
  },
  {
   "cell_type": "code",
   "execution_count": 5,
   "id": "6c395db5-180a-409d-9d4f-df9186c67b82",
   "metadata": {},
   "outputs": [],
   "source": [
    "from typing import Optional\n",
    "from pydantic import BaseModel, Field\n",
    "\n",
    "class Joke(BaseModel):\n",
    "    setup: str\n",
    "    punchline: str\n",
    "    rating: Optional[int]"
   ]
  },
  {
   "cell_type": "code",
   "execution_count": 6,
   "id": "b65f323b-2378-415a-8b7a-920c7d1f80fd",
   "metadata": {},
   "outputs": [],
   "source": [
    "structured_llm = llm.with_structured_output(Joke)"
   ]
  },
  {
   "cell_type": "code",
   "execution_count": 7,
   "id": "156184fd-ea9c-4f65-987a-1a37ef2b25c1",
   "metadata": {},
   "outputs": [
    {
     "data": {
      "text/plain": [
       "Joke(setup='Why did the cat join a band?', punchline='Because it wanted to be the purr-cussionist!', rating=8)"
      ]
     },
     "execution_count": 7,
     "metadata": {},
     "output_type": "execute_result"
    }
   ],
   "source": [
    "structured_llm.invoke(\"Tell me a joke about cats\")"
   ]
  },
  {
   "cell_type": "markdown",
   "id": "9be019e9-d017-4267-8523-ea0f9809d91f",
   "metadata": {},
   "source": [
    "class 정의할 때 사용하는 클래스명, 변수명, 설명이 매우 중요하다. 이 기반으로 LLM 결과가 리턴되고 파싱된다. 아래의 예시에서는 1~100점 사이로 평가점수를 줘야 한다고 했더니, 결과가 달라졌다. "
   ]
  },
  {
   "cell_type": "code",
   "execution_count": 12,
   "id": "4d09c544-6af4-42ad-9ded-6082640502d2",
   "metadata": {},
   "outputs": [],
   "source": [
    "class Joke2(BaseModel):\n",
    "    \"\"\"Joke to tell user.\"\"\"\n",
    "    \n",
    "    setup: str = Field(description=\"The setup of the joke\")\n",
    "    punchline: str = Field(description=\"The punchline of the joke\")\n",
    "    rating: Optional[int] = Field(\n",
    "        default=None, description=\"How funny the joke is, from 1 to 100\")"
   ]
  },
  {
   "cell_type": "code",
   "execution_count": 15,
   "id": "9faab236-c0ef-4a7d-ab12-770bbb7d97f4",
   "metadata": {},
   "outputs": [
    {
     "data": {
      "text/plain": [
       "Joke2(setup='Why did the cat join a band?', punchline='Because it wanted to be the purr-cussionist!', rating=80)"
      ]
     },
     "execution_count": 15,
     "metadata": {},
     "output_type": "execute_result"
    }
   ],
   "source": [
    "structured_llm2 = llm.with_structured_output(Joke2)\n",
    "structured_llm2.invoke(\"Tell me a joke about cats\")"
   ]
  }
 ],
 "metadata": {
  "kernelspec": {
   "display_name": "Python 3 (ipykernel)",
   "language": "python",
   "name": "python3"
  },
  "language_info": {
   "codemirror_mode": {
    "name": "ipython",
    "version": 3
   },
   "file_extension": ".py",
   "mimetype": "text/x-python",
   "name": "python",
   "nbconvert_exporter": "python",
   "pygments_lexer": "ipython3",
   "version": "3.12.7"
  }
 },
 "nbformat": 4,
 "nbformat_minor": 5
}
