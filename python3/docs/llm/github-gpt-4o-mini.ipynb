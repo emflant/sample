{
 "cells": [
  {
   "cell_type": "code",
   "execution_count": 1,
   "id": "5389e746-ec7f-4619-8740-22ad92675b73",
   "metadata": {},
   "outputs": [],
   "source": [
    "import os\n",
    "from openai import OpenAI\n",
    "\n",
    "# 이 토큰은 아무런 기능이 없는 토큰임. 그래도 github 토큰이면 그냥 됨.\n",
    "token = os.environ[\"OPENAI_TOKEN\"]\n",
    "\n",
    "endpoint = \"https://models.inference.ai.azure.com\"\n",
    "model_name = \"gpt-4o-mini\"\n",
    "\n",
    "client = OpenAI(\n",
    "    base_url=endpoint,\n",
    "    api_key=token\n",
    ")"
   ]
  },
  {
   "cell_type": "code",
   "execution_count": 3,
   "id": "2f930a0f-db3c-4190-a33a-bc03aca31cd0",
   "metadata": {},
   "outputs": [
    {
     "name": "stdout",
     "output_type": "stream",
     "text": [
      "한국의 수도는 서울입니다.\n"
     ]
    }
   ],
   "source": [
    "response = client.chat.completions.create(\n",
    "    messages=[\n",
    "        {\n",
    "            \"role\": \"system\",\n",
    "            \"content\": \"You are a helpful assistant.\",\n",
    "        },\n",
    "        {\n",
    "            \"role\": \"user\",\n",
    "            \"content\": \"한국의 수도는 어디야?\",\n",
    "        }\n",
    "    ],\n",
    "    temperature=1.0,\n",
    "    top_p=1.0,\n",
    "    max_tokens=1000,\n",
    "    model=model_name\n",
    ")\n",
    "print(response.choices[0].message.content)"
   ]
  },
  {
   "cell_type": "markdown",
   "id": "c6a1a0d1-87cf-43bf-bcb3-a49fd151b9e2",
   "metadata": {},
   "source": [
    "### 영단어로 영문장 3개 만들기"
   ]
  },
  {
   "cell_type": "code",
   "execution_count": 10,
   "id": "c5aa96a3-823a-4178-be0b-603e9bc6755e",
   "metadata": {},
   "outputs": [
    {
     "name": "stdout",
     "output_type": "stream",
     "text": [
      "Sure! Here are three simple sentences using the word \"pit\":\n",
      "\n",
      "1. The puppy dug a pit in the garden.\n",
      "2. Be careful not to fall into the pit.\n",
      "3. We played a game near the big pit in the park.\n"
     ]
    }
   ],
   "source": [
    "response = client.chat.completions.create(\n",
    "    messages=[\n",
    "        {\n",
    "            \"role\": \"system\",\n",
    "            \"content\": \"영단어를 가지고 미국 초등학생 2학년 수준의 영문장 3개를 만들어줘.\",\n",
    "        },\n",
    "        {\n",
    "            \"role\": \"user\",\n",
    "            \"content\": \"pit\",\n",
    "        }\n",
    "    ],\n",
    "    temperature=1.0,\n",
    "    top_p=1.0,\n",
    "    max_tokens=1000,\n",
    "    model=model_name\n",
    ")\n",
    "print(response.choices[0].message.content)"
   ]
  },
  {
   "cell_type": "code",
   "execution_count": 12,
   "id": "e04ae230-2d43-403c-b500-ccfea5c196b3",
   "metadata": {},
   "outputs": [
    {
     "name": "stdout",
     "output_type": "stream",
     "text": [
      "I often fight with my dad in a game called King of Fighters '95.\n"
     ]
    }
   ],
   "source": [
    "response = client.chat.completions.create(\n",
    "    messages=[\n",
    "        {\n",
    "            \"role\": \"system\",\n",
    "            \"content\": \"영어로 번역해줘.\",\n",
    "        },\n",
    "        {\n",
    "            \"role\": \"user\",\n",
    "            \"content\": \"나는 아빠랑 게임에서 자주 싸운다. 그 게임이름은 킹오브파이터즈95이다.\",\n",
    "        }\n",
    "    ],\n",
    "    temperature=1.0,\n",
    "    top_p=1.0,\n",
    "    max_tokens=1000,\n",
    "    model=model_name\n",
    ")\n",
    "print(response.choices[0].message.content)"
   ]
  },
  {
   "cell_type": "markdown",
   "id": "42124f79-e4c6-4ad4-a3cb-4c2ff4cef1ca",
   "metadata": {},
   "source": [
    "### 교외체험학습신청서"
   ]
  },
  {
   "cell_type": "code",
   "execution_count": 25,
   "id": "a1b783e6-f2b4-4078-a9ea-b22b5186c643",
   "metadata": {
    "scrolled": true
   },
   "outputs": [
    {
     "name": "stdout",
     "output_type": "stream",
     "text": [
      "### 초등학교 교외체험학습 신청서\n",
      "\n",
      "**체험학습 장소:** 속초  \n",
      "**체험학습 기간:** 가을, 2박 3일  \n",
      "**체험학습 유형:** 자연탐구  \n",
      "**신청자:** [신청자 이름]  \n",
      "**학년:** [학년]  \n",
      "**담임교사:** [담임교사 이름]  \n",
      "\n",
      "#### 1. 목적(필요성)\n",
      "가을은 자연의 변화를 가장 잘 관찰할 수 있는 계절입니다. 속초의 아름다운 자연과 국립공원에서 다양한 생물과 환경을 직접 탐구함으로써, 학생들이 자연에 대한 이해를 높이고 생태계의 중요성을 인식하게 됩니다. 이러한 경험은 과학적 사고와 환경에 대한 책임감을 키우는 데 기여할 것입니다.\n",
      "\n",
      "#### 2. 체험활동 학습계획\n",
      "**Day 1: 속초 도착 및 자연 탐사**  \n",
      "- 오전 10시: 속초 도착 후 간단한 오리엔테이션  \n",
      "- 오후 12시: 점심 식사  \n",
      "- 오후 1시: 속초 엑스포 공원 탐방  \n",
      "  - 다양한 식물 및 동식물 관찰  \n",
      "  - 식물별 특징 기록  \n",
      "- 오후 4시: 지역 생물 모형 만들기 활동  \n",
      "- 저녁: 자연 속에서 야외 캠프파이어 실시, 생명과학에 관한 강의 진행  \n",
      "\n",
      "**Day 2: 설악산 국립공원 탐방**  \n",
      "- 오전 8시: 조식 후 설악산으로 이동  \n",
      "- 오전 9시: 설악산 생태 탐험  \n",
      "  - 다양한 식물군과 동물군 관찰  \n",
      "  - 자연 관찰 일지 작성 (생물 및 환경 특징 기록)  \n",
      "- 오후 1시: 점심 후 생태계의 중요성에 대한 교육  \n",
      "- 오후 3시: 연구 활동 (마이크로스코프를 사용하여 작은 생물 관찰)  \n",
      "- 저녁: 자유시간 및 생태계 발표 준비  \n",
      "\n",
      "**Day 3: 자연과의 소통**  \n",
      "- 오전 9시: 조식 후 속초 해변 탐방  \n",
      "  - 해양 생물 관찰 및 해변 청소 활동  \n",
      "- 오후 1시: 정리 및 발표회 진행  \n",
      "  - 각 그룹의 연구 결과 공유  \n",
      "- 오후 3시: 속초 출발 및 귀가  \n",
      "\n",
      "이와 같은 일정으로 학생들은 다양한 자연환경을 체험하고, 생태계에 대한 소중함을 느낄 수 있을 것입니다. 다양한 활동을 통해 탐구심을 키우고, 자연보호의 중요성을 이해하는 기회를 제공하겠습니다.\n"
     ]
    }
   ],
   "source": [
    "response = client.chat.completions.create(\n",
    "    messages=[\n",
    "        {\n",
    "            \"role\": \"system\",\n",
    "            \"content\": \"\"\"체험학습 장소와 시기(계절)을 알려줄테니, \n",
    "            그에 맞는 초등학교 교외체험학습신청서를 작성해줘. \n",
    "            - 체험학습 유형은 \"자연탐구\" 목적임.\n",
    "            - 목적(필요성)에 대해서 200자 이내 작성. \n",
    "            - 체험활동할 학습계획을 500자로 정리.\"\"\",\n",
    "        },\n",
    "        {\n",
    "            \"role\": \"user\",\n",
    "            \"content\": \"가을에 속초로 2박일정으로 교외체험.\",\n",
    "        }\n",
    "    ],\n",
    "    temperature=1.0,\n",
    "    top_p=1.0,\n",
    "    max_tokens=1000,\n",
    "    model=model_name\n",
    ")\n",
    "print(response.choices[0].message.content)"
   ]
  },
  {
   "cell_type": "code",
   "execution_count": 27,
   "id": "b7d1ded4-6852-4790-86b5-6fd080c43e42",
   "metadata": {
    "scrolled": true
   },
   "outputs": [
    {
     "name": "stdout",
     "output_type": "stream",
     "text": [
      "### 초등학교 교외체험학습신청서\n",
      "\n",
      "**학생명:** [학생 이름]  \n",
      "**학년/반:** [학년/반]  \n",
      "**체험학습 장소:** 속초  \n",
      "**체험일정:** [시작일] – [종료일] (2박)  \n",
      "**체험학습 유형:** 자연탐구  \n",
      "\n",
      "---\n",
      "\n",
      "**목적(필요성):**  \n",
      "가을철 속초에서의 자연탐구 체험 학습은 학생들에게 계절의 변화와 자연의 아름다움을 직접 느끼게 하며, 생태계와 지구 환경에 대한 이해를 깊게 할 수 있는 기회를 제공합니다. 특히 단풍의 변화, 해변 생태계, 인근 절 탐방 등을 통해 다양한 자연의 소중함을 체험하도록 하고자 합니다.\n",
      "\n",
      "---\n",
      "\n",
      "**체험활동 학습계획:**\n",
      "\n",
      "**계획:**  \n",
      "1일차: 속초 도착 후 해변 산책 및 생태 관찰  \n",
      "2일차: 단풍이 아름다운 산을 등반하며 자연 관찰 및 탐방  \n",
      "3일차: 인근 절 방문, 전통 문화 체험\n",
      "\n",
      "**실천:**  \n",
      "1일차에는 속초 해수욕장에서 모래와 물을 관찰하고, 해변 생태계의 다양한 동식물에 대해 알아보는 시간을 갖습니다. 학생들은 각자 자신이 관찰한 내용과 느낌을 기록하고, 동물과 식물의 특징에 대해 발표합니다.  \n",
      "2일차에는 인근 산을 등반하고 아름다운 단풍을 관찰하며 자연 속에서 진정한 힐링의 시간을 보냅니다. 각 학생은 관찰한 단풍의 색상 변화와 특징을 색칠하기 및 자연일기 형식으로 기록합니다.  \n",
      "3일차에는 절 탐방을 통해 한국의 전통 문화와 역사에 대한 이해를 돕고, 스님과의 만남을 통해 자연과의 조화로운 삶에 대해 이야기 나누는 시간을 가집니다.\n",
      "\n",
      "**배울점:**  \n",
      "이번 체험을 통해 학생들은 자연의 다양성과 생태계를 이해하고, 단풍이 변하는 과정을 직접 관찰함으로써 지구의 생명력과 생태계의 연결성을 깨닫게 됩니다. 또한, 전통 문화 체험을 통해 우리 문화의 소중함과 자연과의 조화로운 삶의 의미를 학습할 수 있습니다. 체험을 통해 얻은 지식은 앞으로의 생태 보호와 환경에 대한 경각심을 높이는 계기가 될 것입니다.\n",
      "\n",
      "---\n",
      "\n",
      "### 신청인 서명: [신청인 이름]  \n",
      "### 날짜: [신청 날짜]\n"
     ]
    }
   ],
   "source": [
    "response = client.chat.completions.create(\n",
    "    messages=[\n",
    "        {\n",
    "            \"role\": \"system\",\n",
    "            \"content\": \"\"\"체험학습 장소와 시기(계절)을 알려줄테니, \n",
    "            그에 맞는 초등학교 교외체험학습신청서를 작성해줘. \n",
    "            - 체험학습 유형은 \"자연탐구\" 목적임.\n",
    "            - 목적(필요성)에 대해서 200자 이내 작성. \n",
    "            - 체험활동할 학습계획을 500자로 정리해야 하며, 계획-실천-배울점 등을 정리. \"\"\",\n",
    "        },\n",
    "        {\n",
    "            \"role\": \"user\",\n",
    "            \"content\": \"가을에 속초로 2박일정으로 교외체험. 단풍, 절, 해변 등 활동이 포함되었으면 함\",\n",
    "        }\n",
    "    ],\n",
    "    temperature=1.0,\n",
    "    top_p=1.0,\n",
    "    max_tokens=1000,\n",
    "    model=model_name\n",
    ")\n",
    "print(response.choices[0].message.content)"
   ]
  },
  {
   "cell_type": "markdown",
   "id": "1160f7de-8975-45d7-9a79-8b5fd1f05d1a",
   "metadata": {},
   "source": [
    "# 마지막 정리.\n",
    "\n",
    "**목적(필요성):**  \n",
    "가을, 자연의 변화가 뚜렷한 시기에 속초를 방문하여 다양한 생태계를 직접 관찰하고 자연의 소중함을 깨닫습니다.\n",
    "\n",
    "**체험활동 학습계획:**\n",
    "\n",
    "[학습계획]\n",
    "1. 단풍이 아름다운 산 근처 자연 관찰 및 사찰 방문.\n",
    "- 단풍의 아름다운 색상 변화와 특징을 관찰하며 가을을 느껴보는 시간을 보냅니다. \n",
    "\n",
    "2. 속초근처 해변 산책 및 전통시장 방문\n",
    "- 속초의 해변을 산책해보고, 근처 전통시장에서 속초에 유명한 해산물을 탐방합니다.\n",
    "\n",
    "[배울점]  \n",
    "단풍의 색상 변화와 특징을 관찰하며 자연의 아름다움과 생태계를 깊이 이해할 수 있음을 배우고, 속초 근처 전통시장의 해산물을 탐방하며 지역 식문화를 이해할 수 있습니다.\n",
    "\n",
    "\n",
    "\n",
    "\n"
   ]
  },
  {
   "cell_type": "code",
   "execution_count": 28,
   "id": "6a1ef2b1-72d8-4dd5-bcf2-dfec6d32a660",
   "metadata": {
    "scrolled": true
   },
   "outputs": [
    {
     "name": "stdout",
     "output_type": "stream",
     "text": [
      "계획과 실천에서 배울 점을 정리해보겠습니다.\n",
      "\n",
      "### 배울 점\n",
      "\n",
      "1. **자연 관찰의 중요성**  \n",
      "   - 단풍의 색상 변화와 특징을 관찰하며 자연의 아름다움과 생태계를 깊이 이해할 수 있음을 배웠습니다. 이는 자연에 대한 감사를 느끼게 하고 스트레스를 줄이는 효과가 있습니다.\n",
      "\n",
      "2. **명상과 힐링**  \n",
      "   - 자연 속에서 시간을 보내는 것은 정신적인 힐링을 제공한다는 사실을 깨달았습니다. 정신적 안정과 회복은 삶의 질을 높이는 중요한 요소입니다.\n",
      "\n",
      "3. **지역 문화 체험**  \n",
      "   - 속초 근처 전통시장에서 해산물을 탐방하는 경험을 통해 지역 식문화를 이해하고, 새로운 맛을 경험함으로써 지역 사회와의 연결을 느낄 수 있습니다.\n",
      "\n",
      "4. **신체 활동의 가치**  \n",
      "   - 해변 산책은 자연과의 연결뿐만 아니라 신체 활동을 통해 건강도 증진시킬 수 있음을 알 수 있습니다. 활동적인 삶이 가져다주는 긍정적인 효과를 확인했습니다.\n",
      "\n",
      "5. **계획의 필요성과 유연성**  \n",
      "   - 초기 계획을 세우는 것은 중요한 첫걸음이지만, 실천 과정에서의 유연성과 적응이 필요하다는 점도 배웠습니다. 때로는 계획과 다른 방향으로 나아가더라도 좋은 경험을 할 수 있습니다.\n",
      "\n",
      "6. **관찰의 중요성**  \n",
      "   - 자연과 사람을 관찰하고 이해하는 능력이 중요하다는 점을 깨달았습니다. 이러한 관찰은 깊이 있는 생각과 통찰을 제공하며, 더욱 풍부한 경험을 만들어 줍니다.\n",
      "\n",
      "이러한 배울 점들은 향후 더 많은 자연 경험을 계획하고 실천할 때 유용하게 적용될 수 있습니다.\n"
     ]
    }
   ],
   "source": [
    "response = client.chat.completions.create(\n",
    "    messages=[\n",
    "        \n",
    "        {\n",
    "            \"role\": \"user\",\n",
    "            \"content\": \"\"\"\n",
    "            아래의 계획과 실천에서 배울점을 정리해줘.\n",
    "            **계획:**  \n",
    "- 단풍이 아름다운 산 근처 자연 관찰 및 사찰 방문\n",
    "- 속초근처 해변 산책 및 생태 관찰  \n",
    "\n",
    "**실천:**  \n",
    "- 단풍의 아름다운 색상 변화와 특징을 관찰하며 자연 속에서 힐링의 시간을 보냅니다. \n",
    "- 해변 산책해보고, 근처 전통시장에서 속초에 유명한 해산물을 탐방합니다.\n",
    "            \"\"\",\n",
    "        }\n",
    "    ],\n",
    "    temperature=1.0,\n",
    "    top_p=1.0,\n",
    "    max_tokens=1000,\n",
    "    model=model_name\n",
    ")\n",
    "print(response.choices[0].message.content)"
   ]
  },
  {
   "cell_type": "code",
   "execution_count": null,
   "id": "129410b6-9891-4f4a-9b7d-36f8fad8f779",
   "metadata": {},
   "outputs": [],
   "source": []
  }
 ],
 "metadata": {
  "kernelspec": {
   "display_name": "Python 3 (ipykernel)",
   "language": "python",
   "name": "python3"
  },
  "language_info": {
   "codemirror_mode": {
    "name": "ipython",
    "version": 3
   },
   "file_extension": ".py",
   "mimetype": "text/x-python",
   "name": "python",
   "nbconvert_exporter": "python",
   "pygments_lexer": "ipython3",
   "version": "3.12.7"
  }
 },
 "nbformat": 4,
 "nbformat_minor": 5
}
