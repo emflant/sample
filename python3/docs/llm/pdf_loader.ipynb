{
 "cells": [
  {
   "cell_type": "code",
   "execution_count": 2,
   "id": "922e5a5e-b197-4693-be6b-aade207967e5",
   "metadata": {},
   "outputs": [],
   "source": [
    "# PyPDFLoader 실행시 \n",
    "# ModuleNotFoundError: No module named 'pypdf' 에러가 발생하기 때문에, \n",
    "# pip install pypdf 미리 설치 필요함.\n",
    "\n",
    "from langchain_community.document_loaders import PyPDFLoader\n",
    "\n",
    "loader = PyPDFLoader(file_path=\"./data/layout-parser-paper.pdf\")\n",
    "pages = []\n",
    "async for page in loader.alazy_load():\n",
    "    pages.append(page)"
   ]
  },
  {
   "cell_type": "code",
   "execution_count": 9,
   "id": "70e5559c-c291-406c-86c3-d490fb6a8f05",
   "metadata": {},
   "outputs": [
    {
     "name": "stdout",
     "output_type": "stream",
     "text": [
      "{'source': './data/layout-parser-paper.pdf', 'page': 0}\n"
     ]
    }
   ],
   "source": [
    "print(f\"{pages[0].metadata}\")"
   ]
  },
  {
   "cell_type": "code",
   "execution_count": 10,
   "id": "d1b30956-3721-4792-b79a-add4506f0cb1",
   "metadata": {
    "scrolled": true
   },
   "outputs": [
    {
     "name": "stdout",
     "output_type": "stream",
     "text": [
      "LayoutParser : A Uniﬁed Toolkit for Deep\n",
      "Learning Based Document Image Analysis\n",
      "Zejiang Shen1( \u0000), Ruochen Zhang2, Melissa Dell3, Benjamin Charles Germain\n",
      "Lee4, Jacob Carlson3, and Weining Li5\n",
      "1Allen Institute for AI\n",
      "shannons@allenai.org\n",
      "2Brown University\n",
      "ruochen zhang@brown.edu\n",
      "3Harvard University\n",
      "{melissadell,jacob carlson }@fas.harvard.edu\n",
      "4University of Washington\n",
      "bcgl@cs.washington.edu\n",
      "5University of Waterloo\n",
      "w422li@uwaterloo.ca\n",
      "Abstract. Recent advances in document image analysis (DIA) have been\n",
      "primarily driven by the application of neural networks. Ideally, research\n",
      "outcomes could be easily deployed in production and extended for further\n",
      "investigation. However, various factors like loosely organized codebases\n",
      "and sophisticated model conﬁgurations complicate the easy reuse of im-\n",
      "portant innovations by a wide audience. Though there have been on-going\n",
      "eﬀorts to improve reusability and simplify deep learning (DL) model\n",
      "development in disciplines like natural language processing and computer\n",
      "vision, none of them are optimized for challenges in the domain of DIA.\n",
      "This represents a major gap in the existing toolkit, as DIA is central to\n",
      "academic research across a wide range of disciplines in the social sciences\n",
      "and humanities. This paper introduces LayoutParser , an open-source\n",
      "library for streamlining the usage of DL in DIA research and applica-\n",
      "tions. The core LayoutParser library comes with a set of simple and\n",
      "intuitive interfaces for applying and customizing DL models for layout de-\n",
      "tection, character recognition, and many other document processing tasks.\n",
      "To promote extensibility, LayoutParser also incorporates a community\n",
      "platform for sharing both pre-trained models and full document digiti-\n",
      "zation pipelines. We demonstrate that LayoutParser is helpful for both\n",
      "lightweight and large-scale digitization pipelines in real-word use cases.\n",
      "The library is publicly available at https://layout-parser.github.io .\n",
      "Keywords: Document Image Analysis ·Deep Learning ·Layout Analysis\n",
      "·Character Recognition ·Open Source library ·Toolkit.\n",
      "1 Introduction\n",
      "Deep Learning(DL)-based approaches are the state-of-the-art for a wide range of\n",
      "document image analysis (DIA) tasks including document image classiﬁcation [ 11,arXiv:2103.15348v2  [cs.CV]  21 Jun 2021\n"
     ]
    }
   ],
   "source": [
    "print(f\"{pages[0].page_content}\")"
   ]
  },
  {
   "cell_type": "code",
   "execution_count": 15,
   "id": "8e35c537-f06a-4931-bc76-db97cac1c59b",
   "metadata": {},
   "outputs": [
    {
     "data": {
      "text/plain": [
       "'LayoutPars'"
      ]
     },
     "execution_count": 15,
     "metadata": {},
     "output_type": "execute_result"
    }
   ],
   "source": [
    "pages[0].page_content[:10]"
   ]
  },
  {
   "cell_type": "code",
   "execution_count": 17,
   "id": "9188d371-2d9d-4f55-a35e-28486cf4c96c",
   "metadata": {},
   "outputs": [],
   "source": [
    "from langchain_ollama import ChatOllama\n",
    "\n",
    "llm = ChatOllama(\n",
    "    model=\"gemma2:9b\",\n",
    "    temperature=0,\n",
    "    base_url=\"http://host.docker.internal:11434\"\n",
    ")"
   ]
  },
  {
   "cell_type": "code",
   "execution_count": 42,
   "id": "a97820ab-fd72-48ae-9bdf-b910971cf6a9",
   "metadata": {},
   "outputs": [],
   "source": [
    "from langchain_core.vectorstores import InMemoryVectorStore\n",
    "from langchain_ollama.embeddings import OllamaEmbeddings\n",
    "\n",
    "embeddings = OllamaEmbeddings(model=\"gemma2:9b\", \n",
    "                             base_url=\"http://host.docker.internal:11434\")\n",
    "vector_store = InMemoryVectorStore.from_documents(documents=pages[0:6], embedding=embeddings)\n",
    "docs = vector_store.similarity_search(\"What is LayoutParser?\", k=2)"
   ]
  },
  {
   "cell_type": "code",
   "execution_count": 43,
   "id": "1e41cced-1708-4e78-9c60-38ec5a9e17b4",
   "metadata": {},
   "outputs": [
    {
     "name": "stdout",
     "output_type": "stream",
     "text": [
      "Page 5: 6 Z. Shen et al.\n",
      "Fig. 2: The relationship between the three types of layout data structures.\n",
      "Coordinate supports three kinds of variation; TextBlock consists of the co-\n",
      "ordinate information and extra features like block text, types, and reading orders;\n",
      "aLayout object is a list of all possible layout\n",
      "Page 2: LayoutParser : A Uniﬁed Toolkit for DL-Based DIA 3\n",
      "that require precision, eﬃciency, and robustness, as well as simple and light-\n",
      "weight document processing tasks focusing on eﬃcacy and ﬂexibility (Section 5).\n",
      "LayoutParser is being actively maintained, and support for more deep learning\n",
      "models and n\n"
     ]
    }
   ],
   "source": [
    "for doc in docs:\n",
    "    print(f\"Page {doc.metadata[\"page\"]}: {doc.page_content[:300]}\")"
   ]
  },
  {
   "cell_type": "code",
   "execution_count": null,
   "id": "59312242-aaee-4c4e-9122-f3528f4262ca",
   "metadata": {},
   "outputs": [],
   "source": []
  }
 ],
 "metadata": {
  "kernelspec": {
   "display_name": "Python 3 (ipykernel)",
   "language": "python",
   "name": "python3"
  },
  "language_info": {
   "codemirror_mode": {
    "name": "ipython",
    "version": 3
   },
   "file_extension": ".py",
   "mimetype": "text/x-python",
   "name": "python",
   "nbconvert_exporter": "python",
   "pygments_lexer": "ipython3",
   "version": "3.12.7"
  }
 },
 "nbformat": 4,
 "nbformat_minor": 5
}
