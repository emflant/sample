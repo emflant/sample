{
 "cells": [
  {
   "cell_type": "code",
   "execution_count": 1,
   "id": "e836bccf-fdef-4cf7-ab91-11794abfc900",
   "metadata": {},
   "outputs": [
    {
     "data": {
      "text/plain": [
       "3"
      ]
     },
     "execution_count": 1,
     "metadata": {},
     "output_type": "execute_result"
    }
   ],
   "source": [
    "1 + 2"
   ]
  },
  {
   "cell_type": "code",
   "execution_count": 2,
   "id": "014916b2-a060-4c8c-b3cf-47be2c1cb981",
   "metadata": {},
   "outputs": [],
   "source": [
    "from langchain_ollama.llms import OllamaLLM\n",
    "from langchain_core.prompts import ChatPromptTemplate"
   ]
  },
  {
   "cell_type": "code",
   "execution_count": 3,
   "id": "52748486-a35a-42d8-ae56-e3dda0b30835",
   "metadata": {},
   "outputs": [],
   "source": [
    "template = \"\"\"Question: {question}\n",
    "\n",
    "Answer : Let's think step by step.\"\"\""
   ]
  },
  {
   "cell_type": "code",
   "execution_count": 4,
   "id": "68294536-036f-475c-a944-9026f739ae16",
   "metadata": {},
   "outputs": [
    {
     "name": "stdout",
     "output_type": "stream",
     "text": [
      "Question: {question}\n",
      "\n",
      "Answer : Let's think step by step.\n"
     ]
    }
   ],
   "source": [
    "print(template)"
   ]
  },
  {
   "cell_type": "code",
   "execution_count": 5,
   "id": "fa2dda70-245e-4c5d-90c0-13d5906d55e0",
   "metadata": {},
   "outputs": [],
   "source": [
    "prompt = ChatPromptTemplate.from_template(template)"
   ]
  },
  {
   "cell_type": "code",
   "execution_count": 16,
   "id": "70bebce0-e5e2-4fd7-a706-e17ea84e017f",
   "metadata": {},
   "outputs": [
    {
     "data": {
      "text/plain": [
       "ChatPromptTemplate(input_variables=['question'], input_types={}, partial_variables={}, messages=[HumanMessagePromptTemplate(prompt=PromptTemplate(input_variables=['question'], input_types={}, partial_variables={}, template=\"Question: {question}\\n\\nAnswer : Let's think step by step.\"), additional_kwargs={})])"
      ]
     },
     "execution_count": 16,
     "metadata": {},
     "output_type": "execute_result"
    }
   ],
   "source": [
    "prompt"
   ]
  },
  {
   "cell_type": "code",
   "execution_count": 37,
   "id": "c8b7e4c1-0318-432b-9125-42960d398b24",
   "metadata": {},
   "outputs": [],
   "source": [
    "model = OllamaLLM(model=\"gemma2:2b\", base_url=\"http://host.docker.internal:11434\")\n",
    "\n",
    "# curl http://localhost:11434/api/generate -d '{\n",
    "#  \"model\": \"llama3.2\",\n",
    "#  \"prompt\":\"Why is the sky blue?\"\n",
    "#}'"
   ]
  },
  {
   "cell_type": "code",
   "execution_count": 38,
   "id": "4915b76a-51d7-4c08-9857-cba05686f35a",
   "metadata": {},
   "outputs": [
    {
     "name": "stdout",
     "output_type": "stream",
     "text": [
      "first=ChatPromptTemplate(input_variables=['question'], input_types={}, partial_variables={}, messages=[HumanMessagePromptTemplate(prompt=PromptTemplate(input_variables=['question'], input_types={}, partial_variables={}, template=\"Question: {question}\\n\\nAnswer : Let's think step by step.\"), additional_kwargs={})]) middle=[] last=OllamaLLM(model='gemma2:2b', base_url='http://host.docker.internal:11434')\n"
     ]
    }
   ],
   "source": [
    "chain = prompt | model\n",
    "print(chain)"
   ]
  },
  {
   "cell_type": "code",
   "execution_count": 40,
   "id": "7f6fd9c8-d86f-42d8-a026-91199a6f71e8",
   "metadata": {},
   "outputs": [
    {
     "data": {
      "text/plain": [
       "\"Here's a breakdown of why the sky appears blue, perfect for curious minds! \\n\\n**1. Sunlight:**  The sun emits white light - it's actually made up of all the colors of the rainbow mixed together!\\n\\n**2. Atmosphere:** Our atmosphere is full of tiny particles like nitrogen and oxygen molecules.\\n\\n**3. Scattering:** When sunlight hits these tiny particles, something magical happens: It gets scattered in different directions!  Blue light has a shorter wavelength than other colors (like red or orange). This means it's able to bounce around more easily than the longer wavelengths.\\n\\n**4. Blue Dominates:**  Because blue light is so good at scattering, we see most of it bouncing back from the atmosphere and filling our sky with that lovely blue hue! \\n\\n\\n**Think about it this way:** Imagine throwing a handful of marbles (representing different colors of light) into a big box filled with tiny bouncy balls (representing the air molecules). The smaller and lighter the marbles, the more likely they are to bounce around in all directions. Blue marbles would bounce off those tiny balls the most! \\n\\n\\n\\nLet me know if you'd like more details or have any other curious questions!  😄 \\n\""
      ]
     },
     "execution_count": 40,
     "metadata": {},
     "output_type": "execute_result"
    }
   ],
   "source": [
    "chain.invoke({\"question\": \"Why is the sky blue?\"})"
   ]
  },
  {
   "cell_type": "code",
   "execution_count": null,
   "id": "dad3ef98-5ae4-4c97-a643-b7cca25d041b",
   "metadata": {},
   "outputs": [],
   "source": []
  }
 ],
 "metadata": {
  "kernelspec": {
   "display_name": "Python 3 (ipykernel)",
   "language": "python",
   "name": "python3"
  },
  "language_info": {
   "codemirror_mode": {
    "name": "ipython",
    "version": 3
   },
   "file_extension": ".py",
   "mimetype": "text/x-python",
   "name": "python",
   "nbconvert_exporter": "python",
   "pygments_lexer": "ipython3",
   "version": "3.12.7"
  }
 },
 "nbformat": 4,
 "nbformat_minor": 5
}
