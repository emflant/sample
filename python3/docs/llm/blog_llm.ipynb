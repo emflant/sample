{
 "cells": [
  {
   "cell_type": "code",
   "execution_count": 1,
   "id": "493ab9fd-b80e-46b0-a0d6-614d8f686c82",
   "metadata": {},
   "outputs": [
    {
     "name": "stdout",
     "output_type": "stream",
     "text": [
      "langchain_core : 0.3.10\n",
      "langchain_ollama : 0.2.0\n"
     ]
    }
   ],
   "source": [
    "from langchain_ollama import ChatOllama\n",
    "from langchain_core.prompts import ChatPromptTemplate, FewShotChatMessagePromptTemplate\n",
    "import langchain_core, langchain_ollama\n",
    "\n",
    "#langchain_core : 0.3.10\n",
    "#langchain_ollama : 0.2.0\n",
    "print(\"langchain_core : \" + langchain_core.__version__)\n",
    "print(\"langchain_ollama : \" + langchain_ollama.__version__)"
   ]
  },
  {
   "cell_type": "code",
   "execution_count": 16,
   "id": "51abe1ce-0ed7-4362-8064-7a74bace71c0",
   "metadata": {},
   "outputs": [],
   "source": [
    "llm = ChatOllama(\n",
    "    model=\"gemma2:2b\",\n",
    "    temperature=0,\n",
    "    base_url=\"http://host.docker.internal:11434\"\n",
    "    # other params...\n",
    ")"
   ]
  },
  {
   "cell_type": "code",
   "execution_count": 17,
   "id": "99b9ce64-7d6d-4664-acf4-ed2eb51fa0b4",
   "metadata": {},
   "outputs": [],
   "source": [
    "first_prompt = ChatPromptTemplate.from_messages(\n",
    "    [\n",
    "        (\"system\", \"\"\"You are a blogger who writes blog posts about programming. \n",
    "You need to read program code and explain it in detail. \n",
    "The explanation should be professional and knowledgeable like a collage professor, \n",
    "and written in Korean.\"\"\"),\n",
    "        (\"human\", \"{input}\")\n",
    "    ]\n",
    ")\n",
    "\n",
    "chain1 = first_prompt | llm"
   ]
  },
  {
   "cell_type": "code",
   "execution_count": 24,
   "id": "ab5e962a-c235-4d4c-b129-179230e7d851",
   "metadata": {},
   "outputs": [
    {
     "name": "stdout",
     "output_type": "stream",
     "text": [
      "##  AI 응답 시스템의 Tool 호출 구조 분석: Python 코드 예시 \n",
      "\n",
      "본 블로그에서는 프로그래밍 분야에서 배우는 것을 위한 한국어 설명을 제공합니다. 특히, AI 응답 시스템의 구조를 이해하는 데 도움이 되는 코드 분석을 통해 더욱 심도 있는 학습 경험을 제공할 것입니다.  \n",
      "\n",
      "**코드 분석:** \n",
      "\n",
      "제시된 코드는 **AI 응답 시스템**에서 **tool 호출** 과정을 설명하고 있습니다. 이 시스템은 사용자의 요청에 따라 AI 모델이 필요한 작업을 수행하는 것을 목표로 합니다. \n",
      "\n",
      "**1. 변수 및 데이터 정의:**\n",
      "\n",
      "* `ai_msg`:  AI 응답 시스템에서 사용되는 메시지 객체입니다. 이 객체에는 사용자가 입력한 정보와 AI 모델의 결과가 포함되어 있습니다.\n",
      "* `tool_calls`:  `ai_msg` 객체에 저장된 **tool 호출** 정보를 담고 있는 리스트입니다. 각 요소는 tool 이름과 작업명을 포함합니다. \n",
      "\n",
      "**2. Tool 선택 및 호출:**\n",
      "\n",
      "* `for tool_call in ai_msg.tool_calls:` : 이 부분은 `ai_msg` 객체의 `tool_calls` 리스트를 순회하며, 각 `tool_call` 정보를 처리합니다.\n",
      "* `selected_tool = {\"add\": add, \"multiply\": multiply}[tool_call[\"name\"]]`:  `tool_call` 객체의 `name` 속성을 이용하여 해당 tool 이름에 대한 함수를 선택합니다. \n",
      "    * 이 부분은 **함수 호출**을 위한 명확한 구조를 보여줍니다. \n",
      "* `tool_msg = selected_tool.invoke(tool_call)`:  선택된 tool 함수 (`selected_tool`)로부터 작업 결과를 받아 `tool_msg` 변수에 저장합니다. \n",
      "\n",
      "**3. 결과 저장:**\n",
      "\n",
      "* `messages.append(tool_msg)`:  `tool_msg` 변수는 AI 응답 시스템의 메시지 목록에 추가됩니다. 이 과정은 **결과를 저장**하는 역할을 합니다.\n",
      "\n",
      "\n",
      "**코드 분석 요약:** \n",
      "\n",
      "본 코드는 사용자의 요청에 따라 AI 모델이 필요한 작업을 수행하기 위한 구조를 보여줍니다.  `ai_msg` 객체와 `tool_calls` 리스트를 통해 **AI 응답 시스템**은 사용자가 입력한 정보를 받아, 해당 정보에 맞는 tool 함수를 선택하고 결과를 저장합니다. \n",
      "\n",
      "**추가적인 분석:**\n",
      "\n",
      "* 이 코드는 단순한 AI 응답 시스템의 일부일 수 있습니다.  \n",
      "* 더 복잡한 AI 응답 시스템에서는 여러 tool 호출과 작업을 동시에 처리할 수 있도록 구조화된 데이터 모델 및 메커니즘이 필요합니다. \n",
      "\n",
      "\n",
      "**결론:**\n",
      "\n",
      "본 코드는 **AI 응답 시스템의 구조**를 이해하는 데 도움이 될 것입니다.  프로그래밍 분야에서 배우는 것은 단순한 코드 분석을 통해 더욱 심도 있는 학습 경험을 얻을 수 있습니다. \n",
      "\n",
      "\n",
      "\n",
      "\n"
     ]
    }
   ],
   "source": [
    "ai_msg1 = chain1.invoke({\"input\": \"\"\"\n",
    "\n",
    "for tool_call in ai_msg.tool_calls:\n",
    "    selected_tool = {\"add\": add, \"multiply\":multiply}[tool_call[\"name\"]]\n",
    "    tool_msg = selected_tool.invoke(tool_call)\n",
    "    messages.append(tool_msg)\n",
    "\n",
    "\"\"\"})\n",
    "print(ai_msg1.content)"
   ]
  },
  {
   "cell_type": "code",
   "execution_count": null,
   "id": "17e753ef-1a71-49ee-ab2a-bc68061c5944",
   "metadata": {},
   "outputs": [],
   "source": []
  }
 ],
 "metadata": {
  "kernelspec": {
   "display_name": ".venv",
   "language": "python",
   "name": "python3"
  },
  "language_info": {
   "codemirror_mode": {
    "name": "ipython",
    "version": 3
   },
   "file_extension": ".py",
   "mimetype": "text/x-python",
   "name": "python",
   "nbconvert_exporter": "python",
   "pygments_lexer": "ipython3",
   "version": "3.12.4"
  }
 },
 "nbformat": 4,
 "nbformat_minor": 5
}
