{
 "cells": [
  {
   "cell_type": "code",
   "execution_count": 4,
   "id": "9c99445a-868a-452e-9b35-95faa2bda55b",
   "metadata": {},
   "outputs": [],
   "source": [
    "def add(a: int, b: int) -> int:\n",
    "    return a + b\n",
    "\n",
    "def multiply(a: int, b:int) -> int:\n",
    "    return a*b\n",
    "\n",
    "tools = [add, multiply]"
   ]
  },
  {
   "cell_type": "code",
   "execution_count": 1,
   "id": "16799e48-6c61-4aff-a758-568972fc83dd",
   "metadata": {},
   "outputs": [
    {
     "name": "stdout",
     "output_type": "stream",
     "text": [
      "langchain_core : 0.3.9\n",
      "langchain_ollama : 0.2.0\n"
     ]
    }
   ],
   "source": [
    "from langchain_ollama import ChatOllama\n",
    "from langchain_core.prompts import ChatPromptTemplate, FewShotChatMessagePromptTemplate\n",
    "import langchain_core, langchain_ollama\n",
    "\n",
    "#langchain_core : 0.3.9\n",
    "#langchain_ollama : 0.2.0\n",
    "print(\"langchain_core : \" + langchain_core.__version__)\n",
    "print(\"langchain_ollama : \" + langchain_ollama.__version__)"
   ]
  },
  {
   "cell_type": "code",
   "execution_count": 16,
   "id": "fae55b1d-cf5b-4cd1-82a1-7e16f63eda9f",
   "metadata": {},
   "outputs": [],
   "source": [
    "# ResponseError: gemma2:9b does not support tools\n",
    "llm = ChatOllama(\n",
    "    model=\"llama3.2:3b\",\n",
    "    temperature=0,\n",
    "    base_url=\"http://host.docker.internal:11434\"\n",
    ")"
   ]
  },
  {
   "cell_type": "code",
   "execution_count": 17,
   "id": "769a8a60-5024-4579-8d15-215590a41c9b",
   "metadata": {},
   "outputs": [],
   "source": [
    "llm_with_tools = llm.bind_tools(tools)"
   ]
  },
  {
   "cell_type": "code",
   "execution_count": 18,
   "id": "f1dfab3b-cec0-443b-a84d-3ebac3d1b3ec",
   "metadata": {
    "scrolled": true
   },
   "outputs": [
    {
     "data": {
      "text/plain": [
       "AIMessage(content='', additional_kwargs={}, response_metadata={'model': 'llama3.2:3b', 'created_at': '2024-10-11T08:41:05.475892Z', 'message': {'role': 'assistant', 'content': '', 'tool_calls': [{'function': {'name': 'multiply', 'arguments': {'a': '3', 'b': '12'}}}]}, 'done_reason': 'stop', 'done': True, 'total_duration': 2008940667, 'load_duration': 27557334, 'prompt_eval_count': 210, 'prompt_eval_duration': 1032915000, 'eval_count': 22, 'eval_duration': 946235000}, id='run-0c18e8f1-2ee5-4b40-8878-db740dfab793-0', tool_calls=[{'name': 'multiply', 'args': {'a': '3', 'b': '12'}, 'id': '7ccecee4-67e7-4bf6-a2d3-9076e3a668dd', 'type': 'tool_call'}], usage_metadata={'input_tokens': 210, 'output_tokens': 22, 'total_tokens': 232})"
      ]
     },
     "execution_count": 18,
     "metadata": {},
     "output_type": "execute_result"
    }
   ],
   "source": [
    "llm_with_tools.invoke(\"What's 3 * 12?\")"
   ]
  },
  {
   "cell_type": "code",
   "execution_count": 22,
   "id": "e1510799-0c4c-4d4d-8087-547be0805237",
   "metadata": {},
   "outputs": [
    {
     "data": {
      "text/plain": [
       "[{'name': 'multiply',\n",
       "  'args': {'a': '3', 'b': '12'},\n",
       "  'id': 'bf033424-08d1-4218-9cd2-1525379c50b8',\n",
       "  'type': 'tool_call'},\n",
       " {'name': 'add',\n",
       "  'args': {'a': '11', 'b': '49'},\n",
       "  'id': '1cf02c6b-08af-4c9b-a804-a9fb75521122',\n",
       "  'type': 'tool_call'}]"
      ]
     },
     "execution_count": 22,
     "metadata": {},
     "output_type": "execute_result"
    }
   ],
   "source": [
    "query = \"What is 3 * 12? Also, what is 11 + 49?\"\n",
    "llm_with_tools.invoke(query).tool_calls"
   ]
  },
  {
   "cell_type": "markdown",
   "id": "afa6ddf1-51fa-4147-9f38-782f6817fa20",
   "metadata": {},
   "source": [
    "### Pydantic class"
   ]
  },
  {
   "cell_type": "code",
   "execution_count": 30,
   "id": "9a25822d-f148-48c0-a9bb-a8e97e956b0b",
   "metadata": {},
   "outputs": [],
   "source": [
    "from pydantic import BaseModel, Field\n",
    "\n",
    "class add_pydantic(BaseModel):\n",
    "    a: int\n",
    "    b: int\n",
    "\n",
    "class multiply_pydantic(BaseModel):\n",
    "    a: int\n",
    "    b: int\n",
    "\n",
    "tools = [add_pydantic, multiply_pydantic]"
   ]
  },
  {
   "cell_type": "code",
   "execution_count": 31,
   "id": "a82fd72c-5007-468d-a98f-4f3e91024548",
   "metadata": {},
   "outputs": [],
   "source": [
    "# ResponseError: gemma2:9b does not support tools\n",
    "llm = ChatOllama(\n",
    "    model=\"llama3.2:3b\",\n",
    "    temperature=0,\n",
    "    base_url=\"http://host.docker.internal:11434\"\n",
    ")"
   ]
  },
  {
   "cell_type": "code",
   "execution_count": 32,
   "id": "78f6a0dd-d835-45ff-8656-e45494c97d7f",
   "metadata": {},
   "outputs": [
    {
     "data": {
      "text/plain": [
       "AIMessage(content='', additional_kwargs={}, response_metadata={'model': 'llama3.2:3b', 'created_at': '2024-10-11T09:06:31.744451Z', 'message': {'role': 'assistant', 'content': '', 'tool_calls': [{'function': {'name': 'multiply_pydantic', 'arguments': {'a': 3, 'b': 12}}}]}, 'done_reason': 'stop', 'done': True, 'total_duration': 1652467209, 'load_duration': 27565000, 'prompt_eval_count': 216, 'prompt_eval_duration': 546011000, 'eval_count': 25, 'eval_duration': 1077748000}, id='run-ecaab7ae-377c-4574-be0c-a801e6ab9806-0', tool_calls=[{'name': 'multiply_pydantic', 'args': {'a': 3, 'b': 12}, 'id': '758d04c9-28fb-49a2-9942-6d5c8e4b267b', 'type': 'tool_call'}], usage_metadata={'input_tokens': 216, 'output_tokens': 25, 'total_tokens': 241})"
      ]
     },
     "execution_count": 32,
     "metadata": {},
     "output_type": "execute_result"
    }
   ],
   "source": [
    "llm_with_tools = llm.bind_tools(tools)\n",
    "llm_with_tools.invoke(\"What's 3 * 12?\")"
   ]
  },
  {
   "cell_type": "code",
   "execution_count": 33,
   "id": "187e09b2-71b2-4932-a2e8-c500793234e9",
   "metadata": {},
   "outputs": [
    {
     "data": {
      "text/plain": [
       "[{'name': 'multiply_pydantic',\n",
       "  'args': {'a': '3', 'b': '12'},\n",
       "  'id': '9e15f61b-2a80-4548-8d37-0edf4165b356',\n",
       "  'type': 'tool_call'},\n",
       " {'name': 'add_pydantic',\n",
       "  'args': {'a': '11', 'b': '49'},\n",
       "  'id': '33b0d82a-74b5-4e98-9bbf-88f54f5b75c1',\n",
       "  'type': 'tool_call'}]"
      ]
     },
     "execution_count": 33,
     "metadata": {},
     "output_type": "execute_result"
    }
   ],
   "source": [
    "query = \"What is 3 * 12? Also, what is 11 + 49?\"\n",
    "llm_with_tools.invoke(query).tool_calls"
   ]
  },
  {
   "cell_type": "markdown",
   "id": "d8404724-9953-4117-8dda-0f52026207a2",
   "metadata": {},
   "source": [
    "### Parsing"
   ]
  },
  {
   "cell_type": "code",
   "execution_count": 39,
   "id": "c6f0d37c-5d7c-4bfd-8ad9-643143082a97",
   "metadata": {},
   "outputs": [],
   "source": [
    "from langchain_core.output_parsers import PydanticToolsParser\n",
    "\n",
    "chain = llm_with_tools | PydanticToolsParser(tools = [add_pydantic, multiply_pydantic])"
   ]
  },
  {
   "cell_type": "code",
   "execution_count": 40,
   "id": "bb6b341c-76f4-46b8-bb04-fe8e0749ff68",
   "metadata": {},
   "outputs": [
    {
     "data": {
      "text/plain": [
       "[multiply_pydantic(a=3, b=12), add_pydantic(a=11, b=49)]"
      ]
     },
     "execution_count": 40,
     "metadata": {},
     "output_type": "execute_result"
    }
   ],
   "source": [
    "query = \"What is 3 * 12? Also, what is 11 + 49?\"\n",
    "chain.invoke(query)"
   ]
  },
  {
   "cell_type": "code",
   "execution_count": null,
   "id": "d064f942-d941-4dd7-8326-4c56babd9ead",
   "metadata": {},
   "outputs": [],
   "source": []
  }
 ],
 "metadata": {
  "kernelspec": {
   "display_name": "Python 3 (ipykernel)",
   "language": "python",
   "name": "python3"
  },
  "language_info": {
   "codemirror_mode": {
    "name": "ipython",
    "version": 3
   },
   "file_extension": ".py",
   "mimetype": "text/x-python",
   "name": "python",
   "nbconvert_exporter": "python",
   "pygments_lexer": "ipython3",
   "version": "3.12.7"
  }
 },
 "nbformat": 4,
 "nbformat_minor": 5
}
