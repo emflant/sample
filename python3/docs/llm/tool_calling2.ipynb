{
 "cells": [
  {
   "cell_type": "code",
   "execution_count": 1,
   "id": "478b35dc-b7c9-47c5-999d-d3dc25897229",
   "metadata": {},
   "outputs": [
    {
     "name": "stdout",
     "output_type": "stream",
     "text": [
      "langchain_core : 0.3.10\n",
      "langchain_ollama : 0.2.0\n"
     ]
    }
   ],
   "source": [
    "from langchain_ollama import ChatOllama\n",
    "from langchain_core.prompts import ChatPromptTemplate, FewShotChatMessagePromptTemplate\n",
    "import langchain_core, langchain_ollama\n",
    "\n",
    "#langchain_core : 0.3.10\n",
    "#langchain_ollama : 0.2.0\n",
    "print(\"langchain_core : \" + langchain_core.__version__)\n",
    "print(\"langchain_ollama : \" + langchain_ollama.__version__)"
   ]
  },
  {
   "cell_type": "code",
   "execution_count": 2,
   "id": "d2a87db6-851d-4c01-8986-39f25b9dd002",
   "metadata": {},
   "outputs": [],
   "source": [
    "# ResponseError: gemma2:9b does not support tools\n",
    "llm = ChatOllama(\n",
    "    model=\"llama3.2:3b\",\n",
    "    temperature=0,\n",
    "    base_url=\"http://host.docker.internal:11434\"\n",
    ")"
   ]
  },
  {
   "cell_type": "code",
   "execution_count": 3,
   "id": "6a04211a-db70-40d0-9727-ca56e5766e15",
   "metadata": {},
   "outputs": [
    {
     "data": {
      "text/plain": [
       "'To calculate the first expression:\\n\\n3 * 12 = 36\\n\\nTo calculate the second expression:\\n\\n11 + 49 = 60'"
      ]
     },
     "execution_count": 3,
     "metadata": {},
     "output_type": "execute_result"
    }
   ],
   "source": [
    "llm.invoke(input=\"What is 3 * 12? Also, what is 11 + 49?\").content"
   ]
  },
  {
   "cell_type": "code",
   "execution_count": 4,
   "id": "4fbb2963-3d0a-4652-bbc1-5cfe16da71f0",
   "metadata": {},
   "outputs": [],
   "source": [
    "from langchain_core.tools import tool"
   ]
  },
  {
   "cell_type": "code",
   "execution_count": 6,
   "id": "187ab18a-f9c4-49b7-b524-3c31e1936985",
   "metadata": {},
   "outputs": [],
   "source": [
    "@tool\n",
    "def add(a:int, b:int) -> int:\n",
    "    \"\"\"Adds a and b.\"\"\"\n",
    "    return a + b\n",
    "\n",
    "@tool\n",
    "def multiply(a:int, b:int) -> int:\n",
    "    \"\"\"Multiplies a and b.\"\"\"\n",
    "    return a * b    "
   ]
  },
  {
   "cell_type": "code",
   "execution_count": 7,
   "id": "b2cdcf97-e68c-4da4-a94c-c66d8047eb1a",
   "metadata": {},
   "outputs": [],
   "source": [
    "tools = [add, multiply]\n",
    "llm_with_tools = llm.bind_tools(tools)"
   ]
  },
  {
   "cell_type": "code",
   "execution_count": 8,
   "id": "3fe3bcff-ae03-4334-821c-f60ee847ffbd",
   "metadata": {},
   "outputs": [],
   "source": [
    "from langchain_core.messages import HumanMessage\n",
    "\n",
    "query = \"What is 3 * 12? Also, what is 11 + 49?\""
   ]
  },
  {
   "cell_type": "code",
   "execution_count": 9,
   "id": "f9e2d625-6125-454d-a570-d21b48bbd0ad",
   "metadata": {},
   "outputs": [],
   "source": [
    "messages = [HumanMessage(query)]"
   ]
  },
  {
   "cell_type": "code",
   "execution_count": 10,
   "id": "51ca00df-7066-4f6d-810f-61e8618ec83e",
   "metadata": {},
   "outputs": [
    {
     "name": "stdout",
     "output_type": "stream",
     "text": [
      "[{'name': 'multiply', 'args': {'a': '3', 'b': '12'}, 'id': '3ac2535e-9adf-4569-ba29-9032cbe1ae18', 'type': 'tool_call'}, {'name': 'add', 'args': {'a': '11', 'b': '49'}, 'id': '3fdf2317-5fd6-403c-a492-0dfcf8f94fb8', 'type': 'tool_call'}]\n"
     ]
    }
   ],
   "source": [
    "ai_msg = llm_with_tools.invoke(messages)\n",
    "print(ai_msg.tool_calls)"
   ]
  },
  {
   "cell_type": "code",
   "execution_count": 11,
   "id": "c0f3033d-61bc-4dbb-8ee6-4e62c34c563c",
   "metadata": {},
   "outputs": [],
   "source": [
    "messages.append(ai_msg)"
   ]
  },
  {
   "cell_type": "code",
   "execution_count": 12,
   "id": "718a554e-d246-423f-8186-02245fcc74f9",
   "metadata": {},
   "outputs": [
    {
     "data": {
      "text/plain": [
       "[HumanMessage(content='What is 3 * 12? Also, what is 11 + 49?', additional_kwargs={}, response_metadata={}),\n",
       " AIMessage(content='', additional_kwargs={}, response_metadata={'model': 'llama3.2:3b', 'created_at': '2024-10-14T08:59:50.098898Z', 'message': {'role': 'assistant', 'content': '', 'tool_calls': [{'function': {'name': 'multiply', 'arguments': {'a': '3', 'b': '12'}}}, {'function': {'name': 'add', 'arguments': {'a': '11', 'b': '49'}}}]}, 'done_reason': 'stop', 'done': True, 'total_duration': 2913785542, 'load_duration': 31428000, 'prompt_eval_count': 231, 'prompt_eval_duration': 915504000, 'eval_count': 44, 'eval_duration': 1964793000}, id='run-fcda94d0-6e41-4fe4-97e5-6d16896fe4aa-0', tool_calls=[{'name': 'multiply', 'args': {'a': '3', 'b': '12'}, 'id': '3ac2535e-9adf-4569-ba29-9032cbe1ae18', 'type': 'tool_call'}, {'name': 'add', 'args': {'a': '11', 'b': '49'}, 'id': '3fdf2317-5fd6-403c-a492-0dfcf8f94fb8', 'type': 'tool_call'}], usage_metadata={'input_tokens': 231, 'output_tokens': 44, 'total_tokens': 275})]"
      ]
     },
     "execution_count": 12,
     "metadata": {},
     "output_type": "execute_result"
    }
   ],
   "source": [
    "messages"
   ]
  },
  {
   "cell_type": "code",
   "execution_count": 13,
   "id": "bd1ed3ab-1956-4962-8710-8cf908c9df6c",
   "metadata": {},
   "outputs": [],
   "source": [
    "for tool_call in ai_msg.tool_calls:\n",
    "    selected_tool = {\"add\": add, \"multiply\":multiply}[tool_call[\"name\"]]\n",
    "    tool_msg = selected_tool.invoke(tool_call)\n",
    "    messages.append(tool_msg)"
   ]
  },
  {
   "cell_type": "code",
   "execution_count": 14,
   "id": "5d9c81f4-49e1-4146-8465-de4bf1f6321c",
   "metadata": {},
   "outputs": [
    {
     "data": {
      "text/plain": [
       "[HumanMessage(content='What is 3 * 12? Also, what is 11 + 49?', additional_kwargs={}, response_metadata={}),\n",
       " AIMessage(content='', additional_kwargs={}, response_metadata={'model': 'llama3.2:3b', 'created_at': '2024-10-14T08:59:50.098898Z', 'message': {'role': 'assistant', 'content': '', 'tool_calls': [{'function': {'name': 'multiply', 'arguments': {'a': '3', 'b': '12'}}}, {'function': {'name': 'add', 'arguments': {'a': '11', 'b': '49'}}}]}, 'done_reason': 'stop', 'done': True, 'total_duration': 2913785542, 'load_duration': 31428000, 'prompt_eval_count': 231, 'prompt_eval_duration': 915504000, 'eval_count': 44, 'eval_duration': 1964793000}, id='run-fcda94d0-6e41-4fe4-97e5-6d16896fe4aa-0', tool_calls=[{'name': 'multiply', 'args': {'a': '3', 'b': '12'}, 'id': '3ac2535e-9adf-4569-ba29-9032cbe1ae18', 'type': 'tool_call'}, {'name': 'add', 'args': {'a': '11', 'b': '49'}, 'id': '3fdf2317-5fd6-403c-a492-0dfcf8f94fb8', 'type': 'tool_call'}], usage_metadata={'input_tokens': 231, 'output_tokens': 44, 'total_tokens': 275}),\n",
       " ToolMessage(content='36', name='multiply', tool_call_id='3ac2535e-9adf-4569-ba29-9032cbe1ae18'),\n",
       " ToolMessage(content='60', name='add', tool_call_id='3fdf2317-5fd6-403c-a492-0dfcf8f94fb8')]"
      ]
     },
     "execution_count": 14,
     "metadata": {},
     "output_type": "execute_result"
    }
   ],
   "source": [
    "messages"
   ]
  },
  {
   "cell_type": "code",
   "execution_count": 15,
   "id": "47913e59-85ef-4e51-813e-9e7b46edfcc8",
   "metadata": {},
   "outputs": [],
   "source": [
    "ai_final_msg = llm_with_tools.invoke(messages)"
   ]
  },
  {
   "cell_type": "code",
   "execution_count": 16,
   "id": "505a2012-8956-419b-9637-9378cddbf545",
   "metadata": {},
   "outputs": [
    {
     "data": {
      "text/plain": [
       "'The result of multiplying 3 by 12 is: 36\\n\\nThe result of adding 11 and 49 is: 60'"
      ]
     },
     "execution_count": 16,
     "metadata": {},
     "output_type": "execute_result"
    }
   ],
   "source": [
    "ai_final_msg.content"
   ]
  },
  {
   "cell_type": "code",
   "execution_count": null,
   "id": "e0988d3b-2d51-4366-8b0d-dc850b277cd5",
   "metadata": {},
   "outputs": [],
   "source": []
  }
 ],
 "metadata": {
  "kernelspec": {
   "display_name": "Python 3 (ipykernel)",
   "language": "python",
   "name": "python3"
  },
  "language_info": {
   "codemirror_mode": {
    "name": "ipython",
    "version": 3
   },
   "file_extension": ".py",
   "mimetype": "text/x-python",
   "name": "python",
   "nbconvert_exporter": "python",
   "pygments_lexer": "ipython3",
   "version": "3.12.7"
  }
 },
 "nbformat": 4,
 "nbformat_minor": 5
}
