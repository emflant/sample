{
 "cells": [
  {
   "cell_type": "code",
   "execution_count": 21,
   "metadata": {
    "scrolled": true
   },
   "outputs": [
    {
     "name": "stdout",
     "output_type": "stream",
     "text": [
      "b'\\xd5W\\x9cF\\xdf\\xcc\\x7f\\x18 p\\x13\\xe6[D\\xe4\\xcbN,\"\\x98\\xf4\\xacE{\\xa8\\xf8\\'C\\xf3\\x1e\\x93\\x0b'\n",
      "d5579c46dfcc7f18207013e65b44e4cb4e2c2298f4ac457ba8f82743f31e930b\n",
      "b'1VecRt/MfxggcBPmW0Tky04sIpj0rEV7qPgnQ/Mekws='\n",
      "1VecRt/MfxggcBPmW0Tky04sIpj0rEV7qPgnQ/Mekws%3D\n"
     ]
    }
   ],
   "source": [
    "import hashlib\n",
    "import base64\n",
    "import urllib\n",
    "\n",
    "# sha256 인코딩\n",
    "m = hashlib.sha256()\n",
    "m.update(b'test string')\n",
    "\n",
    "print(m.digest())\n",
    "print(m.hexdigest())\n",
    "\n",
    "# base64 인코딩\n",
    "encoded = base64.b64encode(m.digest())\n",
    "print(encoded)\n",
    "\n",
    "# url encoding \n",
    "print(urllib.parse.quote(encoded))"
   ]
  },
  {
   "cell_type": "code",
   "execution_count": null,
   "metadata": {},
   "outputs": [],
   "source": []
  }
 ],
 "metadata": {
  "kernelspec": {
   "display_name": "Python 3",
   "language": "python",
   "name": "python3"
  },
  "language_info": {
   "codemirror_mode": {
    "name": "ipython",
    "version": 3
   },
   "file_extension": ".py",
   "mimetype": "text/x-python",
   "name": "python",
   "nbconvert_exporter": "python",
   "pygments_lexer": "ipython3",
   "version": "3.6.5"
  }
 },
 "nbformat": 4,
 "nbformat_minor": 2
}
