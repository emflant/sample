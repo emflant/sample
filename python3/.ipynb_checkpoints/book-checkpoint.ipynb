{
 "cells": [
  {
   "cell_type": "code",
   "execution_count": 1,
   "metadata": {},
   "outputs": [],
   "source": [
    "class Book:\n",
    "    \n",
    "    today = '20180520'\n",
    "    \n",
    "    def __init__(self, title, author):\n",
    "        self.title = title\n",
    "        self.author = author\n",
    "        self.borrowed = False\n",
    "        \n",
    "    def borrow(self):\n",
    "        self.borrowed = True\n",
    "    \n",
    "    def takeBack(self):\n",
    "        self.borrowed = False\n",
    "        \n",
    "    def printinfo(self):\n",
    "        log = []\n",
    "        log.append(\"book : \")\n",
    "        log.append(\" - title : {}\".format(self.title))\n",
    "        log.append(\" - author : {}\".format(self.author))\n",
    "        log.append(\" - borrowed : {}\".format(self.borrowed))\n",
    "        print('\\n'.join(log))\n",
    "        "
   ]
  },
  {
   "cell_type": "code",
   "execution_count": 2,
   "metadata": {},
   "outputs": [],
   "source": [
    "b1 = Book(title='The art of computer', author=\"도널드\")"
   ]
  },
  {
   "cell_type": "code",
   "execution_count": 3,
   "metadata": {},
   "outputs": [
    {
     "name": "stdout",
     "output_type": "stream",
     "text": [
      "book : \n",
      " - title : The art of computer\n",
      " - author : 도널드\n",
      " - borrowed : False\n"
     ]
    }
   ],
   "source": [
    "b1.printinfo()\n"
   ]
  },
  {
   "cell_type": "code",
   "execution_count": 4,
   "metadata": {},
   "outputs": [],
   "source": [
    "b1.borrow()"
   ]
  },
  {
   "cell_type": "code",
   "execution_count": 6,
   "metadata": {},
   "outputs": [],
   "source": [
    "b1.takeBack()\n"
   ]
  },
  {
   "cell_type": "code",
   "execution_count": 7,
   "metadata": {},
   "outputs": [
    {
     "name": "stdout",
     "output_type": "stream",
     "text": [
      "book : \n",
      " - title : The art of computer\n",
      " - author : 도널드\n",
      " - borrowed : False\n"
     ]
    }
   ],
   "source": [
    "b1.printinfo()"
   ]
  },
  {
   "cell_type": "code",
   "execution_count": 11,
   "metadata": {},
   "outputs": [],
   "source": [
    "b2 = Book('The art of computer', '도널드')"
   ]
  },
  {
   "cell_type": "code",
   "execution_count": 12,
   "metadata": {},
   "outputs": [
    {
     "name": "stdout",
     "output_type": "stream",
     "text": [
      "book : \n",
      " - title : The art of computer\n",
      " - author : 도널드\n",
      " - borrowed : False\n"
     ]
    }
   ],
   "source": [
    "b2.printinfo()\n"
   ]
  },
  {
   "cell_type": "code",
   "execution_count": null,
   "metadata": {},
   "outputs": [],
   "source": []
  }
 ],
 "metadata": {
  "kernelspec": {
   "display_name": "Python 3",
   "language": "python",
   "name": "python3"
  },
  "language_info": {
   "codemirror_mode": {
    "name": "ipython",
    "version": 3
   },
   "file_extension": ".py",
   "mimetype": "text/x-python",
   "name": "python",
   "nbconvert_exporter": "python",
   "pygments_lexer": "ipython3",
   "version": "3.6.5"
  }
 },
 "nbformat": 4,
 "nbformat_minor": 2
}
