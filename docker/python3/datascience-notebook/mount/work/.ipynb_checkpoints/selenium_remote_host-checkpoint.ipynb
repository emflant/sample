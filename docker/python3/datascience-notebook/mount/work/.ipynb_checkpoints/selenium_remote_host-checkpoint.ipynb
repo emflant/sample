{
 "cells": [
  {
   "cell_type": "code",
   "execution_count": 1,
   "id": "useful-johnson",
   "metadata": {},
   "outputs": [],
   "source": [
    "from selenium import webdriver"
   ]
  },
  {
   "cell_type": "code",
   "execution_count": 2,
   "id": "pediatric-model",
   "metadata": {},
   "outputs": [],
   "source": [
    "firefox_options = webdriver.FirefoxOptions()"
   ]
  },
  {
   "cell_type": "code",
   "execution_count": 4,
   "id": "oriental-ordering",
   "metadata": {},
   "outputs": [],
   "source": [
    "driver = webdriver.Remote(command_executor='http://host.docker.internal:4444', options=firefox_options)"
   ]
  },
  {
   "cell_type": "code",
   "execution_count": 5,
   "id": "sustained-topic",
   "metadata": {},
   "outputs": [],
   "source": [
    "driver.get('http://www.naver.com')"
   ]
  },
  {
   "cell_type": "code",
   "execution_count": 6,
   "id": "drawn-heath",
   "metadata": {},
   "outputs": [],
   "source": [
    "driver.quit()"
   ]
  },
  {
   "cell_type": "code",
   "execution_count": null,
   "id": "everyday-average",
   "metadata": {},
   "outputs": [],
   "source": []
  }
 ],
 "metadata": {
  "kernelspec": {
   "display_name": "Python 3",
   "language": "python",
   "name": "python3"
  },
  "language_info": {
   "codemirror_mode": {
    "name": "ipython",
    "version": 3
   },
   "file_extension": ".py",
   "mimetype": "text/x-python",
   "name": "python",
   "nbconvert_exporter": "python",
   "pygments_lexer": "ipython3",
   "version": "3.8.8"
  }
 },
 "nbformat": 4,
 "nbformat_minor": 5
}
