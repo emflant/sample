{
 "cells": [
  {
   "cell_type": "code",
   "execution_count": 6,
   "id": "straight-webmaster",
   "metadata": {},
   "outputs": [],
   "source": [
    "from selenium import webdriver\n",
    "from selenium.webdriver.common.by import By\n",
    "from selenium.webdriver.common.keys import Keys\n",
    "\n",
    "# https://docs.python.org/3/library/configparser.html\n",
    "import configparser\n",
    "\n",
    "# https://docs.python.org/3/library/pathlib.html\n",
    "from pathlib import Path\n",
    "\n",
    "def read_shcard(yyyymm):\n",
    "    config = configparser.ConfigParser()\n",
    "    config.read(str(Path.home()) + '/data/my-config.ini')\n",
    "\n",
    "    firefox_options = webdriver.FirefoxOptions()\n",
    "    driver = webdriver.Remote(command_executor='http://host.docker.internal:4444', options=firefox_options)\n",
    "\n",
    "    driver.get('file://' + config['selenium']['shcard.path.' + yyyymm])\n",
    "    driver.find_element_by_xpath('//*[@id=\"password\"]').send_keys(config['default']['birth.yymmdd'] + Keys.ENTER)\n",
    "    driver.implicitly_wait(10)\n",
    "    \n",
    "    driver.find_element_by_xpath('/html/body/div[2]/div[2]/ul/li[2]/a').click()\n",
    "    # outer_html = driver.find_element_by_xpath('/html/body/div[2]/div[2]/div[3]/table[2]').get_attribute('outerHTML')\n",
    "    \n",
    "    outer_html = driver.page_source\n",
    "\n",
    "    p = Path(str(Path.home()) + '/data/card/result_html_' + yyyymm + '.html')\n",
    "    p.write_text(outer_html, encoding = 'euc-kr')\n",
    "\n",
    "    driver.quit()\n",
    "    \n",
    "\n",
    "read_shcard('202102')\n",
    "read_shcard('202103')\n",
    "read_shcard('202104')\n",
    "read_shcard('202105')\n",
    "read_shcard('202106')\n",
    "read_shcard('202107')"
   ]
  },
  {
   "cell_type": "code",
   "execution_count": 1,
   "id": "amended-genesis",
   "metadata": {},
   "outputs": [],
   "source": [
    "from selenium import webdriver\n",
    "from selenium.webdriver.common.by import By\n",
    "from selenium.webdriver.common.keys import Keys\n",
    "\n",
    "# https://docs.python.org/3/library/configparser.html\n",
    "import configparser\n",
    "\n",
    "# https://docs.python.org/3/library/pathlib.html\n",
    "from pathlib import Path"
   ]
  },
  {
   "cell_type": "code",
   "execution_count": 2,
   "id": "banner-conviction",
   "metadata": {},
   "outputs": [
    {
     "data": {
      "text/plain": [
       "['/home/jovyan/data/my-config.ini']"
      ]
     },
     "execution_count": 2,
     "metadata": {},
     "output_type": "execute_result"
    }
   ],
   "source": [
    "config = configparser.ConfigParser()\n",
    "config.read(str(Path.home()) + '/data/my-config.ini')"
   ]
  },
  {
   "cell_type": "code",
   "execution_count": 12,
   "id": "informational-adapter",
   "metadata": {},
   "outputs": [],
   "source": [
    "firefox_options = webdriver.FirefoxOptions()\n",
    "driver = webdriver.Remote(command_executor='http://host.docker.internal:4444', options=firefox_options)"
   ]
  },
  {
   "cell_type": "code",
   "execution_count": 13,
   "id": "present-documentation",
   "metadata": {},
   "outputs": [],
   "source": [
    "driver.get('file://' + config['selenium']['sscard.path.202101'])"
   ]
  },
  {
   "cell_type": "code",
   "execution_count": 14,
   "id": "distinguished-husband",
   "metadata": {},
   "outputs": [],
   "source": [
    "# //*[@id=\"password\"]\n",
    "driver.find_element_by_xpath('//*[@id=\"password\"]').send_keys(config['default']['birth.yymmdd'] + Keys.ENTER)"
   ]
  },
  {
   "cell_type": "code",
   "execution_count": 15,
   "id": "opponent-affair",
   "metadata": {},
   "outputs": [],
   "source": [
    "driver.implicitly_wait(10)"
   ]
  },
  {
   "cell_type": "code",
   "execution_count": 9,
   "id": "reasonable-spencer",
   "metadata": {},
   "outputs": [],
   "source": [
    "# button.btn_inquiry:nth-child(1)\n",
    "driver.find_element_by_css_selector('button.btn_inquiry:nth-child(1)').click()"
   ]
  },
  {
   "cell_type": "code",
   "execution_count": 16,
   "id": "banner-politics",
   "metadata": {},
   "outputs": [
    {
     "ename": "AttributeError",
     "evalue": "'SwitchTo' object has no attribute 'new_window'",
     "output_type": "error",
     "traceback": [
      "\u001b[0;31m---------------------------------------------------------------------------\u001b[0m",
      "\u001b[0;31mAttributeError\u001b[0m                            Traceback (most recent call last)",
      "\u001b[0;32m<ipython-input-16-97e5bcb481ff>\u001b[0m in \u001b[0;36m<module>\u001b[0;34m\u001b[0m\n\u001b[0;32m----> 1\u001b[0;31m \u001b[0mdriver\u001b[0m\u001b[0;34m.\u001b[0m\u001b[0mswitch_to\u001b[0m\u001b[0;34m.\u001b[0m\u001b[0mnew_window\u001b[0m\u001b[0;34m(\u001b[0m\u001b[0;34m'tab'\u001b[0m\u001b[0;34m)\u001b[0m\u001b[0;34m\u001b[0m\u001b[0;34m\u001b[0m\u001b[0m\n\u001b[0m",
      "\u001b[0;31mAttributeError\u001b[0m: 'SwitchTo' object has no attribute 'new_window'"
     ]
    }
   ],
   "source": [
    "driver.switch_to.new_window('tab')"
   ]
  },
  {
   "cell_type": "code",
   "execution_count": 17,
   "id": "hollow-marsh",
   "metadata": {},
   "outputs": [
    {
     "ename": "AttributeError",
     "evalue": "'SwitchTo' object has no attribute 'new_window'",
     "output_type": "error",
     "traceback": [
      "\u001b[0;31m---------------------------------------------------------------------------\u001b[0m",
      "\u001b[0;31mAttributeError\u001b[0m                            Traceback (most recent call last)",
      "\u001b[0;32m<ipython-input-17-e88d5218bca6>\u001b[0m in \u001b[0;36m<module>\u001b[0;34m\u001b[0m\n\u001b[0;32m----> 1\u001b[0;31m \u001b[0mdriver\u001b[0m\u001b[0;34m.\u001b[0m\u001b[0mswitch_to\u001b[0m\u001b[0;34m.\u001b[0m\u001b[0mnew_window\u001b[0m\u001b[0;34m(\u001b[0m\u001b[0;34m'window'\u001b[0m\u001b[0;34m)\u001b[0m\u001b[0;34m\u001b[0m\u001b[0;34m\u001b[0m\u001b[0m\n\u001b[0m",
      "\u001b[0;31mAttributeError\u001b[0m: 'SwitchTo' object has no attribute 'new_window'"
     ]
    }
   ],
   "source": [
    "driver.switch_to.new_window('window')"
   ]
  },
  {
   "cell_type": "code",
   "execution_count": null,
   "id": "exotic-lounge",
   "metadata": {},
   "outputs": [],
   "source": []
  }
 ],
 "metadata": {
  "kernelspec": {
   "display_name": "Python 3",
   "language": "python",
   "name": "python3"
  },
  "language_info": {
   "codemirror_mode": {
    "name": "ipython",
    "version": 3
   },
   "file_extension": ".py",
   "mimetype": "text/x-python",
   "name": "python",
   "nbconvert_exporter": "python",
   "pygments_lexer": "ipython3",
   "version": "3.8.8"
  }
 },
 "nbformat": 4,
 "nbformat_minor": 5
}
