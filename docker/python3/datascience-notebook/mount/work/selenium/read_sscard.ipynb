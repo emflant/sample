{
 "cells": [
  {
   "cell_type": "code",
   "execution_count": 6,
   "id": "extraordinary-maryland",
   "metadata": {},
   "outputs": [],
   "source": [
    "from selenium import webdriver\n",
    "from selenium.webdriver.common.by import By\n",
    "from selenium.webdriver.common.keys import Keys\n",
    "\n",
    "# https://docs.python.org/3/library/configparser.html\n",
    "import configparser\n",
    "\n",
    "# https://docs.python.org/3/library/pathlib.html\n",
    "from pathlib import Path\n",
    "\n",
    "def read_shcard(yyyymm):\n",
    "    config = configparser.ConfigParser()\n",
    "    config.read(str(Path.home()) + '/data/my-config.ini')\n",
    "\n",
    "    firefox_options = webdriver.FirefoxOptions()\n",
    "    driver = webdriver.Remote(command_executor='http://host.docker.internal:4444', options=firefox_options)\n",
    "\n",
    "    driver.get('file://' + config['selenium']['shcard.path.' + yyyymm])\n",
    "    driver.find_element_by_xpath('//*[@id=\"password\"]').send_keys(config['default']['birth.yymmdd'] + Keys.ENTER)\n",
    "    driver.implicitly_wait(10)\n",
    "    \n",
    "    driver.find_element_by_xpath('/html/body/div[2]/div[2]/ul/li[2]/a').click()\n",
    "    # outer_html = driver.find_element_by_xpath('/html/body/div[2]/div[2]/div[3]/table[2]').get_attribute('outerHTML')\n",
    "    \n",
    "    outer_html = driver.page_source\n",
    "\n",
    "    p = Path(str(Path.home()) + '/data/card/result_html_' + yyyymm + '.html')\n",
    "    p.write_text(outer_html, encoding = 'euc-kr')\n",
    "\n",
    "    driver.quit()\n",
    "    \n",
    "\n",
    "read_shcard('202102')\n",
    "read_shcard('202103')\n",
    "read_shcard('202104')\n",
    "read_shcard('202105')\n",
    "read_shcard('202106')\n",
    "read_shcard('202107')"
   ]
  },
  {
   "cell_type": "code",
   "execution_count": 7,
   "id": "silent-offset",
   "metadata": {},
   "outputs": [],
   "source": [
    "from selenium import webdriver\n",
    "from selenium.webdriver.common.by import By\n",
    "from selenium.webdriver.common.keys import Keys\n",
    "\n",
    "# https://docs.python.org/3/library/configparser.html\n",
    "import configparser\n",
    "\n",
    "# https://docs.python.org/3/library/pathlib.html\n",
    "from pathlib import Path"
   ]
  },
  {
   "cell_type": "code",
   "execution_count": 33,
   "id": "architectural-modification",
   "metadata": {},
   "outputs": [
    {
     "data": {
      "text/plain": [
       "['/home/jovyan/data/my-config.ini']"
      ]
     },
     "execution_count": 33,
     "metadata": {},
     "output_type": "execute_result"
    }
   ],
   "source": [
    "config = configparser.ConfigParser()\n",
    "config.read(str(Path.home()) + '/data/my-config.ini')"
   ]
  },
  {
   "cell_type": "code",
   "execution_count": 83,
   "id": "directed-grade",
   "metadata": {},
   "outputs": [],
   "source": [
    "# https://support.mozilla.org/en-US/kb/profiles-where-firefox-stores-user-data#w_finding-your-profile-without-opening-firefox\n",
    "firefox_options = webdriver.FirefoxOptions()\n",
    "firefox_options.set_preference('browser.download.dir', '~/data/card/downloads/')\n",
    "firefox_options.set_preference('browser.download.folderList', 2)\n",
    "\n",
    "# https://stackoverflow.com/questions/974079/setting-mime-type-for-excel-document\n",
    "firefox_options.set_preference('browser.helperApps.neverAsk.saveToDisk', \"application/vnd.ms-excel\")\n",
    "\n",
    "driver = webdriver.Remote(command_executor='http://host.docker.internal:4444', options=firefox_options)\n",
    "driver.get('file://' + config['selenium']['sscard.path.202101'])\n",
    "\n",
    "# //*[@id=\"password\"]\n",
    "driver.find_element_by_xpath('//*[@id=\"password\"]').send_keys(config['default']['birth.yymmdd'] + Keys.ENTER)\n",
    "\n",
    "driver.implicitly_wait(20)\n",
    "# button.btn_inquiry:nth-child(1)\n",
    "driver.find_element_by_css_selector('button.btn_inquiry:nth-child(1)').click()"
   ]
  },
  {
   "cell_type": "code",
   "execution_count": 84,
   "id": "northern-principle",
   "metadata": {},
   "outputs": [],
   "source": [
    "# button.btn_inquiry:nth-child(1)\n",
    "driver.find_element_by_css_selector('button.btn_inquiry:nth-child(1)').click()"
   ]
  },
  {
   "cell_type": "code",
   "execution_count": null,
   "id": "opposed-gauge",
   "metadata": {},
   "outputs": [],
   "source": []
  }
 ],
 "metadata": {
  "kernelspec": {
   "display_name": "Python 3",
   "language": "python",
   "name": "python3"
  },
  "language_info": {
   "codemirror_mode": {
    "name": "ipython",
    "version": 3
   },
   "file_extension": ".py",
   "mimetype": "text/x-python",
   "name": "python",
   "nbconvert_exporter": "python",
   "pygments_lexer": "ipython3",
   "version": "3.8.8"
  }
 },
 "nbformat": 4,
 "nbformat_minor": 5
}
