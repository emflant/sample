{
 "cells": [
  {
   "cell_type": "code",
   "execution_count": 12,
   "id": "municipal-station",
   "metadata": {},
   "outputs": [],
   "source": [
    "from selenium import webdriver"
   ]
  },
  {
   "cell_type": "code",
   "execution_count": 13,
   "id": "geological-component",
   "metadata": {},
   "outputs": [],
   "source": [
    "firefox_options = webdriver.FirefoxOptions()"
   ]
  },
  {
   "cell_type": "code",
   "execution_count": 14,
   "id": "warming-corporation",
   "metadata": {},
   "outputs": [],
   "source": [
    "driver = webdriver.Remote(command_executor='http://host.docker.internal:4444', options=firefox_options)"
   ]
  },
  {
   "cell_type": "code",
   "execution_count": 15,
   "id": "severe-saint",
   "metadata": {},
   "outputs": [],
   "source": [
    "driver.get('http://www.naver.com')"
   ]
  },
  {
   "cell_type": "code",
   "execution_count": 11,
   "id": "digital-recruitment",
   "metadata": {},
   "outputs": [],
   "source": [
    "driver.quit()"
   ]
  }
 ],
 "metadata": {
  "kernelspec": {
   "display_name": "Python 3",
   "language": "python",
   "name": "python3"
  },
  "language_info": {
   "codemirror_mode": {
    "name": "ipython",
    "version": 3
   },
   "file_extension": ".py",
   "mimetype": "text/x-python",
   "name": "python",
   "nbconvert_exporter": "python",
   "pygments_lexer": "ipython3",
   "version": "3.8.8"
  }
 },
 "nbformat": 4,
 "nbformat_minor": 5
}
