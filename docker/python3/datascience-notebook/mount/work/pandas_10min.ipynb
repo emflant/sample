{
 "cells": [
  {
   "cell_type": "code",
   "execution_count": 1,
   "id": "smaller-climate",
   "metadata": {},
   "outputs": [],
   "source": [
    "import numpy as np"
   ]
  },
  {
   "cell_type": "code",
   "execution_count": 2,
   "id": "satisfactory-horizon",
   "metadata": {},
   "outputs": [],
   "source": [
    "import pandas as pd"
   ]
  },
  {
   "cell_type": "code",
   "execution_count": 12,
   "id": "educated-kidney",
   "metadata": {},
   "outputs": [],
   "source": [
    "s = pd.Series(np.random.randn(5), index = [\"a\", \"b\", \"c\", \"d\", \"e\"])"
   ]
  },
  {
   "cell_type": "code",
   "execution_count": 20,
   "id": "flying-twins",
   "metadata": {},
   "outputs": [
    {
     "data": {
      "text/plain": [
       "a    0.454259\n",
       "b   -1.587229\n",
       "c   -0.220645\n",
       "d   -1.729887\n",
       "e   -0.010180\n",
       "dtype: float64"
      ]
     },
     "execution_count": 20,
     "metadata": {},
     "output_type": "execute_result"
    }
   ],
   "source": [
    "s"
   ]
  },
  {
   "cell_type": "code",
   "execution_count": 17,
   "id": "available-decade",
   "metadata": {},
   "outputs": [
    {
     "data": {
      "text/plain": [
       "0.4542591418789833"
      ]
     },
     "execution_count": 17,
     "metadata": {},
     "output_type": "execute_result"
    }
   ],
   "source": [
    "s.a"
   ]
  },
  {
   "cell_type": "code",
   "execution_count": 19,
   "id": "substantial-estate",
   "metadata": {},
   "outputs": [
    {
     "data": {
      "text/plain": [
       "-0.22064538405789721"
      ]
     },
     "execution_count": 19,
     "metadata": {},
     "output_type": "execute_result"
    }
   ],
   "source": [
    "s.c"
   ]
  },
  {
   "cell_type": "code",
   "execution_count": 21,
   "id": "valuable-ghana",
   "metadata": {},
   "outputs": [
    {
     "data": {
      "text/plain": [
       "a    0.454259\n",
       "b   -1.587229\n",
       "c   -0.220645\n",
       "dtype: float64"
      ]
     },
     "execution_count": 21,
     "metadata": {},
     "output_type": "execute_result"
    }
   ],
   "source": [
    "s[:3]"
   ]
  },
  {
   "cell_type": "code",
   "execution_count": 23,
   "id": "unnecessary-saying",
   "metadata": {},
   "outputs": [
    {
     "data": {
      "text/plain": [
       "b   -1.587229\n",
       "c   -0.220645\n",
       "d   -1.729887\n",
       "dtype: float64"
      ]
     },
     "execution_count": 23,
     "metadata": {},
     "output_type": "execute_result"
    }
   ],
   "source": [
    "s[[1,2,3]]"
   ]
  },
  {
   "cell_type": "code",
   "execution_count": null,
   "id": "increasing-saying",
   "metadata": {},
   "outputs": [],
   "source": []
  }
 ],
 "metadata": {
  "kernelspec": {
   "display_name": "Python 3",
   "language": "python",
   "name": "python3"
  },
  "language_info": {
   "codemirror_mode": {
    "name": "ipython",
    "version": 3
   },
   "file_extension": ".py",
   "mimetype": "text/x-python",
   "name": "python",
   "nbconvert_exporter": "python",
   "pygments_lexer": "ipython3",
   "version": "3.8.8"
  }
 },
 "nbformat": 4,
 "nbformat_minor": 5
}
